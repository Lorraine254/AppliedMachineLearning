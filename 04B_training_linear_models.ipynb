{
 "cells": [
  {
   "cell_type": "markdown",
   "metadata": {},
   "source": [
    "**Learning Curves for Linear Regression**\n",
    "\n",
    "Learning curves help us understand how a model's performance changes as we increase the training data size. A plot of training error and validation error versus training set size can provide insights into whether a model is underfitting, overfitting, or performing well."
   ]
  },
  {
   "cell_type": "code",
   "execution_count": 1,
   "metadata": {},
   "outputs": [],
   "source": [
    "import numpy as np\n",
    "import matplotlib.pyplot as plt\n",
    "from sklearn.model_selection  import train_test_split\n",
    "from sklearn.metrics          import mean_squared_error \n",
    "from sklearn.datasets         import fetch_openml\n",
    "import plotly.express as px\n",
    "\n",
    "\n",
    "from sklearn.compose       import ColumnTransformer\n",
    "from sklearn.preprocessing import StandardScaler, OneHotEncoder\n",
    "from sklearn.pipeline      import Pipeline\n",
    "from sklearn.impute        import SimpleImputer\n"
   ]
  },
  {
   "cell_type": "code",
   "execution_count": 8,
   "metadata": {},
   "outputs": [
    {
     "name": "stderr",
     "output_type": "stream",
     "text": [
      "C:\\Users\\USER\\AppData\\Local\\Temp\\ipykernel_7684\\223570986.py:3: SettingWithCopyWarning: \n",
      "A value is trying to be set on a copy of a slice from a DataFrame\n",
      "\n",
      "See the caveats in the documentation: https://pandas.pydata.org/pandas-docs/stable/user_guide/indexing.html#returning-a-view-versus-a-copy\n",
      "  housing_sale.data.drop('date',axis=1,inplace=True)\n"
     ]
    }
   ],
   "source": [
    "# Load the California housing dataset from OpenML\n",
    "housing_sale = fetch_openml(name='house_sales', version=1,parser='pandas',target_column='price')\n",
    "housing_sale.data.drop('date',axis=1,inplace=True)\n",
    "X = housing_sale.data\n",
    "y = housing_sale.target"
   ]
  },
  {
   "cell_type": "code",
   "execution_count": 10,
   "metadata": {},
   "outputs": [
    {
     "data": {
      "text/html": [
       "<div>\n",
       "<style scoped>\n",
       "    .dataframe tbody tr th:only-of-type {\n",
       "        vertical-align: middle;\n",
       "    }\n",
       "\n",
       "    .dataframe tbody tr th {\n",
       "        vertical-align: top;\n",
       "    }\n",
       "\n",
       "    .dataframe thead th {\n",
       "        text-align: right;\n",
       "    }\n",
       "</style>\n",
       "<table border=\"1\" class=\"dataframe\">\n",
       "  <thead>\n",
       "    <tr style=\"text-align: right;\">\n",
       "      <th></th>\n",
       "      <th>bedrooms</th>\n",
       "      <th>bathrooms</th>\n",
       "      <th>sqft_living</th>\n",
       "      <th>sqft_lot</th>\n",
       "      <th>floors</th>\n",
       "      <th>waterfront</th>\n",
       "      <th>view</th>\n",
       "      <th>condition</th>\n",
       "      <th>grade</th>\n",
       "      <th>sqft_above</th>\n",
       "      <th>sqft_basement</th>\n",
       "      <th>yr_built</th>\n",
       "      <th>yr_renovated</th>\n",
       "      <th>zipcode</th>\n",
       "      <th>lat</th>\n",
       "      <th>long</th>\n",
       "      <th>sqft_living15</th>\n",
       "      <th>sqft_lot15</th>\n",
       "    </tr>\n",
       "  </thead>\n",
       "  <tbody>\n",
       "    <tr>\n",
       "      <th>0</th>\n",
       "      <td>3</td>\n",
       "      <td>1.00</td>\n",
       "      <td>1180</td>\n",
       "      <td>5650</td>\n",
       "      <td>1.0</td>\n",
       "      <td>0</td>\n",
       "      <td>0</td>\n",
       "      <td>3</td>\n",
       "      <td>7</td>\n",
       "      <td>1180</td>\n",
       "      <td>0</td>\n",
       "      <td>1955</td>\n",
       "      <td>0</td>\n",
       "      <td>98178</td>\n",
       "      <td>47.5112</td>\n",
       "      <td>-122.257</td>\n",
       "      <td>1340</td>\n",
       "      <td>5650</td>\n",
       "    </tr>\n",
       "    <tr>\n",
       "      <th>1</th>\n",
       "      <td>3</td>\n",
       "      <td>2.25</td>\n",
       "      <td>2570</td>\n",
       "      <td>7242</td>\n",
       "      <td>2.0</td>\n",
       "      <td>0</td>\n",
       "      <td>0</td>\n",
       "      <td>3</td>\n",
       "      <td>7</td>\n",
       "      <td>2170</td>\n",
       "      <td>400</td>\n",
       "      <td>1951</td>\n",
       "      <td>1991</td>\n",
       "      <td>98125</td>\n",
       "      <td>47.7210</td>\n",
       "      <td>-122.319</td>\n",
       "      <td>1690</td>\n",
       "      <td>7639</td>\n",
       "    </tr>\n",
       "    <tr>\n",
       "      <th>2</th>\n",
       "      <td>2</td>\n",
       "      <td>1.00</td>\n",
       "      <td>770</td>\n",
       "      <td>10000</td>\n",
       "      <td>1.0</td>\n",
       "      <td>0</td>\n",
       "      <td>0</td>\n",
       "      <td>3</td>\n",
       "      <td>6</td>\n",
       "      <td>770</td>\n",
       "      <td>0</td>\n",
       "      <td>1933</td>\n",
       "      <td>0</td>\n",
       "      <td>98028</td>\n",
       "      <td>47.7379</td>\n",
       "      <td>-122.233</td>\n",
       "      <td>2720</td>\n",
       "      <td>8062</td>\n",
       "    </tr>\n",
       "    <tr>\n",
       "      <th>3</th>\n",
       "      <td>4</td>\n",
       "      <td>3.00</td>\n",
       "      <td>1960</td>\n",
       "      <td>5000</td>\n",
       "      <td>1.0</td>\n",
       "      <td>0</td>\n",
       "      <td>0</td>\n",
       "      <td>5</td>\n",
       "      <td>7</td>\n",
       "      <td>1050</td>\n",
       "      <td>910</td>\n",
       "      <td>1965</td>\n",
       "      <td>0</td>\n",
       "      <td>98136</td>\n",
       "      <td>47.5208</td>\n",
       "      <td>-122.393</td>\n",
       "      <td>1360</td>\n",
       "      <td>5000</td>\n",
       "    </tr>\n",
       "    <tr>\n",
       "      <th>4</th>\n",
       "      <td>3</td>\n",
       "      <td>2.00</td>\n",
       "      <td>1680</td>\n",
       "      <td>8080</td>\n",
       "      <td>1.0</td>\n",
       "      <td>0</td>\n",
       "      <td>0</td>\n",
       "      <td>3</td>\n",
       "      <td>8</td>\n",
       "      <td>1680</td>\n",
       "      <td>0</td>\n",
       "      <td>1987</td>\n",
       "      <td>0</td>\n",
       "      <td>98074</td>\n",
       "      <td>47.6168</td>\n",
       "      <td>-122.045</td>\n",
       "      <td>1800</td>\n",
       "      <td>7503</td>\n",
       "    </tr>\n",
       "    <tr>\n",
       "      <th>...</th>\n",
       "      <td>...</td>\n",
       "      <td>...</td>\n",
       "      <td>...</td>\n",
       "      <td>...</td>\n",
       "      <td>...</td>\n",
       "      <td>...</td>\n",
       "      <td>...</td>\n",
       "      <td>...</td>\n",
       "      <td>...</td>\n",
       "      <td>...</td>\n",
       "      <td>...</td>\n",
       "      <td>...</td>\n",
       "      <td>...</td>\n",
       "      <td>...</td>\n",
       "      <td>...</td>\n",
       "      <td>...</td>\n",
       "      <td>...</td>\n",
       "      <td>...</td>\n",
       "    </tr>\n",
       "    <tr>\n",
       "      <th>21608</th>\n",
       "      <td>3</td>\n",
       "      <td>2.50</td>\n",
       "      <td>1530</td>\n",
       "      <td>1131</td>\n",
       "      <td>3.0</td>\n",
       "      <td>0</td>\n",
       "      <td>0</td>\n",
       "      <td>3</td>\n",
       "      <td>8</td>\n",
       "      <td>1530</td>\n",
       "      <td>0</td>\n",
       "      <td>2009</td>\n",
       "      <td>0</td>\n",
       "      <td>98103</td>\n",
       "      <td>47.6993</td>\n",
       "      <td>-122.346</td>\n",
       "      <td>1530</td>\n",
       "      <td>1509</td>\n",
       "    </tr>\n",
       "    <tr>\n",
       "      <th>21609</th>\n",
       "      <td>4</td>\n",
       "      <td>2.50</td>\n",
       "      <td>2310</td>\n",
       "      <td>5813</td>\n",
       "      <td>2.0</td>\n",
       "      <td>0</td>\n",
       "      <td>0</td>\n",
       "      <td>3</td>\n",
       "      <td>8</td>\n",
       "      <td>2310</td>\n",
       "      <td>0</td>\n",
       "      <td>2014</td>\n",
       "      <td>0</td>\n",
       "      <td>98146</td>\n",
       "      <td>47.5107</td>\n",
       "      <td>-122.362</td>\n",
       "      <td>1830</td>\n",
       "      <td>7200</td>\n",
       "    </tr>\n",
       "    <tr>\n",
       "      <th>21610</th>\n",
       "      <td>2</td>\n",
       "      <td>0.75</td>\n",
       "      <td>1020</td>\n",
       "      <td>1350</td>\n",
       "      <td>2.0</td>\n",
       "      <td>0</td>\n",
       "      <td>0</td>\n",
       "      <td>3</td>\n",
       "      <td>7</td>\n",
       "      <td>1020</td>\n",
       "      <td>0</td>\n",
       "      <td>2009</td>\n",
       "      <td>0</td>\n",
       "      <td>98144</td>\n",
       "      <td>47.5944</td>\n",
       "      <td>-122.299</td>\n",
       "      <td>1020</td>\n",
       "      <td>2007</td>\n",
       "    </tr>\n",
       "    <tr>\n",
       "      <th>21611</th>\n",
       "      <td>3</td>\n",
       "      <td>2.50</td>\n",
       "      <td>1600</td>\n",
       "      <td>2388</td>\n",
       "      <td>2.0</td>\n",
       "      <td>0</td>\n",
       "      <td>0</td>\n",
       "      <td>3</td>\n",
       "      <td>8</td>\n",
       "      <td>1600</td>\n",
       "      <td>0</td>\n",
       "      <td>2004</td>\n",
       "      <td>0</td>\n",
       "      <td>98027</td>\n",
       "      <td>47.5345</td>\n",
       "      <td>-122.069</td>\n",
       "      <td>1410</td>\n",
       "      <td>1287</td>\n",
       "    </tr>\n",
       "    <tr>\n",
       "      <th>21612</th>\n",
       "      <td>2</td>\n",
       "      <td>0.75</td>\n",
       "      <td>1020</td>\n",
       "      <td>1076</td>\n",
       "      <td>2.0</td>\n",
       "      <td>0</td>\n",
       "      <td>0</td>\n",
       "      <td>3</td>\n",
       "      <td>7</td>\n",
       "      <td>1020</td>\n",
       "      <td>0</td>\n",
       "      <td>2008</td>\n",
       "      <td>0</td>\n",
       "      <td>98144</td>\n",
       "      <td>47.5941</td>\n",
       "      <td>-122.299</td>\n",
       "      <td>1020</td>\n",
       "      <td>1357</td>\n",
       "    </tr>\n",
       "  </tbody>\n",
       "</table>\n",
       "<p>21613 rows × 18 columns</p>\n",
       "</div>"
      ],
      "text/plain": [
       "       bedrooms  bathrooms  sqft_living  sqft_lot  floors  waterfront  view  \\\n",
       "0             3       1.00         1180      5650     1.0           0     0   \n",
       "1             3       2.25         2570      7242     2.0           0     0   \n",
       "2             2       1.00          770     10000     1.0           0     0   \n",
       "3             4       3.00         1960      5000     1.0           0     0   \n",
       "4             3       2.00         1680      8080     1.0           0     0   \n",
       "...         ...        ...          ...       ...     ...         ...   ...   \n",
       "21608         3       2.50         1530      1131     3.0           0     0   \n",
       "21609         4       2.50         2310      5813     2.0           0     0   \n",
       "21610         2       0.75         1020      1350     2.0           0     0   \n",
       "21611         3       2.50         1600      2388     2.0           0     0   \n",
       "21612         2       0.75         1020      1076     2.0           0     0   \n",
       "\n",
       "       condition  grade  sqft_above  sqft_basement  yr_built  yr_renovated  \\\n",
       "0              3      7        1180              0      1955             0   \n",
       "1              3      7        2170            400      1951          1991   \n",
       "2              3      6         770              0      1933             0   \n",
       "3              5      7        1050            910      1965             0   \n",
       "4              3      8        1680              0      1987             0   \n",
       "...          ...    ...         ...            ...       ...           ...   \n",
       "21608          3      8        1530              0      2009             0   \n",
       "21609          3      8        2310              0      2014             0   \n",
       "21610          3      7        1020              0      2009             0   \n",
       "21611          3      8        1600              0      2004             0   \n",
       "21612          3      7        1020              0      2008             0   \n",
       "\n",
       "       zipcode      lat     long  sqft_living15  sqft_lot15  \n",
       "0        98178  47.5112 -122.257           1340        5650  \n",
       "1        98125  47.7210 -122.319           1690        7639  \n",
       "2        98028  47.7379 -122.233           2720        8062  \n",
       "3        98136  47.5208 -122.393           1360        5000  \n",
       "4        98074  47.6168 -122.045           1800        7503  \n",
       "...        ...      ...      ...            ...         ...  \n",
       "21608    98103  47.6993 -122.346           1530        1509  \n",
       "21609    98146  47.5107 -122.362           1830        7200  \n",
       "21610    98144  47.5944 -122.299           1020        2007  \n",
       "21611    98027  47.5345 -122.069           1410        1287  \n",
       "21612    98144  47.5941 -122.299           1020        1357  \n",
       "\n",
       "[21613 rows x 18 columns]"
      ]
     },
     "execution_count": 10,
     "metadata": {},
     "output_type": "execute_result"
    }
   ],
   "source": [
    "X"
   ]
  },
  {
   "cell_type": "code",
   "execution_count": 3,
   "metadata": {},
   "outputs": [
    {
     "name": "stdout",
     "output_type": "stream",
     "text": [
      "bedrooms           int64\n",
      "bathrooms        float64\n",
      "sqft_living        int64\n",
      "sqft_lot           int64\n",
      "floors           float64\n",
      "waterfront         int64\n",
      "view               int64\n",
      "condition          int64\n",
      "grade              int64\n",
      "sqft_above         int64\n",
      "sqft_basement      int64\n",
      "yr_built           int64\n",
      "yr_renovated       int64\n",
      "zipcode            int64\n",
      "lat              float64\n",
      "long             float64\n",
      "sqft_living15      int64\n",
      "sqft_lot15         int64\n",
      "dtype: object\n"
     ]
    }
   ],
   "source": [
    "# Display data types to check for categorical features\n",
    "print(X.dtypes)"
   ]
  },
  {
   "cell_type": "code",
   "execution_count": 4,
   "metadata": {},
   "outputs": [],
   "source": [
    "categorical_features = X.select_dtypes(include=['object','category']).columns.tolist()\n",
    "numeric_features     = X.select_dtypes(include=['int64','float64']).columns.tolist()\n",
    "\n",
    "# Preprocessor for numeric data\n",
    "numeric_transformer = Pipeline(steps=[\n",
    "    ('imputer', SimpleImputer(strategy='median')),\n",
    "    ('scaler', StandardScaler())\n",
    "])\n",
    "\n",
    "# Preprocessor for categorical data\n",
    "categorical_transformer = Pipeline(steps=[\n",
    "    ('imputer', SimpleImputer(strategy='constant', fill_value='missing')),\n",
    "    ('onehot', OneHotEncoder(handle_unknown='ignore'))\n",
    "])\n",
    "\n",
    "# Combine preprocessing for both types of data\n",
    "preprocessor = ColumnTransformer(\n",
    "    transformers=[\n",
    "        ('num', numeric_transformer, numeric_features),\n",
    "        ('cat', categorical_transformer, categorical_features)\n",
    "    ]\n",
    ")\n",
    "\n",
    "# Preprocess the data\n",
    "X_processed = preprocessor.fit_transform(X)"
   ]
  },
  {
   "cell_type": "code",
   "execution_count": 5,
   "metadata": {},
   "outputs": [],
   "source": [
    "# Split the data into training and test sets\n",
    "X_train, X_test, y_train, y_test = train_test_split(X_processed, y, test_size=0.2, random_state=42)"
   ]
  },
  {
   "cell_type": "markdown",
   "metadata": {},
   "source": [
    "**A Function to plot the Learning Curves**"
   ]
  },
  {
   "cell_type": "markdown",
   "metadata": {},
   "source": [
    "- The purpose any ML is to develop a model that generalizes well\n",
    "\n",
    "- Train the model --->model and test on train data ---->model to predict on the test.\n",
    "\n",
    "- "
   ]
  },
  {
   "cell_type": "code",
   "execution_count": 6,
   "metadata": {},
   "outputs": [],
   "source": [
    "def plot_learning_curves_plotly(model, X_train, y_train, X_val, y_val, start_size=20, end_size=200):\n",
    "    \n",
    "    train_errors, val_errors = [], []\n",
    "    for m in range(start_size, end_size):\n",
    "        # Fit the model on the subset of the training data\n",
    "        model.fit(X_train[:m], y_train[:m])\n",
    "        \n",
    "        # Predict on the training and validation sets\n",
    "        y_train_predict = model.predict(X_train[:m]) #Train data\n",
    "        y_val_predict = model.predict(X_val) # Test Data\n",
    "        \n",
    "        # Calculate mean squared error for both sets\n",
    "        train_errors.append(mean_squared_error(y_train[:m], y_train_predict)) #Train\n",
    "        val_errors.append(mean_squared_error(y_val, y_val_predict)) # T\n",
    "\n",
    "    # Convert errors to square root (Root Mean Squared Error)\n",
    "    train_errors = np.sqrt(train_errors)\n",
    "    val_errors   = np.sqrt(val_errors)\n",
    "\n",
    "    # Prepare data for Plotly Express\n",
    "    data = {\n",
    "        \"Training Set Size\": list(range(start_size, end_size)),\n",
    "        \"Training Error\"   : train_errors,\n",
    "        \"Validation|Test Error\" : val_errors\n",
    "    }\n",
    "\n",
    "    # Plot the learning curves\n",
    "    fig = px.line(\n",
    "        data_frame=data,\n",
    "        x=\"Training Set Size\",\n",
    "        y=[\"Training Error\", \"Validation|Test Error\"],\n",
    "        labels={\"value\": \"Root Mean Squared Error (RMSE)\", \"variable\": \"Error Type\"},\n",
    "        title=\"Learning Curves\"\n",
    "    )\n",
    "    fig.show()\n",
    "\n"
   ]
  },
  {
   "cell_type": "code",
   "execution_count": 12,
   "metadata": {},
   "outputs": [
    {
     "data": {
      "application/vnd.plotly.v1+json": {
       "config": {
        "plotlyServerURL": "https://plot.ly"
       },
       "data": [
        {
         "hovertemplate": "Error Type=Training Error<br>Training Set Size=%{x}<br>Root Mean Squared Error (RMSE)=%{y}<extra></extra>",
         "legendgroup": "Training Error",
         "line": {
          "color": "#636efa",
          "dash": "solid"
         },
         "marker": {
          "symbol": "circle"
         },
         "mode": "lines",
         "name": "Training Error",
         "orientation": "v",
         "showlegend": true,
         "type": "scatter",
         "x": [
          20,
          21,
          22,
          23,
          24,
          25,
          26,
          27,
          28,
          29,
          30,
          31,
          32,
          33,
          34,
          35,
          36,
          37,
          38,
          39,
          40,
          41,
          42,
          43,
          44,
          45,
          46,
          47,
          48,
          49,
          50,
          51,
          52,
          53,
          54,
          55,
          56,
          57,
          58,
          59,
          60,
          61,
          62,
          63,
          64,
          65,
          66,
          67,
          68,
          69,
          70,
          71,
          72,
          73,
          74,
          75,
          76,
          77,
          78,
          79,
          80,
          81,
          82,
          83,
          84,
          85,
          86,
          87,
          88,
          89,
          90,
          91,
          92,
          93,
          94,
          95,
          96,
          97,
          98,
          99,
          100,
          101,
          102,
          103,
          104,
          105,
          106,
          107,
          108,
          109,
          110,
          111,
          112,
          113,
          114,
          115,
          116,
          117,
          118,
          119,
          120,
          121,
          122,
          123,
          124,
          125,
          126,
          127,
          128,
          129,
          130,
          131,
          132,
          133,
          134,
          135,
          136,
          137,
          138,
          139,
          140,
          141,
          142,
          143,
          144,
          145,
          146,
          147,
          148,
          149,
          150,
          151,
          152,
          153,
          154,
          155,
          156,
          157,
          158,
          159,
          160,
          161,
          162,
          163,
          164,
          165,
          166,
          167,
          168,
          169,
          170,
          171,
          172,
          173,
          174,
          175,
          176,
          177,
          178,
          179,
          180,
          181,
          182,
          183,
          184,
          185,
          186,
          187,
          188,
          189,
          190,
          191,
          192,
          193,
          194,
          195,
          196,
          197,
          198,
          199
         ],
         "xaxis": "x",
         "y": [
          43775.417269880505,
          62795.116720326,
          61394.320042916086,
          63234.24533727654,
          68079.17838671795,
          74612.10355257404,
          75542.14527503098,
          77760.42329600503,
          76563.19188203213,
          75334.78062404378,
          75953.03727840408,
          74724.82174815256,
          80492.48037296363,
          85138.8946015811,
          84308.11346481877,
          83155.70453941089,
          83825.16027022316,
          93811.29938399805,
          93452.79079634548,
          96886.0588553923,
          96462.36913168042,
          95797.59212091999,
          95197.71630175418,
          94095.09356661985,
          94991.3632723132,
          94145.45123172694,
          102563.76762475814,
          103226.57987428404,
          105100.09233852707,
          104274.26831981307,
          103235.98201049212,
          103820.49053966552,
          115030.32318030336,
          113980.1828482357,
          113197.50235652759,
          114123.9685062061,
          113396.13729557219,
          112411.30795271271,
          111449.30408308168,
          110503.2755921205,
          109960.66379889491,
          111397.70683211145,
          131715.72412208584,
          131447.87037176942,
          132933.32077765823,
          131938.3000570041,
          131025.99957825277,
          130048.4881009389,
          129131.71089437715,
          128224.04019633612,
          127419.2131570135,
          126521.03984598817,
          125644.50161735994,
          125139.83475437119,
          124324.85951041398,
          123716.4435161299,
          123145.37532373027,
          122854.81284418362,
          124602.80915374185,
          129632.41254634809,
          129184.56070749986,
          128471.48847316249,
          128624.79532125202,
          127859.19060302677,
          128573.36158557681,
          129887.33991097579,
          129130.47101887208,
          128462.63935828353,
          127755.12259987333,
          128082.45459592823,
          128108.17529081744,
          130004.42159566874,
          129561.21231690263,
          129019.09462260907,
          128437.553840413,
          129113.41566754921,
          128443.72736920607,
          135121.49257998867,
          134817.71014286895,
          134897.94891443817,
          136502.5224309504,
          135928.66471822528,
          135267.78893624333,
          134610.31075871864,
          134232.3008653032,
          133595.7350768828,
          132976.3587911599,
          133798.34452382667,
          133253.27880506645,
          132643.37755870246,
          132558.3472742715,
          132853.44824452559,
          132965.02003445494,
          133623.74633577562,
          133144.98679096642,
          132746.15682366054,
          133199.48309804173,
          132992.28375810382,
          132443.22563960723,
          131896.9547895399,
          132121.63804771184,
          131586.346467799,
          131101.94691107087,
          130737.95540487768,
          130215.66086854751,
          134697.56174865185,
          134263.4459263809,
          133820.66122729113,
          133314.28907720323,
          132950.39540005635,
          132513.35997829243,
          132100.63916024216,
          132760.51624792372,
          132263.88958368343,
          132912.49915207547,
          132797.06584551765,
          132478.8797710836,
          133745.53503681507,
          142106.4654828624,
          141672.12742240273,
          141248.77350634497,
          140749.92303334834,
          140254.0793661047,
          140177.52827871914,
          139709.76953905873,
          139961.05488594167,
          140858.8603018944,
          143963.092725396,
          143490.1891266582,
          143010.09270468136,
          143048.77641313378,
          142864.48800329442,
          142490.2529039898,
          142049.61995889922,
          141629.82272784383,
          141322.20699729735,
          142845.36647358706,
          142389.8072715373,
          141958.27982168354,
          141565.15134000665,
          141147.65537083952,
          141116.39702668082,
          141028.03527634288,
          141203.2525232006,
          141260.5252886882,
          140882.58397348074,
          140572.03278754116,
          140677.03640968955,
          140306.5899557119,
          140366.97645764577,
          140506.13315114888,
          140194.4396309917,
          139796.60743959734,
          139391.9854406261,
          138990.87048767772,
          138767.1439296987,
          138725.42488725943,
          139947.51464875988,
          139905.32586007097,
          140988.90143560775,
          140634.67828362668,
          141479.48795928626,
          141151.98547744576,
          140784.3076682954,
          140808.95560565375,
          140678.59804020208,
          141011.07989254943,
          140731.46879063052,
          140858.2111430485,
          140494.74843946425,
          140987.2948812554,
          141171.2772105824,
          140893.0681676858,
          140544.10885486353,
          140248.6632086168,
          139918.13298496837,
          139732.37127884838,
          139377.30751470203,
          139315.6953503917,
          139184.49680459496
         ],
         "yaxis": "y"
        },
        {
         "hovertemplate": "Error Type=Validation|Test Error<br>Training Set Size=%{x}<br>Root Mean Squared Error (RMSE)=%{y}<extra></extra>",
         "legendgroup": "Validation|Test Error",
         "line": {
          "color": "#EF553B",
          "dash": "solid"
         },
         "marker": {
          "symbol": "circle"
         },
         "mode": "lines",
         "name": "Validation|Test Error",
         "orientation": "v",
         "showlegend": true,
         "type": "scatter",
         "x": [
          20,
          21,
          22,
          23,
          24,
          25,
          26,
          27,
          28,
          29,
          30,
          31,
          32,
          33,
          34,
          35,
          36,
          37,
          38,
          39,
          40,
          41,
          42,
          43,
          44,
          45,
          46,
          47,
          48,
          49,
          50,
          51,
          52,
          53,
          54,
          55,
          56,
          57,
          58,
          59,
          60,
          61,
          62,
          63,
          64,
          65,
          66,
          67,
          68,
          69,
          70,
          71,
          72,
          73,
          74,
          75,
          76,
          77,
          78,
          79,
          80,
          81,
          82,
          83,
          84,
          85,
          86,
          87,
          88,
          89,
          90,
          91,
          92,
          93,
          94,
          95,
          96,
          97,
          98,
          99,
          100,
          101,
          102,
          103,
          104,
          105,
          106,
          107,
          108,
          109,
          110,
          111,
          112,
          113,
          114,
          115,
          116,
          117,
          118,
          119,
          120,
          121,
          122,
          123,
          124,
          125,
          126,
          127,
          128,
          129,
          130,
          131,
          132,
          133,
          134,
          135,
          136,
          137,
          138,
          139,
          140,
          141,
          142,
          143,
          144,
          145,
          146,
          147,
          148,
          149,
          150,
          151,
          152,
          153,
          154,
          155,
          156,
          157,
          158,
          159,
          160,
          161,
          162,
          163,
          164,
          165,
          166,
          167,
          168,
          169,
          170,
          171,
          172,
          173,
          174,
          175,
          176,
          177,
          178,
          179,
          180,
          181,
          182,
          183,
          184,
          185,
          186,
          187,
          188,
          189,
          190,
          191,
          192,
          193,
          194,
          195,
          196,
          197,
          198,
          199
         ],
         "xaxis": "x",
         "y": [
          1139968.36841167,
          1340993.956630355,
          1332667.4531618503,
          753781.8159741842,
          529012.9089589728,
          552713.5694814485,
          441245.45402921434,
          377681.9773660613,
          408594.07058145077,
          424231.0883880562,
          369628.348697727,
          366637.8254500828,
          389739.53983460803,
          441727.41698272753,
          480431.3645618002,
          462996.7743968755,
          476787.36554166855,
          369745.4305006298,
          313119.32439502573,
          351170.4698217448,
          338374.0038018691,
          365900.3592648996,
          377247.0584172287,
          377387.4626821512,
          367764.57082432596,
          318498.3156681846,
          327255.9188675484,
          306748.78150975925,
          300206.7390108256,
          304004.31978632096,
          294917.0528622518,
          296702.49935744604,
          291782.40412167733,
          291008.5318576902,
          291092.176657554,
          291492.6274309334,
          289672.9228757163,
          289573.6552818213,
          290051.2832935213,
          289974.92594712676,
          288790.93904310325,
          286045.9016026162,
          286967.0719631177,
          285033.98305477056,
          276552.4259495149,
          276630.83172138425,
          277375.34139862814,
          277498.43494587264,
          276803.2386149846,
          276920.6658511612,
          276131.76214409224,
          276217.73871848057,
          276186.48038509954,
          277130.4948151814,
          276750.38789701706,
          277360.61784316954,
          277373.0235984085,
          279594.05157015217,
          283112.27419437683,
          279490.9263744964,
          277583.6120180796,
          277519.2872204453,
          278192.8284949527,
          277787.25252364506,
          277194.7726845758,
          270620.8949410832,
          270583.09572009114,
          270707.29032723914,
          270474.5303784761,
          268970.5042511355,
          266560.2237660774,
          266611.08308378083,
          266403.08565065806,
          265817.12621236494,
          265321.19942405354,
          264009.48453423224,
          264026.8265923181,
          269714.6938696647,
          269831.7091962409,
          267668.68436236505,
          266786.3362489662,
          266473.4705783755,
          266420.6103288131,
          266400.7904844093,
          266459.06821339513,
          266423.072224656,
          266237.6881976938,
          265023.9575486535,
          264605.43366306956,
          264613.6460992589,
          265055.08459760906,
          263670.7997823719,
          264370.6741217062,
          264434.88257103186,
          264557.5720086177,
          264773.8626495047,
          264302.6616958094,
          264431.3678756306,
          264315.1742630717,
          263972.1599613184,
          262333.0612834351,
          262336.0155061709,
          262056.44053248301,
          262935.23209584784,
          262830.97436662304,
          260221.62236500127,
          260185.8541985655,
          259703.18226947353,
          259397.17180303857,
          259060.00475159287,
          259201.64159927497,
          259218.70419347592,
          258267.09710074132,
          258448.95095022503,
          258222.32807446722,
          257852.58315464648,
          258349.83325483665,
          258724.18684025633,
          261881.5453801858,
          261690.5808168594,
          261574.1786956328,
          261636.88459400466,
          261622.41673949957,
          257405.70926177123,
          257346.57509258087,
          258128.98011863974,
          257384.46900033246,
          257865.80954517456,
          257928.3675933644,
          257945.64260963676,
          256383.5525997544,
          254963.12201698837,
          255073.81289310733,
          254906.72445887668,
          254756.97703577962,
          254679.3888816126,
          255470.57510479752,
          255464.57118282214,
          255510.34789988567,
          255222.76550332853,
          255346.12273202243,
          255313.4352788552,
          254888.38159797352,
          252578.07340072465,
          251941.24346312138,
          251923.31382406328,
          251992.76801426493,
          252273.46994336092,
          252203.02356337185,
          252427.56778379576,
          252125.0870370831,
          251943.9211661479,
          251911.52883561014,
          238602.73733746127,
          238597.97542143438,
          238464.91174854065,
          238821.71764649195,
          239219.43032393992,
          239412.04563153844,
          239051.81925517827,
          239255.15430245767,
          238145.22003352622,
          238191.87015294872,
          238082.1108545993,
          246589.93942156175,
          246951.41540330325,
          246968.03102036897,
          247074.9898228914,
          246658.75601493995,
          246932.8418663065,
          246743.30407547878,
          247073.43484924495,
          247283.4699495948,
          247253.24069351554,
          247087.94213128006,
          247293.98155709828,
          247205.78675962434,
          247208.47784851014,
          247365.87774326224,
          247126.16136212175
         ],
         "yaxis": "y"
        }
       ],
       "layout": {
        "legend": {
         "title": {
          "text": "Error Type"
         },
         "tracegroupgap": 0
        },
        "template": {
         "data": {
          "bar": [
           {
            "error_x": {
             "color": "#2a3f5f"
            },
            "error_y": {
             "color": "#2a3f5f"
            },
            "marker": {
             "line": {
              "color": "#E5ECF6",
              "width": 0.5
             },
             "pattern": {
              "fillmode": "overlay",
              "size": 10,
              "solidity": 0.2
             }
            },
            "type": "bar"
           }
          ],
          "barpolar": [
           {
            "marker": {
             "line": {
              "color": "#E5ECF6",
              "width": 0.5
             },
             "pattern": {
              "fillmode": "overlay",
              "size": 10,
              "solidity": 0.2
             }
            },
            "type": "barpolar"
           }
          ],
          "carpet": [
           {
            "aaxis": {
             "endlinecolor": "#2a3f5f",
             "gridcolor": "white",
             "linecolor": "white",
             "minorgridcolor": "white",
             "startlinecolor": "#2a3f5f"
            },
            "baxis": {
             "endlinecolor": "#2a3f5f",
             "gridcolor": "white",
             "linecolor": "white",
             "minorgridcolor": "white",
             "startlinecolor": "#2a3f5f"
            },
            "type": "carpet"
           }
          ],
          "choropleth": [
           {
            "colorbar": {
             "outlinewidth": 0,
             "ticks": ""
            },
            "type": "choropleth"
           }
          ],
          "contour": [
           {
            "colorbar": {
             "outlinewidth": 0,
             "ticks": ""
            },
            "colorscale": [
             [
              0,
              "#0d0887"
             ],
             [
              0.1111111111111111,
              "#46039f"
             ],
             [
              0.2222222222222222,
              "#7201a8"
             ],
             [
              0.3333333333333333,
              "#9c179e"
             ],
             [
              0.4444444444444444,
              "#bd3786"
             ],
             [
              0.5555555555555556,
              "#d8576b"
             ],
             [
              0.6666666666666666,
              "#ed7953"
             ],
             [
              0.7777777777777778,
              "#fb9f3a"
             ],
             [
              0.8888888888888888,
              "#fdca26"
             ],
             [
              1,
              "#f0f921"
             ]
            ],
            "type": "contour"
           }
          ],
          "contourcarpet": [
           {
            "colorbar": {
             "outlinewidth": 0,
             "ticks": ""
            },
            "type": "contourcarpet"
           }
          ],
          "heatmap": [
           {
            "colorbar": {
             "outlinewidth": 0,
             "ticks": ""
            },
            "colorscale": [
             [
              0,
              "#0d0887"
             ],
             [
              0.1111111111111111,
              "#46039f"
             ],
             [
              0.2222222222222222,
              "#7201a8"
             ],
             [
              0.3333333333333333,
              "#9c179e"
             ],
             [
              0.4444444444444444,
              "#bd3786"
             ],
             [
              0.5555555555555556,
              "#d8576b"
             ],
             [
              0.6666666666666666,
              "#ed7953"
             ],
             [
              0.7777777777777778,
              "#fb9f3a"
             ],
             [
              0.8888888888888888,
              "#fdca26"
             ],
             [
              1,
              "#f0f921"
             ]
            ],
            "type": "heatmap"
           }
          ],
          "heatmapgl": [
           {
            "colorbar": {
             "outlinewidth": 0,
             "ticks": ""
            },
            "colorscale": [
             [
              0,
              "#0d0887"
             ],
             [
              0.1111111111111111,
              "#46039f"
             ],
             [
              0.2222222222222222,
              "#7201a8"
             ],
             [
              0.3333333333333333,
              "#9c179e"
             ],
             [
              0.4444444444444444,
              "#bd3786"
             ],
             [
              0.5555555555555556,
              "#d8576b"
             ],
             [
              0.6666666666666666,
              "#ed7953"
             ],
             [
              0.7777777777777778,
              "#fb9f3a"
             ],
             [
              0.8888888888888888,
              "#fdca26"
             ],
             [
              1,
              "#f0f921"
             ]
            ],
            "type": "heatmapgl"
           }
          ],
          "histogram": [
           {
            "marker": {
             "pattern": {
              "fillmode": "overlay",
              "size": 10,
              "solidity": 0.2
             }
            },
            "type": "histogram"
           }
          ],
          "histogram2d": [
           {
            "colorbar": {
             "outlinewidth": 0,
             "ticks": ""
            },
            "colorscale": [
             [
              0,
              "#0d0887"
             ],
             [
              0.1111111111111111,
              "#46039f"
             ],
             [
              0.2222222222222222,
              "#7201a8"
             ],
             [
              0.3333333333333333,
              "#9c179e"
             ],
             [
              0.4444444444444444,
              "#bd3786"
             ],
             [
              0.5555555555555556,
              "#d8576b"
             ],
             [
              0.6666666666666666,
              "#ed7953"
             ],
             [
              0.7777777777777778,
              "#fb9f3a"
             ],
             [
              0.8888888888888888,
              "#fdca26"
             ],
             [
              1,
              "#f0f921"
             ]
            ],
            "type": "histogram2d"
           }
          ],
          "histogram2dcontour": [
           {
            "colorbar": {
             "outlinewidth": 0,
             "ticks": ""
            },
            "colorscale": [
             [
              0,
              "#0d0887"
             ],
             [
              0.1111111111111111,
              "#46039f"
             ],
             [
              0.2222222222222222,
              "#7201a8"
             ],
             [
              0.3333333333333333,
              "#9c179e"
             ],
             [
              0.4444444444444444,
              "#bd3786"
             ],
             [
              0.5555555555555556,
              "#d8576b"
             ],
             [
              0.6666666666666666,
              "#ed7953"
             ],
             [
              0.7777777777777778,
              "#fb9f3a"
             ],
             [
              0.8888888888888888,
              "#fdca26"
             ],
             [
              1,
              "#f0f921"
             ]
            ],
            "type": "histogram2dcontour"
           }
          ],
          "mesh3d": [
           {
            "colorbar": {
             "outlinewidth": 0,
             "ticks": ""
            },
            "type": "mesh3d"
           }
          ],
          "parcoords": [
           {
            "line": {
             "colorbar": {
              "outlinewidth": 0,
              "ticks": ""
             }
            },
            "type": "parcoords"
           }
          ],
          "pie": [
           {
            "automargin": true,
            "type": "pie"
           }
          ],
          "scatter": [
           {
            "fillpattern": {
             "fillmode": "overlay",
             "size": 10,
             "solidity": 0.2
            },
            "type": "scatter"
           }
          ],
          "scatter3d": [
           {
            "line": {
             "colorbar": {
              "outlinewidth": 0,
              "ticks": ""
             }
            },
            "marker": {
             "colorbar": {
              "outlinewidth": 0,
              "ticks": ""
             }
            },
            "type": "scatter3d"
           }
          ],
          "scattercarpet": [
           {
            "marker": {
             "colorbar": {
              "outlinewidth": 0,
              "ticks": ""
             }
            },
            "type": "scattercarpet"
           }
          ],
          "scattergeo": [
           {
            "marker": {
             "colorbar": {
              "outlinewidth": 0,
              "ticks": ""
             }
            },
            "type": "scattergeo"
           }
          ],
          "scattergl": [
           {
            "marker": {
             "colorbar": {
              "outlinewidth": 0,
              "ticks": ""
             }
            },
            "type": "scattergl"
           }
          ],
          "scattermapbox": [
           {
            "marker": {
             "colorbar": {
              "outlinewidth": 0,
              "ticks": ""
             }
            },
            "type": "scattermapbox"
           }
          ],
          "scatterpolar": [
           {
            "marker": {
             "colorbar": {
              "outlinewidth": 0,
              "ticks": ""
             }
            },
            "type": "scatterpolar"
           }
          ],
          "scatterpolargl": [
           {
            "marker": {
             "colorbar": {
              "outlinewidth": 0,
              "ticks": ""
             }
            },
            "type": "scatterpolargl"
           }
          ],
          "scatterternary": [
           {
            "marker": {
             "colorbar": {
              "outlinewidth": 0,
              "ticks": ""
             }
            },
            "type": "scatterternary"
           }
          ],
          "surface": [
           {
            "colorbar": {
             "outlinewidth": 0,
             "ticks": ""
            },
            "colorscale": [
             [
              0,
              "#0d0887"
             ],
             [
              0.1111111111111111,
              "#46039f"
             ],
             [
              0.2222222222222222,
              "#7201a8"
             ],
             [
              0.3333333333333333,
              "#9c179e"
             ],
             [
              0.4444444444444444,
              "#bd3786"
             ],
             [
              0.5555555555555556,
              "#d8576b"
             ],
             [
              0.6666666666666666,
              "#ed7953"
             ],
             [
              0.7777777777777778,
              "#fb9f3a"
             ],
             [
              0.8888888888888888,
              "#fdca26"
             ],
             [
              1,
              "#f0f921"
             ]
            ],
            "type": "surface"
           }
          ],
          "table": [
           {
            "cells": {
             "fill": {
              "color": "#EBF0F8"
             },
             "line": {
              "color": "white"
             }
            },
            "header": {
             "fill": {
              "color": "#C8D4E3"
             },
             "line": {
              "color": "white"
             }
            },
            "type": "table"
           }
          ]
         },
         "layout": {
          "annotationdefaults": {
           "arrowcolor": "#2a3f5f",
           "arrowhead": 0,
           "arrowwidth": 1
          },
          "autotypenumbers": "strict",
          "coloraxis": {
           "colorbar": {
            "outlinewidth": 0,
            "ticks": ""
           }
          },
          "colorscale": {
           "diverging": [
            [
             0,
             "#8e0152"
            ],
            [
             0.1,
             "#c51b7d"
            ],
            [
             0.2,
             "#de77ae"
            ],
            [
             0.3,
             "#f1b6da"
            ],
            [
             0.4,
             "#fde0ef"
            ],
            [
             0.5,
             "#f7f7f7"
            ],
            [
             0.6,
             "#e6f5d0"
            ],
            [
             0.7,
             "#b8e186"
            ],
            [
             0.8,
             "#7fbc41"
            ],
            [
             0.9,
             "#4d9221"
            ],
            [
             1,
             "#276419"
            ]
           ],
           "sequential": [
            [
             0,
             "#0d0887"
            ],
            [
             0.1111111111111111,
             "#46039f"
            ],
            [
             0.2222222222222222,
             "#7201a8"
            ],
            [
             0.3333333333333333,
             "#9c179e"
            ],
            [
             0.4444444444444444,
             "#bd3786"
            ],
            [
             0.5555555555555556,
             "#d8576b"
            ],
            [
             0.6666666666666666,
             "#ed7953"
            ],
            [
             0.7777777777777778,
             "#fb9f3a"
            ],
            [
             0.8888888888888888,
             "#fdca26"
            ],
            [
             1,
             "#f0f921"
            ]
           ],
           "sequentialminus": [
            [
             0,
             "#0d0887"
            ],
            [
             0.1111111111111111,
             "#46039f"
            ],
            [
             0.2222222222222222,
             "#7201a8"
            ],
            [
             0.3333333333333333,
             "#9c179e"
            ],
            [
             0.4444444444444444,
             "#bd3786"
            ],
            [
             0.5555555555555556,
             "#d8576b"
            ],
            [
             0.6666666666666666,
             "#ed7953"
            ],
            [
             0.7777777777777778,
             "#fb9f3a"
            ],
            [
             0.8888888888888888,
             "#fdca26"
            ],
            [
             1,
             "#f0f921"
            ]
           ]
          },
          "colorway": [
           "#636efa",
           "#EF553B",
           "#00cc96",
           "#ab63fa",
           "#FFA15A",
           "#19d3f3",
           "#FF6692",
           "#B6E880",
           "#FF97FF",
           "#FECB52"
          ],
          "font": {
           "color": "#2a3f5f"
          },
          "geo": {
           "bgcolor": "white",
           "lakecolor": "white",
           "landcolor": "#E5ECF6",
           "showlakes": true,
           "showland": true,
           "subunitcolor": "white"
          },
          "hoverlabel": {
           "align": "left"
          },
          "hovermode": "closest",
          "mapbox": {
           "style": "light"
          },
          "paper_bgcolor": "white",
          "plot_bgcolor": "#E5ECF6",
          "polar": {
           "angularaxis": {
            "gridcolor": "white",
            "linecolor": "white",
            "ticks": ""
           },
           "bgcolor": "#E5ECF6",
           "radialaxis": {
            "gridcolor": "white",
            "linecolor": "white",
            "ticks": ""
           }
          },
          "scene": {
           "xaxis": {
            "backgroundcolor": "#E5ECF6",
            "gridcolor": "white",
            "gridwidth": 2,
            "linecolor": "white",
            "showbackground": true,
            "ticks": "",
            "zerolinecolor": "white"
           },
           "yaxis": {
            "backgroundcolor": "#E5ECF6",
            "gridcolor": "white",
            "gridwidth": 2,
            "linecolor": "white",
            "showbackground": true,
            "ticks": "",
            "zerolinecolor": "white"
           },
           "zaxis": {
            "backgroundcolor": "#E5ECF6",
            "gridcolor": "white",
            "gridwidth": 2,
            "linecolor": "white",
            "showbackground": true,
            "ticks": "",
            "zerolinecolor": "white"
           }
          },
          "shapedefaults": {
           "line": {
            "color": "#2a3f5f"
           }
          },
          "ternary": {
           "aaxis": {
            "gridcolor": "white",
            "linecolor": "white",
            "ticks": ""
           },
           "baxis": {
            "gridcolor": "white",
            "linecolor": "white",
            "ticks": ""
           },
           "bgcolor": "#E5ECF6",
           "caxis": {
            "gridcolor": "white",
            "linecolor": "white",
            "ticks": ""
           }
          },
          "title": {
           "x": 0.05
          },
          "xaxis": {
           "automargin": true,
           "gridcolor": "white",
           "linecolor": "white",
           "ticks": "",
           "title": {
            "standoff": 15
           },
           "zerolinecolor": "white",
           "zerolinewidth": 2
          },
          "yaxis": {
           "automargin": true,
           "gridcolor": "white",
           "linecolor": "white",
           "ticks": "",
           "title": {
            "standoff": 15
           },
           "zerolinecolor": "white",
           "zerolinewidth": 2
          }
         }
        },
        "title": {
         "text": "Learning Curves"
        },
        "xaxis": {
         "anchor": "y",
         "domain": [
          0,
          1
         ],
         "title": {
          "text": "Training Set Size"
         }
        },
        "yaxis": {
         "anchor": "x",
         "domain": [
          0,
          1
         ],
         "title": {
          "text": "Root Mean Squared Error (RMSE)"
         }
        }
       }
      }
     },
     "metadata": {},
     "output_type": "display_data"
    }
   ],
   "source": [
    "#Apply To Linear Regression without regularization\n",
    "from sklearn.linear_model import LinearRegression\n",
    "lin_reg = LinearRegression()\n",
    "\n",
    "plot_learning_curves_plotly(lin_reg, X_train, y_train, X_test, y_test)"
   ]
  },
  {
   "cell_type": "markdown",
   "metadata": {},
   "source": [
    "**Lets Traina a Linear Model Without Regularization**"
   ]
  },
  {
   "cell_type": "code",
   "execution_count": 178,
   "metadata": {},
   "outputs": [
    {
     "name": "stdout",
     "output_type": "stream",
     "text": [
      "Ridge Regression RMSE: 212539.51663817756\n"
     ]
    }
   ],
   "source": [
    "lr_model  = LinearRegression()\n",
    "lr_model.fit(X_train,y_train)\n",
    "y_pred= lr_model.predict(X_test)\n",
    "\n",
    "print(\"Ridge Regression RMSE:\", np.sqrt(mean_squared_error(y_test, y_pred)))\n"
   ]
  },
  {
   "cell_type": "markdown",
   "metadata": {},
   "source": [
    "Regularized Linear Models"
   ]
  },
  {
   "cell_type": "markdown",
   "metadata": {},
   "source": [
    "Ridge Regression - Applies L2 regularization to prevent overfitting."
   ]
  },
  {
   "cell_type": "code",
   "execution_count": 182,
   "metadata": {},
   "outputs": [
    {
     "name": "stdout",
     "output_type": "stream",
     "text": [
      "Ridge Regression RMSE: 212540.13987359506\n"
     ]
    }
   ],
   "source": [
    "from sklearn.linear_model import Ridge\n",
    "\n",
    "# Ridge Regression\n",
    "ridge_reg = Ridge(alpha=1.0)\n",
    "ridge_reg.fit(X_train, y_train)\n",
    "y_pred_ridge = ridge_reg.predict(X_test)\n",
    "\n",
    "print(\"Ridge Regression RMSE:\", np.sqrt(mean_squared_error(y_test, y_pred_ridge)))\n",
    "\n"
   ]
  },
  {
   "cell_type": "code",
   "execution_count": 183,
   "metadata": {},
   "outputs": [
    {
     "data": {
      "application/vnd.plotly.v1+json": {
       "config": {
        "plotlyServerURL": "https://plot.ly"
       },
       "data": [
        {
         "hovertemplate": "Error Type=Training Error<br>Training Set Size=%{x}<br>Root Mean Squared Error (RMSE)=%{y}<extra></extra>",
         "legendgroup": "Training Error",
         "line": {
          "color": "#636efa",
          "dash": "solid"
         },
         "marker": {
          "symbol": "circle"
         },
         "mode": "lines",
         "name": "Training Error",
         "orientation": "v",
         "showlegend": true,
         "type": "scatter",
         "x": [
          20,
          21,
          22,
          23,
          24,
          25,
          26,
          27,
          28,
          29,
          30,
          31,
          32,
          33,
          34,
          35,
          36,
          37,
          38,
          39,
          40,
          41,
          42,
          43,
          44,
          45,
          46,
          47,
          48,
          49,
          50,
          51,
          52,
          53,
          54,
          55,
          56,
          57,
          58,
          59,
          60,
          61,
          62,
          63,
          64,
          65,
          66,
          67,
          68,
          69,
          70,
          71,
          72,
          73,
          74,
          75,
          76,
          77,
          78,
          79,
          80,
          81,
          82,
          83,
          84,
          85,
          86,
          87,
          88,
          89,
          90,
          91,
          92,
          93,
          94,
          95,
          96,
          97,
          98,
          99,
          100,
          101,
          102,
          103,
          104,
          105,
          106,
          107,
          108,
          109,
          110,
          111,
          112,
          113,
          114,
          115,
          116,
          117,
          118,
          119,
          120,
          121,
          122,
          123,
          124,
          125,
          126,
          127,
          128,
          129,
          130,
          131,
          132,
          133,
          134,
          135,
          136,
          137,
          138,
          139,
          140,
          141,
          142,
          143,
          144,
          145,
          146,
          147,
          148,
          149,
          150,
          151,
          152,
          153,
          154,
          155,
          156,
          157,
          158,
          159,
          160,
          161,
          162,
          163,
          164,
          165,
          166,
          167,
          168,
          169,
          170,
          171,
          172,
          173,
          174,
          175,
          176,
          177,
          178,
          179,
          180,
          181,
          182,
          183,
          184,
          185,
          186,
          187,
          188,
          189,
          190,
          191,
          192,
          193,
          194,
          195,
          196,
          197,
          198,
          199
         ],
         "xaxis": "x",
         "y": [
          51951.60899893349,
          72023.19939288936,
          70301.3965917718,
          68757.49230879515,
          71096.79909641987,
          79700.47186368365,
          78952.84077976421,
          80075.51741820548,
          79095.114791451,
          77782.73954655755,
          78189.46952175397,
          76886.9305146448,
          82322.49492221599,
          86687.06906150052,
          86095.56774416303,
          84864.56263424686,
          85623.76574963961,
          94766.274034402,
          94256.8317111395,
          98007.1539639541,
          97563.00719355917,
          97052.23947841125,
          96502.3740484414,
          95388.37675715899,
          96175.39711056987,
          95097.00590902033,
          103125.10169260293,
          103652.1791647035,
          105512.26001376596,
          104753.81880151531,
          103815.57205846536,
          104378.49635624769,
          116032.47672704193,
          114902.51508956467,
          114098.3549168429,
          115024.93895875555,
          114217.246453486,
          113222.10431649405,
          112260.21797688038,
          111304.25186478005,
          110743.80679378349,
          112085.66151644102,
          132323.7003231335,
          132070.58146876472,
          133395.74877165837,
          132395.81322975236,
          131473.43354917708,
          130490.61044845499,
          129555.84655376982,
          128642.89325917003,
          127827.59991595885,
          126920.69278012702,
          126040.37349174166,
          125531.32985758237,
          124705.70392345883,
          124104.91362315029,
          123535.79615016111,
          123253.0818891883,
          125083.19096156646,
          130033.38208502735,
          129549.10972287264,
          128828.27193523862,
          128975.23741043975,
          128195.78381625548,
          128890.16470281815,
          130067.02695340586,
          129308.61702395105,
          128638.98698649953,
          127927.7306906109,
          128251.48119048982,
          128242.94702887337,
          130131.947615151,
          129681.11649282945,
          129136.69306640903,
          128548.92751257113,
          129207.68086581833,
          128537.39747028172,
          135222.41689982056,
          134918.5997985671,
          134989.52832337338,
          136592.96179462512,
          136016.28264324024,
          135354.36516817642,
          134696.1669078801,
          134312.94791464895,
          133675.4777956498,
          133054.64182702234,
          133867.03284554812,
          133320.6044097839,
          132709.9242097071,
          132624.89380085783,
          132920.14363304703,
          133030.0794859909,
          133746.90608588498,
          133269.18875824622,
          132870.66935215695,
          133315.09025758266,
          133104.9756771116,
          132553.45238499166,
          131998.07420647723,
          132216.83491874358,
          131680.77871442868,
          131194.46144126612,
          130832.96936357288,
          130309.28894960647,
          134768.958225153,
          134334.4669258679,
          133889.6267764341,
          133383.53091383743,
          133017.4239258941,
          132581.11077344467,
          132168.96459951843,
          132825.59839088228,
          132326.80725929793,
          132972.10482446558,
          132854.68833018283,
          132529.59549360827,
          133796.1980693867,
          142165.86503223315,
          141730.32705570338,
          141305.6496079054,
          140806.60140188958,
          140310.3883883066,
          140208.24058864306,
          139740.10537206984,
          139991.2545164144,
          140887.8020294525,
          143992.4068260999,
          143519.41320333004,
          143039.16975174504,
          143076.89399535878,
          142892.19139345034,
          142518.06717350808,
          142076.89960948247,
          141656.50863102684,
          141348.45380423166,
          142868.9630354191,
          142413.32575327455,
          141981.77279201188,
          141588.16645094476,
          141170.7187925165,
          141139.88558776234,
          141050.83700833088,
          141221.9827719756,
          141278.05327771252,
          140900.06023106622,
          140589.55431709814,
          140694.96883332296,
          140324.46575078426,
          140384.09068519523,
          140523.20036085957,
          140211.001229254,
          139813.06751020064,
          139408.6420031461,
          139007.40798867034,
          138783.85990189435,
          138741.98931607197,
          139964.50372364695,
          139922.51404261446,
          141007.1602107592,
          140652.8875499127,
          141496.21845442985,
          141168.42706367982,
          140800.54374972524,
          140827.58898378248,
          140697.30789022928,
          141029.42335217813,
          140749.7142823848,
          140876.28258108514,
          140512.7623633018,
          141005.4658812531,
          141190.03523984787,
          140911.84396261963,
          140562.7394452405,
          140266.85633572398,
          139936.28655359225,
          139750.3387940843,
          139395.17758146184,
          139333.5195700636,
          139202.03562450496
         ],
         "yaxis": "y"
        },
        {
         "hovertemplate": "Error Type=Validation|Test Error<br>Training Set Size=%{x}<br>Root Mean Squared Error (RMSE)=%{y}<extra></extra>",
         "legendgroup": "Validation|Test Error",
         "line": {
          "color": "#EF553B",
          "dash": "solid"
         },
         "marker": {
          "symbol": "circle"
         },
         "mode": "lines",
         "name": "Validation|Test Error",
         "orientation": "v",
         "showlegend": true,
         "type": "scatter",
         "x": [
          20,
          21,
          22,
          23,
          24,
          25,
          26,
          27,
          28,
          29,
          30,
          31,
          32,
          33,
          34,
          35,
          36,
          37,
          38,
          39,
          40,
          41,
          42,
          43,
          44,
          45,
          46,
          47,
          48,
          49,
          50,
          51,
          52,
          53,
          54,
          55,
          56,
          57,
          58,
          59,
          60,
          61,
          62,
          63,
          64,
          65,
          66,
          67,
          68,
          69,
          70,
          71,
          72,
          73,
          74,
          75,
          76,
          77,
          78,
          79,
          80,
          81,
          82,
          83,
          84,
          85,
          86,
          87,
          88,
          89,
          90,
          91,
          92,
          93,
          94,
          95,
          96,
          97,
          98,
          99,
          100,
          101,
          102,
          103,
          104,
          105,
          106,
          107,
          108,
          109,
          110,
          111,
          112,
          113,
          114,
          115,
          116,
          117,
          118,
          119,
          120,
          121,
          122,
          123,
          124,
          125,
          126,
          127,
          128,
          129,
          130,
          131,
          132,
          133,
          134,
          135,
          136,
          137,
          138,
          139,
          140,
          141,
          142,
          143,
          144,
          145,
          146,
          147,
          148,
          149,
          150,
          151,
          152,
          153,
          154,
          155,
          156,
          157,
          158,
          159,
          160,
          161,
          162,
          163,
          164,
          165,
          166,
          167,
          168,
          169,
          170,
          171,
          172,
          173,
          174,
          175,
          176,
          177,
          178,
          179,
          180,
          181,
          182,
          183,
          184,
          185,
          186,
          187,
          188,
          189,
          190,
          191,
          192,
          193,
          194,
          195,
          196,
          197,
          198,
          199
         ],
         "xaxis": "x",
         "y": [
          280290.15432629175,
          314556.8059177833,
          316678.5294465874,
          316606.58201453503,
          318899.3796592788,
          345569.9870746435,
          344531.3277454308,
          326528.25127368444,
          326619.23202471976,
          325510.3158224181,
          324728.09351045813,
          329847.4058914642,
          311408.6880082222,
          296326.2008692486,
          297738.66874137695,
          295986.5581830128,
          303167.6140145414,
          306293.20865715813,
          299718.3956998194,
          296767.99529674073,
          295668.20365863154,
          296714.7948873479,
          299497.4682256548,
          299513.4747143107,
          294318.9027232101,
          294142.6041763677,
          296194.95756467636,
          293754.291783368,
          277247.08542586525,
          274654.3554465723,
          287201.28384417476,
          289431.302468301,
          276252.45839807595,
          276408.57186005294,
          276580.89464680955,
          276280.3093773847,
          275980.5629444472,
          275848.2087819342,
          276356.56688947545,
          276363.1533034132,
          275525.4281683735,
          274497.9765942503,
          273491.57591804577,
          270935.3640442132,
          266139.45278450294,
          266185.5553247333,
          266813.0740047147,
          266994.8172268655,
          266768.2444310738,
          266878.77024559036,
          266320.18371528224,
          266446.61904781347,
          266421.9015314802,
          267127.2628731423,
          266984.7490770277,
          267218.507622337,
          267072.00474663626,
          268857.5344097361,
          270041.0143973008,
          268107.4176114372,
          267120.89865941665,
          267241.23181864654,
          267953.3619998979,
          267955.2422768405,
          267664.19810021017,
          264819.94429675245,
          264819.8027961517,
          264945.56658646325,
          264810.42988475336,
          263473.9837421357,
          262035.19905839517,
          262214.3795096917,
          262125.25310440361,
          261681.8122259401,
          261384.25970704545,
          260599.20703086304,
          260613.6719883871,
          265063.2282596454,
          265163.4622294972,
          263439.11379912717,
          262494.99820147577,
          262285.93508958793,
          262263.7900539689,
          262255.70485106064,
          262375.29553100397,
          262361.9654794216,
          262242.57491567556,
          261409.42809264094,
          261057.43441151243,
          261074.60358194416,
          261366.90122979268,
          260092.37732105528,
          260810.50814932672,
          258537.22868444052,
          258604.89271853515,
          258744.4932813396,
          258513.06794145488,
          258666.41987356602,
          258625.06355711597,
          258588.81256290883,
          257372.49024359204,
          257380.9506841142,
          257198.84610604207,
          257957.96986109595,
          257908.11217415836,
          256388.30960727384,
          256353.5026850075,
          256014.37638304266,
          255643.63117491035,
          255415.558022599,
          255511.89605371738,
          255484.45738435123,
          254839.06780172145,
          255106.61537692926,
          255083.81143694013,
          254802.14429063076,
          255324.0828052221,
          255545.70587262863,
          257950.44142294966,
          257828.8371933716,
          257783.55338144067,
          257843.46059114605,
          257838.04001790908,
          255274.44652650147,
          255228.4064369878,
          255938.64501686147,
          255198.8221810137,
          255597.65630941754,
          255655.5607438506,
          255665.4693583936,
          254240.44073673073,
          252907.9427558437,
          252974.47558340675,
          252864.61409099356,
          252768.40805489014,
          252694.31872522313,
          253553.52379530092,
          253548.82778725776,
          253582.4426554878,
          253344.86281087314,
          253434.2564147855,
          253297.66112658888,
          252960.0757820971,
          251025.07019837922,
          250544.53262386666,
          250525.39212033182,
          250575.91071437023,
          250820.99809302704,
          250749.88367565698,
          251003.25970082407,
          250728.22871979285,
          250586.25751685325,
          250550.57857545337,
          237169.39216238706,
          237175.00247516786,
          237006.53180074578,
          237379.00352011004,
          237653.35982379213,
          237819.81051624994,
          237310.09988231768,
          237496.51238349904,
          236656.43179484113,
          236737.10235326373,
          236645.56645222765,
          244751.3170672612,
          245079.49739483444,
          245101.87509015418,
          245206.5727207061,
          244815.9365538022,
          245098.1604560429,
          244921.30341511895,
          245181.89517919061,
          245374.2462589967,
          245347.69353775439,
          245213.13710789685,
          245423.62153463456,
          245347.8425165272,
          245353.36489680293,
          245496.90205949097,
          245265.57912206737
         ],
         "yaxis": "y"
        }
       ],
       "layout": {
        "legend": {
         "title": {
          "text": "Error Type"
         },
         "tracegroupgap": 0
        },
        "template": {
         "data": {
          "bar": [
           {
            "error_x": {
             "color": "#2a3f5f"
            },
            "error_y": {
             "color": "#2a3f5f"
            },
            "marker": {
             "line": {
              "color": "#E5ECF6",
              "width": 0.5
             },
             "pattern": {
              "fillmode": "overlay",
              "size": 10,
              "solidity": 0.2
             }
            },
            "type": "bar"
           }
          ],
          "barpolar": [
           {
            "marker": {
             "line": {
              "color": "#E5ECF6",
              "width": 0.5
             },
             "pattern": {
              "fillmode": "overlay",
              "size": 10,
              "solidity": 0.2
             }
            },
            "type": "barpolar"
           }
          ],
          "carpet": [
           {
            "aaxis": {
             "endlinecolor": "#2a3f5f",
             "gridcolor": "white",
             "linecolor": "white",
             "minorgridcolor": "white",
             "startlinecolor": "#2a3f5f"
            },
            "baxis": {
             "endlinecolor": "#2a3f5f",
             "gridcolor": "white",
             "linecolor": "white",
             "minorgridcolor": "white",
             "startlinecolor": "#2a3f5f"
            },
            "type": "carpet"
           }
          ],
          "choropleth": [
           {
            "colorbar": {
             "outlinewidth": 0,
             "ticks": ""
            },
            "type": "choropleth"
           }
          ],
          "contour": [
           {
            "colorbar": {
             "outlinewidth": 0,
             "ticks": ""
            },
            "colorscale": [
             [
              0,
              "#0d0887"
             ],
             [
              0.1111111111111111,
              "#46039f"
             ],
             [
              0.2222222222222222,
              "#7201a8"
             ],
             [
              0.3333333333333333,
              "#9c179e"
             ],
             [
              0.4444444444444444,
              "#bd3786"
             ],
             [
              0.5555555555555556,
              "#d8576b"
             ],
             [
              0.6666666666666666,
              "#ed7953"
             ],
             [
              0.7777777777777778,
              "#fb9f3a"
             ],
             [
              0.8888888888888888,
              "#fdca26"
             ],
             [
              1,
              "#f0f921"
             ]
            ],
            "type": "contour"
           }
          ],
          "contourcarpet": [
           {
            "colorbar": {
             "outlinewidth": 0,
             "ticks": ""
            },
            "type": "contourcarpet"
           }
          ],
          "heatmap": [
           {
            "colorbar": {
             "outlinewidth": 0,
             "ticks": ""
            },
            "colorscale": [
             [
              0,
              "#0d0887"
             ],
             [
              0.1111111111111111,
              "#46039f"
             ],
             [
              0.2222222222222222,
              "#7201a8"
             ],
             [
              0.3333333333333333,
              "#9c179e"
             ],
             [
              0.4444444444444444,
              "#bd3786"
             ],
             [
              0.5555555555555556,
              "#d8576b"
             ],
             [
              0.6666666666666666,
              "#ed7953"
             ],
             [
              0.7777777777777778,
              "#fb9f3a"
             ],
             [
              0.8888888888888888,
              "#fdca26"
             ],
             [
              1,
              "#f0f921"
             ]
            ],
            "type": "heatmap"
           }
          ],
          "heatmapgl": [
           {
            "colorbar": {
             "outlinewidth": 0,
             "ticks": ""
            },
            "colorscale": [
             [
              0,
              "#0d0887"
             ],
             [
              0.1111111111111111,
              "#46039f"
             ],
             [
              0.2222222222222222,
              "#7201a8"
             ],
             [
              0.3333333333333333,
              "#9c179e"
             ],
             [
              0.4444444444444444,
              "#bd3786"
             ],
             [
              0.5555555555555556,
              "#d8576b"
             ],
             [
              0.6666666666666666,
              "#ed7953"
             ],
             [
              0.7777777777777778,
              "#fb9f3a"
             ],
             [
              0.8888888888888888,
              "#fdca26"
             ],
             [
              1,
              "#f0f921"
             ]
            ],
            "type": "heatmapgl"
           }
          ],
          "histogram": [
           {
            "marker": {
             "pattern": {
              "fillmode": "overlay",
              "size": 10,
              "solidity": 0.2
             }
            },
            "type": "histogram"
           }
          ],
          "histogram2d": [
           {
            "colorbar": {
             "outlinewidth": 0,
             "ticks": ""
            },
            "colorscale": [
             [
              0,
              "#0d0887"
             ],
             [
              0.1111111111111111,
              "#46039f"
             ],
             [
              0.2222222222222222,
              "#7201a8"
             ],
             [
              0.3333333333333333,
              "#9c179e"
             ],
             [
              0.4444444444444444,
              "#bd3786"
             ],
             [
              0.5555555555555556,
              "#d8576b"
             ],
             [
              0.6666666666666666,
              "#ed7953"
             ],
             [
              0.7777777777777778,
              "#fb9f3a"
             ],
             [
              0.8888888888888888,
              "#fdca26"
             ],
             [
              1,
              "#f0f921"
             ]
            ],
            "type": "histogram2d"
           }
          ],
          "histogram2dcontour": [
           {
            "colorbar": {
             "outlinewidth": 0,
             "ticks": ""
            },
            "colorscale": [
             [
              0,
              "#0d0887"
             ],
             [
              0.1111111111111111,
              "#46039f"
             ],
             [
              0.2222222222222222,
              "#7201a8"
             ],
             [
              0.3333333333333333,
              "#9c179e"
             ],
             [
              0.4444444444444444,
              "#bd3786"
             ],
             [
              0.5555555555555556,
              "#d8576b"
             ],
             [
              0.6666666666666666,
              "#ed7953"
             ],
             [
              0.7777777777777778,
              "#fb9f3a"
             ],
             [
              0.8888888888888888,
              "#fdca26"
             ],
             [
              1,
              "#f0f921"
             ]
            ],
            "type": "histogram2dcontour"
           }
          ],
          "mesh3d": [
           {
            "colorbar": {
             "outlinewidth": 0,
             "ticks": ""
            },
            "type": "mesh3d"
           }
          ],
          "parcoords": [
           {
            "line": {
             "colorbar": {
              "outlinewidth": 0,
              "ticks": ""
             }
            },
            "type": "parcoords"
           }
          ],
          "pie": [
           {
            "automargin": true,
            "type": "pie"
           }
          ],
          "scatter": [
           {
            "fillpattern": {
             "fillmode": "overlay",
             "size": 10,
             "solidity": 0.2
            },
            "type": "scatter"
           }
          ],
          "scatter3d": [
           {
            "line": {
             "colorbar": {
              "outlinewidth": 0,
              "ticks": ""
             }
            },
            "marker": {
             "colorbar": {
              "outlinewidth": 0,
              "ticks": ""
             }
            },
            "type": "scatter3d"
           }
          ],
          "scattercarpet": [
           {
            "marker": {
             "colorbar": {
              "outlinewidth": 0,
              "ticks": ""
             }
            },
            "type": "scattercarpet"
           }
          ],
          "scattergeo": [
           {
            "marker": {
             "colorbar": {
              "outlinewidth": 0,
              "ticks": ""
             }
            },
            "type": "scattergeo"
           }
          ],
          "scattergl": [
           {
            "marker": {
             "colorbar": {
              "outlinewidth": 0,
              "ticks": ""
             }
            },
            "type": "scattergl"
           }
          ],
          "scattermapbox": [
           {
            "marker": {
             "colorbar": {
              "outlinewidth": 0,
              "ticks": ""
             }
            },
            "type": "scattermapbox"
           }
          ],
          "scatterpolar": [
           {
            "marker": {
             "colorbar": {
              "outlinewidth": 0,
              "ticks": ""
             }
            },
            "type": "scatterpolar"
           }
          ],
          "scatterpolargl": [
           {
            "marker": {
             "colorbar": {
              "outlinewidth": 0,
              "ticks": ""
             }
            },
            "type": "scatterpolargl"
           }
          ],
          "scatterternary": [
           {
            "marker": {
             "colorbar": {
              "outlinewidth": 0,
              "ticks": ""
             }
            },
            "type": "scatterternary"
           }
          ],
          "surface": [
           {
            "colorbar": {
             "outlinewidth": 0,
             "ticks": ""
            },
            "colorscale": [
             [
              0,
              "#0d0887"
             ],
             [
              0.1111111111111111,
              "#46039f"
             ],
             [
              0.2222222222222222,
              "#7201a8"
             ],
             [
              0.3333333333333333,
              "#9c179e"
             ],
             [
              0.4444444444444444,
              "#bd3786"
             ],
             [
              0.5555555555555556,
              "#d8576b"
             ],
             [
              0.6666666666666666,
              "#ed7953"
             ],
             [
              0.7777777777777778,
              "#fb9f3a"
             ],
             [
              0.8888888888888888,
              "#fdca26"
             ],
             [
              1,
              "#f0f921"
             ]
            ],
            "type": "surface"
           }
          ],
          "table": [
           {
            "cells": {
             "fill": {
              "color": "#EBF0F8"
             },
             "line": {
              "color": "white"
             }
            },
            "header": {
             "fill": {
              "color": "#C8D4E3"
             },
             "line": {
              "color": "white"
             }
            },
            "type": "table"
           }
          ]
         },
         "layout": {
          "annotationdefaults": {
           "arrowcolor": "#2a3f5f",
           "arrowhead": 0,
           "arrowwidth": 1
          },
          "autotypenumbers": "strict",
          "coloraxis": {
           "colorbar": {
            "outlinewidth": 0,
            "ticks": ""
           }
          },
          "colorscale": {
           "diverging": [
            [
             0,
             "#8e0152"
            ],
            [
             0.1,
             "#c51b7d"
            ],
            [
             0.2,
             "#de77ae"
            ],
            [
             0.3,
             "#f1b6da"
            ],
            [
             0.4,
             "#fde0ef"
            ],
            [
             0.5,
             "#f7f7f7"
            ],
            [
             0.6,
             "#e6f5d0"
            ],
            [
             0.7,
             "#b8e186"
            ],
            [
             0.8,
             "#7fbc41"
            ],
            [
             0.9,
             "#4d9221"
            ],
            [
             1,
             "#276419"
            ]
           ],
           "sequential": [
            [
             0,
             "#0d0887"
            ],
            [
             0.1111111111111111,
             "#46039f"
            ],
            [
             0.2222222222222222,
             "#7201a8"
            ],
            [
             0.3333333333333333,
             "#9c179e"
            ],
            [
             0.4444444444444444,
             "#bd3786"
            ],
            [
             0.5555555555555556,
             "#d8576b"
            ],
            [
             0.6666666666666666,
             "#ed7953"
            ],
            [
             0.7777777777777778,
             "#fb9f3a"
            ],
            [
             0.8888888888888888,
             "#fdca26"
            ],
            [
             1,
             "#f0f921"
            ]
           ],
           "sequentialminus": [
            [
             0,
             "#0d0887"
            ],
            [
             0.1111111111111111,
             "#46039f"
            ],
            [
             0.2222222222222222,
             "#7201a8"
            ],
            [
             0.3333333333333333,
             "#9c179e"
            ],
            [
             0.4444444444444444,
             "#bd3786"
            ],
            [
             0.5555555555555556,
             "#d8576b"
            ],
            [
             0.6666666666666666,
             "#ed7953"
            ],
            [
             0.7777777777777778,
             "#fb9f3a"
            ],
            [
             0.8888888888888888,
             "#fdca26"
            ],
            [
             1,
             "#f0f921"
            ]
           ]
          },
          "colorway": [
           "#636efa",
           "#EF553B",
           "#00cc96",
           "#ab63fa",
           "#FFA15A",
           "#19d3f3",
           "#FF6692",
           "#B6E880",
           "#FF97FF",
           "#FECB52"
          ],
          "font": {
           "color": "#2a3f5f"
          },
          "geo": {
           "bgcolor": "white",
           "lakecolor": "white",
           "landcolor": "#E5ECF6",
           "showlakes": true,
           "showland": true,
           "subunitcolor": "white"
          },
          "hoverlabel": {
           "align": "left"
          },
          "hovermode": "closest",
          "mapbox": {
           "style": "light"
          },
          "paper_bgcolor": "white",
          "plot_bgcolor": "#E5ECF6",
          "polar": {
           "angularaxis": {
            "gridcolor": "white",
            "linecolor": "white",
            "ticks": ""
           },
           "bgcolor": "#E5ECF6",
           "radialaxis": {
            "gridcolor": "white",
            "linecolor": "white",
            "ticks": ""
           }
          },
          "scene": {
           "xaxis": {
            "backgroundcolor": "#E5ECF6",
            "gridcolor": "white",
            "gridwidth": 2,
            "linecolor": "white",
            "showbackground": true,
            "ticks": "",
            "zerolinecolor": "white"
           },
           "yaxis": {
            "backgroundcolor": "#E5ECF6",
            "gridcolor": "white",
            "gridwidth": 2,
            "linecolor": "white",
            "showbackground": true,
            "ticks": "",
            "zerolinecolor": "white"
           },
           "zaxis": {
            "backgroundcolor": "#E5ECF6",
            "gridcolor": "white",
            "gridwidth": 2,
            "linecolor": "white",
            "showbackground": true,
            "ticks": "",
            "zerolinecolor": "white"
           }
          },
          "shapedefaults": {
           "line": {
            "color": "#2a3f5f"
           }
          },
          "ternary": {
           "aaxis": {
            "gridcolor": "white",
            "linecolor": "white",
            "ticks": ""
           },
           "baxis": {
            "gridcolor": "white",
            "linecolor": "white",
            "ticks": ""
           },
           "bgcolor": "#E5ECF6",
           "caxis": {
            "gridcolor": "white",
            "linecolor": "white",
            "ticks": ""
           }
          },
          "title": {
           "x": 0.05
          },
          "xaxis": {
           "automargin": true,
           "gridcolor": "white",
           "linecolor": "white",
           "ticks": "",
           "title": {
            "standoff": 15
           },
           "zerolinecolor": "white",
           "zerolinewidth": 2
          },
          "yaxis": {
           "automargin": true,
           "gridcolor": "white",
           "linecolor": "white",
           "ticks": "",
           "title": {
            "standoff": 15
           },
           "zerolinecolor": "white",
           "zerolinewidth": 2
          }
         }
        },
        "title": {
         "text": "Learning Curves"
        },
        "xaxis": {
         "anchor": "y",
         "domain": [
          0,
          1
         ],
         "title": {
          "text": "Training Set Size"
         }
        },
        "yaxis": {
         "anchor": "x",
         "domain": [
          0,
          1
         ],
         "title": {
          "text": "Root Mean Squared Error (RMSE)"
         }
        }
       }
      },
      "text/html": [
       "<div>                            <div id=\"09d23691-97f6-4b6b-9fef-60f69f9f8eae\" class=\"plotly-graph-div\" style=\"height:525px; width:100%;\"></div>            <script type=\"text/javascript\">                require([\"plotly\"], function(Plotly) {                    window.PLOTLYENV=window.PLOTLYENV || {};                                    if (document.getElementById(\"09d23691-97f6-4b6b-9fef-60f69f9f8eae\")) {                    Plotly.newPlot(                        \"09d23691-97f6-4b6b-9fef-60f69f9f8eae\",                        [{\"hovertemplate\":\"Error Type=Training Error<br>Training Set Size=%{x}<br>Root Mean Squared Error (RMSE)=%{y}<extra></extra>\",\"legendgroup\":\"Training Error\",\"line\":{\"color\":\"#636efa\",\"dash\":\"solid\"},\"marker\":{\"symbol\":\"circle\"},\"mode\":\"lines\",\"name\":\"Training Error\",\"orientation\":\"v\",\"showlegend\":true,\"x\":[20,21,22,23,24,25,26,27,28,29,30,31,32,33,34,35,36,37,38,39,40,41,42,43,44,45,46,47,48,49,50,51,52,53,54,55,56,57,58,59,60,61,62,63,64,65,66,67,68,69,70,71,72,73,74,75,76,77,78,79,80,81,82,83,84,85,86,87,88,89,90,91,92,93,94,95,96,97,98,99,100,101,102,103,104,105,106,107,108,109,110,111,112,113,114,115,116,117,118,119,120,121,122,123,124,125,126,127,128,129,130,131,132,133,134,135,136,137,138,139,140,141,142,143,144,145,146,147,148,149,150,151,152,153,154,155,156,157,158,159,160,161,162,163,164,165,166,167,168,169,170,171,172,173,174,175,176,177,178,179,180,181,182,183,184,185,186,187,188,189,190,191,192,193,194,195,196,197,198,199],\"xaxis\":\"x\",\"y\":[51951.60899893349,72023.19939288936,70301.3965917718,68757.49230879515,71096.79909641987,79700.47186368365,78952.84077976421,80075.51741820548,79095.114791451,77782.73954655755,78189.46952175397,76886.9305146448,82322.49492221599,86687.06906150052,86095.56774416303,84864.56263424686,85623.76574963961,94766.274034402,94256.8317111395,98007.1539639541,97563.00719355917,97052.23947841125,96502.3740484414,95388.37675715899,96175.39711056987,95097.00590902033,103125.10169260293,103652.1791647035,105512.26001376596,104753.81880151531,103815.57205846536,104378.49635624769,116032.47672704193,114902.51508956467,114098.3549168429,115024.93895875555,114217.246453486,113222.10431649405,112260.21797688038,111304.25186478005,110743.80679378349,112085.66151644102,132323.7003231335,132070.58146876472,133395.74877165837,132395.81322975236,131473.43354917708,130490.61044845499,129555.84655376982,128642.89325917003,127827.59991595885,126920.69278012702,126040.37349174166,125531.32985758237,124705.70392345883,124104.91362315029,123535.79615016111,123253.0818891883,125083.19096156646,130033.38208502735,129549.10972287264,128828.27193523862,128975.23741043975,128195.78381625548,128890.16470281815,130067.02695340586,129308.61702395105,128638.98698649953,127927.7306906109,128251.48119048982,128242.94702887337,130131.947615151,129681.11649282945,129136.69306640903,128548.92751257113,129207.68086581833,128537.39747028172,135222.41689982056,134918.5997985671,134989.52832337338,136592.96179462512,136016.28264324024,135354.36516817642,134696.1669078801,134312.94791464895,133675.4777956498,133054.64182702234,133867.03284554812,133320.6044097839,132709.9242097071,132624.89380085783,132920.14363304703,133030.0794859909,133746.90608588498,133269.18875824622,132870.66935215695,133315.09025758266,133104.9756771116,132553.45238499166,131998.07420647723,132216.83491874358,131680.77871442868,131194.46144126612,130832.96936357288,130309.28894960647,134768.958225153,134334.4669258679,133889.6267764341,133383.53091383743,133017.4239258941,132581.11077344467,132168.96459951843,132825.59839088228,132326.80725929793,132972.10482446558,132854.68833018283,132529.59549360827,133796.1980693867,142165.86503223315,141730.32705570338,141305.6496079054,140806.60140188958,140310.3883883066,140208.24058864306,139740.10537206984,139991.2545164144,140887.8020294525,143992.4068260999,143519.41320333004,143039.16975174504,143076.89399535878,142892.19139345034,142518.06717350808,142076.89960948247,141656.50863102684,141348.45380423166,142868.9630354191,142413.32575327455,141981.77279201188,141588.16645094476,141170.7187925165,141139.88558776234,141050.83700833088,141221.9827719756,141278.05327771252,140900.06023106622,140589.55431709814,140694.96883332296,140324.46575078426,140384.09068519523,140523.20036085957,140211.001229254,139813.06751020064,139408.6420031461,139007.40798867034,138783.85990189435,138741.98931607197,139964.50372364695,139922.51404261446,141007.1602107592,140652.8875499127,141496.21845442985,141168.42706367982,140800.54374972524,140827.58898378248,140697.30789022928,141029.42335217813,140749.7142823848,140876.28258108514,140512.7623633018,141005.4658812531,141190.03523984787,140911.84396261963,140562.7394452405,140266.85633572398,139936.28655359225,139750.3387940843,139395.17758146184,139333.5195700636,139202.03562450496],\"yaxis\":\"y\",\"type\":\"scatter\"},{\"hovertemplate\":\"Error Type=Validation|Test Error<br>Training Set Size=%{x}<br>Root Mean Squared Error (RMSE)=%{y}<extra></extra>\",\"legendgroup\":\"Validation|Test Error\",\"line\":{\"color\":\"#EF553B\",\"dash\":\"solid\"},\"marker\":{\"symbol\":\"circle\"},\"mode\":\"lines\",\"name\":\"Validation|Test Error\",\"orientation\":\"v\",\"showlegend\":true,\"x\":[20,21,22,23,24,25,26,27,28,29,30,31,32,33,34,35,36,37,38,39,40,41,42,43,44,45,46,47,48,49,50,51,52,53,54,55,56,57,58,59,60,61,62,63,64,65,66,67,68,69,70,71,72,73,74,75,76,77,78,79,80,81,82,83,84,85,86,87,88,89,90,91,92,93,94,95,96,97,98,99,100,101,102,103,104,105,106,107,108,109,110,111,112,113,114,115,116,117,118,119,120,121,122,123,124,125,126,127,128,129,130,131,132,133,134,135,136,137,138,139,140,141,142,143,144,145,146,147,148,149,150,151,152,153,154,155,156,157,158,159,160,161,162,163,164,165,166,167,168,169,170,171,172,173,174,175,176,177,178,179,180,181,182,183,184,185,186,187,188,189,190,191,192,193,194,195,196,197,198,199],\"xaxis\":\"x\",\"y\":[280290.15432629175,314556.8059177833,316678.5294465874,316606.58201453503,318899.3796592788,345569.9870746435,344531.3277454308,326528.25127368444,326619.23202471976,325510.3158224181,324728.09351045813,329847.4058914642,311408.6880082222,296326.2008692486,297738.66874137695,295986.5581830128,303167.6140145414,306293.20865715813,299718.3956998194,296767.99529674073,295668.20365863154,296714.7948873479,299497.4682256548,299513.4747143107,294318.9027232101,294142.6041763677,296194.95756467636,293754.291783368,277247.08542586525,274654.3554465723,287201.28384417476,289431.302468301,276252.45839807595,276408.57186005294,276580.89464680955,276280.3093773847,275980.5629444472,275848.2087819342,276356.56688947545,276363.1533034132,275525.4281683735,274497.9765942503,273491.57591804577,270935.3640442132,266139.45278450294,266185.5553247333,266813.0740047147,266994.8172268655,266768.2444310738,266878.77024559036,266320.18371528224,266446.61904781347,266421.9015314802,267127.2628731423,266984.7490770277,267218.507622337,267072.00474663626,268857.5344097361,270041.0143973008,268107.4176114372,267120.89865941665,267241.23181864654,267953.3619998979,267955.2422768405,267664.19810021017,264819.94429675245,264819.8027961517,264945.56658646325,264810.42988475336,263473.9837421357,262035.19905839517,262214.3795096917,262125.25310440361,261681.8122259401,261384.25970704545,260599.20703086304,260613.6719883871,265063.2282596454,265163.4622294972,263439.11379912717,262494.99820147577,262285.93508958793,262263.7900539689,262255.70485106064,262375.29553100397,262361.9654794216,262242.57491567556,261409.42809264094,261057.43441151243,261074.60358194416,261366.90122979268,260092.37732105528,260810.50814932672,258537.22868444052,258604.89271853515,258744.4932813396,258513.06794145488,258666.41987356602,258625.06355711597,258588.81256290883,257372.49024359204,257380.9506841142,257198.84610604207,257957.96986109595,257908.11217415836,256388.30960727384,256353.5026850075,256014.37638304266,255643.63117491035,255415.558022599,255511.89605371738,255484.45738435123,254839.06780172145,255106.61537692926,255083.81143694013,254802.14429063076,255324.0828052221,255545.70587262863,257950.44142294966,257828.8371933716,257783.55338144067,257843.46059114605,257838.04001790908,255274.44652650147,255228.4064369878,255938.64501686147,255198.8221810137,255597.65630941754,255655.5607438506,255665.4693583936,254240.44073673073,252907.9427558437,252974.47558340675,252864.61409099356,252768.40805489014,252694.31872522313,253553.52379530092,253548.82778725776,253582.4426554878,253344.86281087314,253434.2564147855,253297.66112658888,252960.0757820971,251025.07019837922,250544.53262386666,250525.39212033182,250575.91071437023,250820.99809302704,250749.88367565698,251003.25970082407,250728.22871979285,250586.25751685325,250550.57857545337,237169.39216238706,237175.00247516786,237006.53180074578,237379.00352011004,237653.35982379213,237819.81051624994,237310.09988231768,237496.51238349904,236656.43179484113,236737.10235326373,236645.56645222765,244751.3170672612,245079.49739483444,245101.87509015418,245206.5727207061,244815.9365538022,245098.1604560429,244921.30341511895,245181.89517919061,245374.2462589967,245347.69353775439,245213.13710789685,245423.62153463456,245347.8425165272,245353.36489680293,245496.90205949097,245265.57912206737],\"yaxis\":\"y\",\"type\":\"scatter\"}],                        {\"template\":{\"data\":{\"histogram2dcontour\":[{\"type\":\"histogram2dcontour\",\"colorbar\":{\"outlinewidth\":0,\"ticks\":\"\"},\"colorscale\":[[0.0,\"#0d0887\"],[0.1111111111111111,\"#46039f\"],[0.2222222222222222,\"#7201a8\"],[0.3333333333333333,\"#9c179e\"],[0.4444444444444444,\"#bd3786\"],[0.5555555555555556,\"#d8576b\"],[0.6666666666666666,\"#ed7953\"],[0.7777777777777778,\"#fb9f3a\"],[0.8888888888888888,\"#fdca26\"],[1.0,\"#f0f921\"]]}],\"choropleth\":[{\"type\":\"choropleth\",\"colorbar\":{\"outlinewidth\":0,\"ticks\":\"\"}}],\"histogram2d\":[{\"type\":\"histogram2d\",\"colorbar\":{\"outlinewidth\":0,\"ticks\":\"\"},\"colorscale\":[[0.0,\"#0d0887\"],[0.1111111111111111,\"#46039f\"],[0.2222222222222222,\"#7201a8\"],[0.3333333333333333,\"#9c179e\"],[0.4444444444444444,\"#bd3786\"],[0.5555555555555556,\"#d8576b\"],[0.6666666666666666,\"#ed7953\"],[0.7777777777777778,\"#fb9f3a\"],[0.8888888888888888,\"#fdca26\"],[1.0,\"#f0f921\"]]}],\"heatmap\":[{\"type\":\"heatmap\",\"colorbar\":{\"outlinewidth\":0,\"ticks\":\"\"},\"colorscale\":[[0.0,\"#0d0887\"],[0.1111111111111111,\"#46039f\"],[0.2222222222222222,\"#7201a8\"],[0.3333333333333333,\"#9c179e\"],[0.4444444444444444,\"#bd3786\"],[0.5555555555555556,\"#d8576b\"],[0.6666666666666666,\"#ed7953\"],[0.7777777777777778,\"#fb9f3a\"],[0.8888888888888888,\"#fdca26\"],[1.0,\"#f0f921\"]]}],\"heatmapgl\":[{\"type\":\"heatmapgl\",\"colorbar\":{\"outlinewidth\":0,\"ticks\":\"\"},\"colorscale\":[[0.0,\"#0d0887\"],[0.1111111111111111,\"#46039f\"],[0.2222222222222222,\"#7201a8\"],[0.3333333333333333,\"#9c179e\"],[0.4444444444444444,\"#bd3786\"],[0.5555555555555556,\"#d8576b\"],[0.6666666666666666,\"#ed7953\"],[0.7777777777777778,\"#fb9f3a\"],[0.8888888888888888,\"#fdca26\"],[1.0,\"#f0f921\"]]}],\"contourcarpet\":[{\"type\":\"contourcarpet\",\"colorbar\":{\"outlinewidth\":0,\"ticks\":\"\"}}],\"contour\":[{\"type\":\"contour\",\"colorbar\":{\"outlinewidth\":0,\"ticks\":\"\"},\"colorscale\":[[0.0,\"#0d0887\"],[0.1111111111111111,\"#46039f\"],[0.2222222222222222,\"#7201a8\"],[0.3333333333333333,\"#9c179e\"],[0.4444444444444444,\"#bd3786\"],[0.5555555555555556,\"#d8576b\"],[0.6666666666666666,\"#ed7953\"],[0.7777777777777778,\"#fb9f3a\"],[0.8888888888888888,\"#fdca26\"],[1.0,\"#f0f921\"]]}],\"surface\":[{\"type\":\"surface\",\"colorbar\":{\"outlinewidth\":0,\"ticks\":\"\"},\"colorscale\":[[0.0,\"#0d0887\"],[0.1111111111111111,\"#46039f\"],[0.2222222222222222,\"#7201a8\"],[0.3333333333333333,\"#9c179e\"],[0.4444444444444444,\"#bd3786\"],[0.5555555555555556,\"#d8576b\"],[0.6666666666666666,\"#ed7953\"],[0.7777777777777778,\"#fb9f3a\"],[0.8888888888888888,\"#fdca26\"],[1.0,\"#f0f921\"]]}],\"mesh3d\":[{\"type\":\"mesh3d\",\"colorbar\":{\"outlinewidth\":0,\"ticks\":\"\"}}],\"scatter\":[{\"fillpattern\":{\"fillmode\":\"overlay\",\"size\":10,\"solidity\":0.2},\"type\":\"scatter\"}],\"parcoords\":[{\"type\":\"parcoords\",\"line\":{\"colorbar\":{\"outlinewidth\":0,\"ticks\":\"\"}}}],\"scatterpolargl\":[{\"type\":\"scatterpolargl\",\"marker\":{\"colorbar\":{\"outlinewidth\":0,\"ticks\":\"\"}}}],\"bar\":[{\"error_x\":{\"color\":\"#2a3f5f\"},\"error_y\":{\"color\":\"#2a3f5f\"},\"marker\":{\"line\":{\"color\":\"#E5ECF6\",\"width\":0.5},\"pattern\":{\"fillmode\":\"overlay\",\"size\":10,\"solidity\":0.2}},\"type\":\"bar\"}],\"scattergeo\":[{\"type\":\"scattergeo\",\"marker\":{\"colorbar\":{\"outlinewidth\":0,\"ticks\":\"\"}}}],\"scatterpolar\":[{\"type\":\"scatterpolar\",\"marker\":{\"colorbar\":{\"outlinewidth\":0,\"ticks\":\"\"}}}],\"histogram\":[{\"marker\":{\"pattern\":{\"fillmode\":\"overlay\",\"size\":10,\"solidity\":0.2}},\"type\":\"histogram\"}],\"scattergl\":[{\"type\":\"scattergl\",\"marker\":{\"colorbar\":{\"outlinewidth\":0,\"ticks\":\"\"}}}],\"scatter3d\":[{\"type\":\"scatter3d\",\"line\":{\"colorbar\":{\"outlinewidth\":0,\"ticks\":\"\"}},\"marker\":{\"colorbar\":{\"outlinewidth\":0,\"ticks\":\"\"}}}],\"scattermapbox\":[{\"type\":\"scattermapbox\",\"marker\":{\"colorbar\":{\"outlinewidth\":0,\"ticks\":\"\"}}}],\"scatterternary\":[{\"type\":\"scatterternary\",\"marker\":{\"colorbar\":{\"outlinewidth\":0,\"ticks\":\"\"}}}],\"scattercarpet\":[{\"type\":\"scattercarpet\",\"marker\":{\"colorbar\":{\"outlinewidth\":0,\"ticks\":\"\"}}}],\"carpet\":[{\"aaxis\":{\"endlinecolor\":\"#2a3f5f\",\"gridcolor\":\"white\",\"linecolor\":\"white\",\"minorgridcolor\":\"white\",\"startlinecolor\":\"#2a3f5f\"},\"baxis\":{\"endlinecolor\":\"#2a3f5f\",\"gridcolor\":\"white\",\"linecolor\":\"white\",\"minorgridcolor\":\"white\",\"startlinecolor\":\"#2a3f5f\"},\"type\":\"carpet\"}],\"table\":[{\"cells\":{\"fill\":{\"color\":\"#EBF0F8\"},\"line\":{\"color\":\"white\"}},\"header\":{\"fill\":{\"color\":\"#C8D4E3\"},\"line\":{\"color\":\"white\"}},\"type\":\"table\"}],\"barpolar\":[{\"marker\":{\"line\":{\"color\":\"#E5ECF6\",\"width\":0.5},\"pattern\":{\"fillmode\":\"overlay\",\"size\":10,\"solidity\":0.2}},\"type\":\"barpolar\"}],\"pie\":[{\"automargin\":true,\"type\":\"pie\"}]},\"layout\":{\"autotypenumbers\":\"strict\",\"colorway\":[\"#636efa\",\"#EF553B\",\"#00cc96\",\"#ab63fa\",\"#FFA15A\",\"#19d3f3\",\"#FF6692\",\"#B6E880\",\"#FF97FF\",\"#FECB52\"],\"font\":{\"color\":\"#2a3f5f\"},\"hovermode\":\"closest\",\"hoverlabel\":{\"align\":\"left\"},\"paper_bgcolor\":\"white\",\"plot_bgcolor\":\"#E5ECF6\",\"polar\":{\"bgcolor\":\"#E5ECF6\",\"angularaxis\":{\"gridcolor\":\"white\",\"linecolor\":\"white\",\"ticks\":\"\"},\"radialaxis\":{\"gridcolor\":\"white\",\"linecolor\":\"white\",\"ticks\":\"\"}},\"ternary\":{\"bgcolor\":\"#E5ECF6\",\"aaxis\":{\"gridcolor\":\"white\",\"linecolor\":\"white\",\"ticks\":\"\"},\"baxis\":{\"gridcolor\":\"white\",\"linecolor\":\"white\",\"ticks\":\"\"},\"caxis\":{\"gridcolor\":\"white\",\"linecolor\":\"white\",\"ticks\":\"\"}},\"coloraxis\":{\"colorbar\":{\"outlinewidth\":0,\"ticks\":\"\"}},\"colorscale\":{\"sequential\":[[0.0,\"#0d0887\"],[0.1111111111111111,\"#46039f\"],[0.2222222222222222,\"#7201a8\"],[0.3333333333333333,\"#9c179e\"],[0.4444444444444444,\"#bd3786\"],[0.5555555555555556,\"#d8576b\"],[0.6666666666666666,\"#ed7953\"],[0.7777777777777778,\"#fb9f3a\"],[0.8888888888888888,\"#fdca26\"],[1.0,\"#f0f921\"]],\"sequentialminus\":[[0.0,\"#0d0887\"],[0.1111111111111111,\"#46039f\"],[0.2222222222222222,\"#7201a8\"],[0.3333333333333333,\"#9c179e\"],[0.4444444444444444,\"#bd3786\"],[0.5555555555555556,\"#d8576b\"],[0.6666666666666666,\"#ed7953\"],[0.7777777777777778,\"#fb9f3a\"],[0.8888888888888888,\"#fdca26\"],[1.0,\"#f0f921\"]],\"diverging\":[[0,\"#8e0152\"],[0.1,\"#c51b7d\"],[0.2,\"#de77ae\"],[0.3,\"#f1b6da\"],[0.4,\"#fde0ef\"],[0.5,\"#f7f7f7\"],[0.6,\"#e6f5d0\"],[0.7,\"#b8e186\"],[0.8,\"#7fbc41\"],[0.9,\"#4d9221\"],[1,\"#276419\"]]},\"xaxis\":{\"gridcolor\":\"white\",\"linecolor\":\"white\",\"ticks\":\"\",\"title\":{\"standoff\":15},\"zerolinecolor\":\"white\",\"automargin\":true,\"zerolinewidth\":2},\"yaxis\":{\"gridcolor\":\"white\",\"linecolor\":\"white\",\"ticks\":\"\",\"title\":{\"standoff\":15},\"zerolinecolor\":\"white\",\"automargin\":true,\"zerolinewidth\":2},\"scene\":{\"xaxis\":{\"backgroundcolor\":\"#E5ECF6\",\"gridcolor\":\"white\",\"linecolor\":\"white\",\"showbackground\":true,\"ticks\":\"\",\"zerolinecolor\":\"white\",\"gridwidth\":2},\"yaxis\":{\"backgroundcolor\":\"#E5ECF6\",\"gridcolor\":\"white\",\"linecolor\":\"white\",\"showbackground\":true,\"ticks\":\"\",\"zerolinecolor\":\"white\",\"gridwidth\":2},\"zaxis\":{\"backgroundcolor\":\"#E5ECF6\",\"gridcolor\":\"white\",\"linecolor\":\"white\",\"showbackground\":true,\"ticks\":\"\",\"zerolinecolor\":\"white\",\"gridwidth\":2}},\"shapedefaults\":{\"line\":{\"color\":\"#2a3f5f\"}},\"annotationdefaults\":{\"arrowcolor\":\"#2a3f5f\",\"arrowhead\":0,\"arrowwidth\":1},\"geo\":{\"bgcolor\":\"white\",\"landcolor\":\"#E5ECF6\",\"subunitcolor\":\"white\",\"showland\":true,\"showlakes\":true,\"lakecolor\":\"white\"},\"title\":{\"x\":0.05},\"mapbox\":{\"style\":\"light\"}}},\"xaxis\":{\"anchor\":\"y\",\"domain\":[0.0,1.0],\"title\":{\"text\":\"Training Set Size\"}},\"yaxis\":{\"anchor\":\"x\",\"domain\":[0.0,1.0],\"title\":{\"text\":\"Root Mean Squared Error (RMSE)\"}},\"legend\":{\"title\":{\"text\":\"Error Type\"},\"tracegroupgap\":0},\"title\":{\"text\":\"Learning Curves\"}},                        {\"responsive\": true}                    ).then(function(){\n",
       "                            \n",
       "var gd = document.getElementById('09d23691-97f6-4b6b-9fef-60f69f9f8eae');\n",
       "var x = new MutationObserver(function (mutations, observer) {{\n",
       "        var display = window.getComputedStyle(gd).display;\n",
       "        if (!display || display === 'none') {{\n",
       "            console.log([gd, 'removed!']);\n",
       "            Plotly.purge(gd);\n",
       "            observer.disconnect();\n",
       "        }}\n",
       "}});\n",
       "\n",
       "// Listen for the removal of the full notebook cells\n",
       "var notebookContainer = gd.closest('#notebook-container');\n",
       "if (notebookContainer) {{\n",
       "    x.observe(notebookContainer, {childList: true});\n",
       "}}\n",
       "\n",
       "// Listen for the clearing of the current output cell\n",
       "var outputEl = gd.closest('.output');\n",
       "if (outputEl) {{\n",
       "    x.observe(outputEl, {childList: true});\n",
       "}}\n",
       "\n",
       "                        })                };                });            </script>        </div>"
      ]
     },
     "metadata": {},
     "output_type": "display_data"
    }
   ],
   "source": [
    "plot_learning_curves_plotly(ridge_reg, X_train, y_train, X_test, y_test)"
   ]
  },
  {
   "cell_type": "markdown",
   "metadata": {},
   "source": [
    "Lasso Regression - Applies L1 regularization."
   ]
  },
  {
   "cell_type": "code",
   "execution_count": 184,
   "metadata": {},
   "outputs": [
    {
     "name": "stdout",
     "output_type": "stream",
     "text": [
      "Lasso Regression RMSE: 212539.5260270513\n"
     ]
    },
    {
     "name": "stderr",
     "output_type": "stream",
     "text": [
      "C:\\Users\\Lbundi\\AppData\\Local\\anaconda3\\Lib\\site-packages\\sklearn\\linear_model\\_coordinate_descent.py:631: ConvergenceWarning:\n",
      "\n",
      "Objective did not converge. You might want to increase the number of iterations, check the scale of the features or consider increasing regularisation. Duality gap: 2.007e+13, tolerance: 2.259e+11\n",
      "\n"
     ]
    }
   ],
   "source": [
    "from sklearn.linear_model import Lasso\n",
    "\n",
    "# Lasso Regression\n",
    "lasso_reg = Lasso(alpha=0.1,max_iter=50000)\n",
    "lasso_reg.fit(X_train, y_train)\n",
    "y_pred_lasso = lasso_reg.predict(X_test)\n",
    "\n",
    "print(\"Lasso Regression RMSE:\", np.sqrt(mean_squared_error(y_test, y_pred_lasso)))\n",
    "\n"
   ]
  },
  {
   "cell_type": "markdown",
   "metadata": {},
   "source": [
    "ElasticNet"
   ]
  },
  {
   "cell_type": "code",
   "execution_count": 186,
   "metadata": {},
   "outputs": [
    {
     "name": "stdout",
     "output_type": "stream",
     "text": [
      "Elastic Net Regression RMSE: 213354.04216794018\n"
     ]
    }
   ],
   "source": [
    "from sklearn.linear_model import ElasticNet\n",
    "\n",
    "# Elastic Net Regression\n",
    "elastic_net = ElasticNet(alpha=0.1, l1_ratio=0.5)\n",
    "elastic_net.fit(X_train, y_train)\n",
    "y_pred_elastic = elastic_net.predict(X_test)\n",
    "\n",
    "print(\"Elastic Net Regression RMSE:\", np.sqrt(mean_squared_error(y_test, y_pred_elastic)))\n"
   ]
  },
  {
   "cell_type": "code",
   "execution_count": 187,
   "metadata": {},
   "outputs": [
    {
     "data": {
      "application/vnd.plotly.v1+json": {
       "config": {
        "plotlyServerURL": "https://plot.ly"
       },
       "data": [
        {
         "hovertemplate": "Error Type=Training Error<br>Training Set Size=%{x}<br>Root Mean Squared Error (RMSE)=%{y}<extra></extra>",
         "legendgroup": "Training Error",
         "line": {
          "color": "#636efa",
          "dash": "solid"
         },
         "marker": {
          "symbol": "circle"
         },
         "mode": "lines",
         "name": "Training Error",
         "orientation": "v",
         "showlegend": true,
         "type": "scatter",
         "x": [
          20,
          21,
          22,
          23,
          24,
          25,
          26,
          27,
          28,
          29,
          30,
          31,
          32,
          33,
          34,
          35,
          36,
          37,
          38,
          39,
          40,
          41,
          42,
          43,
          44,
          45,
          46,
          47,
          48,
          49,
          50,
          51,
          52,
          53,
          54,
          55,
          56,
          57,
          58,
          59,
          60,
          61,
          62,
          63,
          64,
          65,
          66,
          67,
          68,
          69,
          70,
          71,
          72,
          73,
          74,
          75,
          76,
          77,
          78,
          79,
          80,
          81,
          82,
          83,
          84,
          85,
          86,
          87,
          88,
          89,
          90,
          91,
          92,
          93,
          94,
          95,
          96,
          97,
          98,
          99,
          100,
          101,
          102,
          103,
          104,
          105,
          106,
          107,
          108,
          109,
          110,
          111,
          112,
          113,
          114,
          115,
          116,
          117,
          118,
          119,
          120,
          121,
          122,
          123,
          124,
          125,
          126,
          127,
          128,
          129,
          130,
          131,
          132,
          133,
          134,
          135,
          136,
          137,
          138,
          139,
          140,
          141,
          142,
          143,
          144,
          145,
          146,
          147,
          148,
          149,
          150,
          151,
          152,
          153,
          154,
          155,
          156,
          157,
          158,
          159,
          160,
          161,
          162,
          163,
          164,
          165,
          166,
          167,
          168,
          169,
          170,
          171,
          172,
          173,
          174,
          175,
          176,
          177,
          178,
          179,
          180,
          181,
          182,
          183,
          184,
          185,
          186,
          187,
          188,
          189,
          190,
          191,
          192,
          193,
          194,
          195,
          196,
          197,
          198,
          199
         ],
         "xaxis": "x",
         "y": [
          51951.63421787621,
          72144.55509173905,
          70533.5705781909,
          69096.46049111597,
          71531.04752004793,
          80502.98784665717,
          79850.78495911288,
          81007.61752572807,
          80145.3773723281,
          78833.88256894209,
          79344.56527204232,
          78226.78991823865,
          83663.45632325775,
          87720.28107628849,
          87213.76591850146,
          86064.35136242757,
          86954.22562130653,
          95852.56574403452,
          95422.67903514653,
          99320.98857644515,
          99010.37762528217,
          98544.40894357447,
          98044.45915086496,
          96988.84757349832,
          97753.3211038542,
          96731.41271050062,
          103951.90001521536,
          104573.19928041003,
          106293.72289240155,
          105633.43410782838,
          105074.3829601552,
          105672.94486804816,
          118460.97866128084,
          117286.35372690155,
          116494.68409593152,
          117411.53165474856,
          116556.58317584137,
          115601.2334135576,
          114727.4815973837,
          113813.3998323611,
          113258.54836923491,
          114541.10014336018,
          134357.9790616453,
          134165.9489978151,
          135232.48138077935,
          134262.4249783743,
          133334.16508670666,
          132373.68378423987,
          131435.2843074299,
          130543.07678686174,
          129727.64305700803,
          128840.50773834698,
          127976.13094734584,
          127474.55411211321,
          126654.22177986958,
          126106.97814034336,
          125575.676149833,
          125353.98405864026,
          127429.60382251251,
          132039.5424882658,
          131469.31917926474,
          130743.73362040355,
          130910.34170870188,
          130129.85992273521,
          130713.36818426858,
          131346.28483715572,
          130595.63165131284,
          129936.32494928795,
          129229.44165208846,
          129511.77816235431,
          129360.24030568358,
          131224.72802799553,
          130728.04452903014,
          130186.95223808802,
          129585.03007812698,
          130144.70854159728,
          129481.93114252904,
          136297.39532305885,
          135982.69697038893,
          135985.33867335969,
          137580.53314572977,
          137002.8584187911,
          136349.21046140936,
          135695.7095124395,
          135296.64586845174,
          134666.96799725734,
          134047.50044630878,
          134811.0682045202,
          134265.95103783376,
          133662.21882258749,
          133602.1779140762,
          133896.45218673028,
          134036.5256238435,
          135222.47627065756,
          134770.08225213503,
          134383.28087304876,
          134741.60412456963,
          134513.573586817,
          133961.13529000338,
          133321.13309012214,
          133494.40544644187,
          132961.9767246882,
          132469.46394140206,
          132162.8083755828,
          131642.70784558397,
          135866.4277341261,
          135440.7131088036,
          134982.21056902257,
          134498.17296581934,
          134113.56768143328,
          133700.13371198633,
          133307.48503936426,
          133937.38017895288,
          133451.1344719842,
          134060.3596329808,
          133928.94602214187,
          133519.10364868495,
          134784.19382703365,
          143327.0963348348,
          142881.1209369776,
          142445.94109347925,
          141956.5363897832,
          141465.87918062555,
          141100.19692083792,
          140632.10461999997,
          140882.78745703102,
          141747.95341870075,
          144848.49021655857,
          144381.58323495212,
          143905.5101220589,
          143927.9305933665,
          143743.37477845044,
          143379.99277406142,
          142937.25948054483,
          142511.18459260312,
          142196.64731898607,
          143641.13862223766,
          143190.52335620968,
          142763.8122902613,
          142366.2197069013,
          141955.7131502146,
          141942.5095019938,
          141840.1441801322,
          141902.54853210528,
          141933.41450169595,
          141559.4094321424,
          141252.60880318898,
          141382.42560081897,
          141015.8825906311,
          141054.75036464774,
          141203.92209245253,
          140880.8762382842,
          140485.26661687787,
          140095.89993336657,
          139698.61938075584,
          139487.37785748148,
          139447.9084909913,
          140693.07988234452,
          140665.8039240129,
          141798.3368202453,
          141447.79909129263,
          142252.65179043778,
          141922.04745255588,
          141552.9499166189,
          141725.05265423603,
          141602.60597207095,
          141922.92871138404,
          141645.9011221778,
          141774.78597679417,
          141417.0995716888,
          141928.20894858922,
          142154.0495349384,
          141883.24227973307,
          141535.60482838168,
          141226.81747448316,
          140902.2463675385,
          140715.2942330125,
          140364.33380253467,
          140305.55919171876,
          140167.31819979908
         ],
         "yaxis": "y"
        },
        {
         "hovertemplate": "Error Type=Validation|Test Error<br>Training Set Size=%{x}<br>Root Mean Squared Error (RMSE)=%{y}<extra></extra>",
         "legendgroup": "Validation|Test Error",
         "line": {
          "color": "#EF553B",
          "dash": "solid"
         },
         "marker": {
          "symbol": "circle"
         },
         "mode": "lines",
         "name": "Validation|Test Error",
         "orientation": "v",
         "showlegend": true,
         "type": "scatter",
         "x": [
          20,
          21,
          22,
          23,
          24,
          25,
          26,
          27,
          28,
          29,
          30,
          31,
          32,
          33,
          34,
          35,
          36,
          37,
          38,
          39,
          40,
          41,
          42,
          43,
          44,
          45,
          46,
          47,
          48,
          49,
          50,
          51,
          52,
          53,
          54,
          55,
          56,
          57,
          58,
          59,
          60,
          61,
          62,
          63,
          64,
          65,
          66,
          67,
          68,
          69,
          70,
          71,
          72,
          73,
          74,
          75,
          76,
          77,
          78,
          79,
          80,
          81,
          82,
          83,
          84,
          85,
          86,
          87,
          88,
          89,
          90,
          91,
          92,
          93,
          94,
          95,
          96,
          97,
          98,
          99,
          100,
          101,
          102,
          103,
          104,
          105,
          106,
          107,
          108,
          109,
          110,
          111,
          112,
          113,
          114,
          115,
          116,
          117,
          118,
          119,
          120,
          121,
          122,
          123,
          124,
          125,
          126,
          127,
          128,
          129,
          130,
          131,
          132,
          133,
          134,
          135,
          136,
          137,
          138,
          139,
          140,
          141,
          142,
          143,
          144,
          145,
          146,
          147,
          148,
          149,
          150,
          151,
          152,
          153,
          154,
          155,
          156,
          157,
          158,
          159,
          160,
          161,
          162,
          163,
          164,
          165,
          166,
          167,
          168,
          169,
          170,
          171,
          172,
          173,
          174,
          175,
          176,
          177,
          178,
          179,
          180,
          181,
          182,
          183,
          184,
          185,
          186,
          187,
          188,
          189,
          190,
          191,
          192,
          193,
          194,
          195,
          196,
          197,
          198,
          199
         ],
         "xaxis": "x",
         "y": [
          280290.38121456327,
          314160.00877741375,
          315951.596245039,
          315550.98376654374,
          317301.669670504,
          339461.3895550327,
          337655.46372033306,
          320105.42125301954,
          319476.7018100836,
          319444.17403014615,
          317667.75521697087,
          322384.48196295946,
          304510.6811356609,
          292917.42677367566,
          293525.97366664105,
          291333.80266901595,
          296427.6078160829,
          302255.9200031904,
          296552.0883543121,
          293185.40630504244,
          291684.6490323897,
          292421.77611855225,
          294970.065772396,
          294852.48986697325,
          290948.35062832804,
          290514.73220407363,
          294059.34083427326,
          291056.1403916695,
          276508.40944544,
          273638.0691638175,
          283370.9744571585,
          285658.0586461844,
          268250.8602720897,
          268362.37028941984,
          268445.3490052302,
          267963.4826578246,
          267954.8116628919,
          267619.9639745018,
          267740.06607194536,
          267649.29223439464,
          267049.26650767867,
          266255.503489739,
          263902.2403312303,
          261117.99392925217,
          257595.33430204034,
          257412.4028025736,
          257607.95368410696,
          257665.38284787565,
          257568.01085347173,
          257504.07224942726,
          257075.00350761833,
          256895.53293637963,
          256813.6791850766,
          257109.35245439032,
          256991.00453017373,
          256722.65026314955,
          256369.43286039043,
          257446.9413732477,
          257301.20339252657,
          257208.61102680612,
          256719.33582925145,
          256846.04911903923,
          257379.8493005717,
          257422.63802280164,
          257526.9171193552,
          257396.7580725752,
          257357.08490418005,
          257390.45629108377,
          257261.44110922609,
          256449.66227252255,
          255770.01105374697,
          256024.9567785881,
          256024.5331042474,
          255794.9560417956,
          255609.8590477129,
          255419.43445123846,
          255395.0104862831,
          256478.1262030456,
          256648.01263496306,
          255653.75092272097,
          254642.80214707123,
          254461.4036924891,
          254410.2033801386,
          254397.85461790554,
          254349.7864982639,
          254296.08973989275,
          254225.20380810671,
          253820.31925172798,
          253542.35083574156,
          253507.70631608376,
          253269.42008762865,
          252399.57900026604,
          252699.17313790604,
          248733.51486771525,
          248711.4201465604,
          248689.10982031273,
          248826.9838276742,
          248928.42482923376,
          248907.31562903422,
          249084.29449423263,
          248651.66439045643,
          248628.1961750714,
          248568.03907095318,
          249001.79018726823,
          248969.8358155509,
          249389.38581644962,
          249309.4301865658,
          249216.22394986585,
          248757.38820682466,
          248709.58095017864,
          248701.30269483916,
          248575.69965994015,
          248571.96161612737,
          248704.0242699023,
          249097.42150974422,
          248944.1699528248,
          249190.08731913002,
          249072.1740215528,
          249532.87600061102,
          249521.16190597872,
          249575.52231197775,
          249575.50218440444,
          249551.86582995421,
          249367.21981871285,
          249336.27111253666,
          249810.09077757568,
          249119.82809607696,
          249400.95156684698,
          249417.90291667663,
          249397.64648145673,
          248379.32877796347,
          247273.42202909218,
          247162.77230564007,
          247161.56892945035,
          247172.0745666055,
          247098.70414119944,
          248156.67680058136,
          248140.3619736457,
          248130.84910757115,
          248017.66583493122,
          247971.56155791797,
          247467.2698170846,
          247418.20934672715,
          246679.475022839,
          246665.02791889384,
          246632.13462438318,
          246640.67000474516,
          246744.1632652293,
          246662.89242854304,
          246970.19090909444,
          246713.54187387746,
          246686.76404757792,
          246617.46045329538,
          233145.43393750436,
          233160.36439031316,
          232870.19656718225,
          233256.51720669374,
          233027.72341203853,
          233078.08692552385,
          232027.40868614253,
          232135.3865409726,
          232224.514964046,
          232405.59100148038,
          232369.04324650666,
          237455.633192209,
          237620.0528237693,
          237658.88066678596,
          237720.1201640506,
          237418.94210294573,
          237685.56235373707,
          237558.60944807628,
          237470.27346442087,
          237552.5054585537,
          237516.2278171768,
          237485.47826938363,
          237707.42455364447,
          237661.85452647612,
          237655.9803533365,
          237721.67173868584,
          237502.81916666913
         ],
         "yaxis": "y"
        }
       ],
       "layout": {
        "legend": {
         "title": {
          "text": "Error Type"
         },
         "tracegroupgap": 0
        },
        "template": {
         "data": {
          "bar": [
           {
            "error_x": {
             "color": "#2a3f5f"
            },
            "error_y": {
             "color": "#2a3f5f"
            },
            "marker": {
             "line": {
              "color": "#E5ECF6",
              "width": 0.5
             },
             "pattern": {
              "fillmode": "overlay",
              "size": 10,
              "solidity": 0.2
             }
            },
            "type": "bar"
           }
          ],
          "barpolar": [
           {
            "marker": {
             "line": {
              "color": "#E5ECF6",
              "width": 0.5
             },
             "pattern": {
              "fillmode": "overlay",
              "size": 10,
              "solidity": 0.2
             }
            },
            "type": "barpolar"
           }
          ],
          "carpet": [
           {
            "aaxis": {
             "endlinecolor": "#2a3f5f",
             "gridcolor": "white",
             "linecolor": "white",
             "minorgridcolor": "white",
             "startlinecolor": "#2a3f5f"
            },
            "baxis": {
             "endlinecolor": "#2a3f5f",
             "gridcolor": "white",
             "linecolor": "white",
             "minorgridcolor": "white",
             "startlinecolor": "#2a3f5f"
            },
            "type": "carpet"
           }
          ],
          "choropleth": [
           {
            "colorbar": {
             "outlinewidth": 0,
             "ticks": ""
            },
            "type": "choropleth"
           }
          ],
          "contour": [
           {
            "colorbar": {
             "outlinewidth": 0,
             "ticks": ""
            },
            "colorscale": [
             [
              0,
              "#0d0887"
             ],
             [
              0.1111111111111111,
              "#46039f"
             ],
             [
              0.2222222222222222,
              "#7201a8"
             ],
             [
              0.3333333333333333,
              "#9c179e"
             ],
             [
              0.4444444444444444,
              "#bd3786"
             ],
             [
              0.5555555555555556,
              "#d8576b"
             ],
             [
              0.6666666666666666,
              "#ed7953"
             ],
             [
              0.7777777777777778,
              "#fb9f3a"
             ],
             [
              0.8888888888888888,
              "#fdca26"
             ],
             [
              1,
              "#f0f921"
             ]
            ],
            "type": "contour"
           }
          ],
          "contourcarpet": [
           {
            "colorbar": {
             "outlinewidth": 0,
             "ticks": ""
            },
            "type": "contourcarpet"
           }
          ],
          "heatmap": [
           {
            "colorbar": {
             "outlinewidth": 0,
             "ticks": ""
            },
            "colorscale": [
             [
              0,
              "#0d0887"
             ],
             [
              0.1111111111111111,
              "#46039f"
             ],
             [
              0.2222222222222222,
              "#7201a8"
             ],
             [
              0.3333333333333333,
              "#9c179e"
             ],
             [
              0.4444444444444444,
              "#bd3786"
             ],
             [
              0.5555555555555556,
              "#d8576b"
             ],
             [
              0.6666666666666666,
              "#ed7953"
             ],
             [
              0.7777777777777778,
              "#fb9f3a"
             ],
             [
              0.8888888888888888,
              "#fdca26"
             ],
             [
              1,
              "#f0f921"
             ]
            ],
            "type": "heatmap"
           }
          ],
          "heatmapgl": [
           {
            "colorbar": {
             "outlinewidth": 0,
             "ticks": ""
            },
            "colorscale": [
             [
              0,
              "#0d0887"
             ],
             [
              0.1111111111111111,
              "#46039f"
             ],
             [
              0.2222222222222222,
              "#7201a8"
             ],
             [
              0.3333333333333333,
              "#9c179e"
             ],
             [
              0.4444444444444444,
              "#bd3786"
             ],
             [
              0.5555555555555556,
              "#d8576b"
             ],
             [
              0.6666666666666666,
              "#ed7953"
             ],
             [
              0.7777777777777778,
              "#fb9f3a"
             ],
             [
              0.8888888888888888,
              "#fdca26"
             ],
             [
              1,
              "#f0f921"
             ]
            ],
            "type": "heatmapgl"
           }
          ],
          "histogram": [
           {
            "marker": {
             "pattern": {
              "fillmode": "overlay",
              "size": 10,
              "solidity": 0.2
             }
            },
            "type": "histogram"
           }
          ],
          "histogram2d": [
           {
            "colorbar": {
             "outlinewidth": 0,
             "ticks": ""
            },
            "colorscale": [
             [
              0,
              "#0d0887"
             ],
             [
              0.1111111111111111,
              "#46039f"
             ],
             [
              0.2222222222222222,
              "#7201a8"
             ],
             [
              0.3333333333333333,
              "#9c179e"
             ],
             [
              0.4444444444444444,
              "#bd3786"
             ],
             [
              0.5555555555555556,
              "#d8576b"
             ],
             [
              0.6666666666666666,
              "#ed7953"
             ],
             [
              0.7777777777777778,
              "#fb9f3a"
             ],
             [
              0.8888888888888888,
              "#fdca26"
             ],
             [
              1,
              "#f0f921"
             ]
            ],
            "type": "histogram2d"
           }
          ],
          "histogram2dcontour": [
           {
            "colorbar": {
             "outlinewidth": 0,
             "ticks": ""
            },
            "colorscale": [
             [
              0,
              "#0d0887"
             ],
             [
              0.1111111111111111,
              "#46039f"
             ],
             [
              0.2222222222222222,
              "#7201a8"
             ],
             [
              0.3333333333333333,
              "#9c179e"
             ],
             [
              0.4444444444444444,
              "#bd3786"
             ],
             [
              0.5555555555555556,
              "#d8576b"
             ],
             [
              0.6666666666666666,
              "#ed7953"
             ],
             [
              0.7777777777777778,
              "#fb9f3a"
             ],
             [
              0.8888888888888888,
              "#fdca26"
             ],
             [
              1,
              "#f0f921"
             ]
            ],
            "type": "histogram2dcontour"
           }
          ],
          "mesh3d": [
           {
            "colorbar": {
             "outlinewidth": 0,
             "ticks": ""
            },
            "type": "mesh3d"
           }
          ],
          "parcoords": [
           {
            "line": {
             "colorbar": {
              "outlinewidth": 0,
              "ticks": ""
             }
            },
            "type": "parcoords"
           }
          ],
          "pie": [
           {
            "automargin": true,
            "type": "pie"
           }
          ],
          "scatter": [
           {
            "fillpattern": {
             "fillmode": "overlay",
             "size": 10,
             "solidity": 0.2
            },
            "type": "scatter"
           }
          ],
          "scatter3d": [
           {
            "line": {
             "colorbar": {
              "outlinewidth": 0,
              "ticks": ""
             }
            },
            "marker": {
             "colorbar": {
              "outlinewidth": 0,
              "ticks": ""
             }
            },
            "type": "scatter3d"
           }
          ],
          "scattercarpet": [
           {
            "marker": {
             "colorbar": {
              "outlinewidth": 0,
              "ticks": ""
             }
            },
            "type": "scattercarpet"
           }
          ],
          "scattergeo": [
           {
            "marker": {
             "colorbar": {
              "outlinewidth": 0,
              "ticks": ""
             }
            },
            "type": "scattergeo"
           }
          ],
          "scattergl": [
           {
            "marker": {
             "colorbar": {
              "outlinewidth": 0,
              "ticks": ""
             }
            },
            "type": "scattergl"
           }
          ],
          "scattermapbox": [
           {
            "marker": {
             "colorbar": {
              "outlinewidth": 0,
              "ticks": ""
             }
            },
            "type": "scattermapbox"
           }
          ],
          "scatterpolar": [
           {
            "marker": {
             "colorbar": {
              "outlinewidth": 0,
              "ticks": ""
             }
            },
            "type": "scatterpolar"
           }
          ],
          "scatterpolargl": [
           {
            "marker": {
             "colorbar": {
              "outlinewidth": 0,
              "ticks": ""
             }
            },
            "type": "scatterpolargl"
           }
          ],
          "scatterternary": [
           {
            "marker": {
             "colorbar": {
              "outlinewidth": 0,
              "ticks": ""
             }
            },
            "type": "scatterternary"
           }
          ],
          "surface": [
           {
            "colorbar": {
             "outlinewidth": 0,
             "ticks": ""
            },
            "colorscale": [
             [
              0,
              "#0d0887"
             ],
             [
              0.1111111111111111,
              "#46039f"
             ],
             [
              0.2222222222222222,
              "#7201a8"
             ],
             [
              0.3333333333333333,
              "#9c179e"
             ],
             [
              0.4444444444444444,
              "#bd3786"
             ],
             [
              0.5555555555555556,
              "#d8576b"
             ],
             [
              0.6666666666666666,
              "#ed7953"
             ],
             [
              0.7777777777777778,
              "#fb9f3a"
             ],
             [
              0.8888888888888888,
              "#fdca26"
             ],
             [
              1,
              "#f0f921"
             ]
            ],
            "type": "surface"
           }
          ],
          "table": [
           {
            "cells": {
             "fill": {
              "color": "#EBF0F8"
             },
             "line": {
              "color": "white"
             }
            },
            "header": {
             "fill": {
              "color": "#C8D4E3"
             },
             "line": {
              "color": "white"
             }
            },
            "type": "table"
           }
          ]
         },
         "layout": {
          "annotationdefaults": {
           "arrowcolor": "#2a3f5f",
           "arrowhead": 0,
           "arrowwidth": 1
          },
          "autotypenumbers": "strict",
          "coloraxis": {
           "colorbar": {
            "outlinewidth": 0,
            "ticks": ""
           }
          },
          "colorscale": {
           "diverging": [
            [
             0,
             "#8e0152"
            ],
            [
             0.1,
             "#c51b7d"
            ],
            [
             0.2,
             "#de77ae"
            ],
            [
             0.3,
             "#f1b6da"
            ],
            [
             0.4,
             "#fde0ef"
            ],
            [
             0.5,
             "#f7f7f7"
            ],
            [
             0.6,
             "#e6f5d0"
            ],
            [
             0.7,
             "#b8e186"
            ],
            [
             0.8,
             "#7fbc41"
            ],
            [
             0.9,
             "#4d9221"
            ],
            [
             1,
             "#276419"
            ]
           ],
           "sequential": [
            [
             0,
             "#0d0887"
            ],
            [
             0.1111111111111111,
             "#46039f"
            ],
            [
             0.2222222222222222,
             "#7201a8"
            ],
            [
             0.3333333333333333,
             "#9c179e"
            ],
            [
             0.4444444444444444,
             "#bd3786"
            ],
            [
             0.5555555555555556,
             "#d8576b"
            ],
            [
             0.6666666666666666,
             "#ed7953"
            ],
            [
             0.7777777777777778,
             "#fb9f3a"
            ],
            [
             0.8888888888888888,
             "#fdca26"
            ],
            [
             1,
             "#f0f921"
            ]
           ],
           "sequentialminus": [
            [
             0,
             "#0d0887"
            ],
            [
             0.1111111111111111,
             "#46039f"
            ],
            [
             0.2222222222222222,
             "#7201a8"
            ],
            [
             0.3333333333333333,
             "#9c179e"
            ],
            [
             0.4444444444444444,
             "#bd3786"
            ],
            [
             0.5555555555555556,
             "#d8576b"
            ],
            [
             0.6666666666666666,
             "#ed7953"
            ],
            [
             0.7777777777777778,
             "#fb9f3a"
            ],
            [
             0.8888888888888888,
             "#fdca26"
            ],
            [
             1,
             "#f0f921"
            ]
           ]
          },
          "colorway": [
           "#636efa",
           "#EF553B",
           "#00cc96",
           "#ab63fa",
           "#FFA15A",
           "#19d3f3",
           "#FF6692",
           "#B6E880",
           "#FF97FF",
           "#FECB52"
          ],
          "font": {
           "color": "#2a3f5f"
          },
          "geo": {
           "bgcolor": "white",
           "lakecolor": "white",
           "landcolor": "#E5ECF6",
           "showlakes": true,
           "showland": true,
           "subunitcolor": "white"
          },
          "hoverlabel": {
           "align": "left"
          },
          "hovermode": "closest",
          "mapbox": {
           "style": "light"
          },
          "paper_bgcolor": "white",
          "plot_bgcolor": "#E5ECF6",
          "polar": {
           "angularaxis": {
            "gridcolor": "white",
            "linecolor": "white",
            "ticks": ""
           },
           "bgcolor": "#E5ECF6",
           "radialaxis": {
            "gridcolor": "white",
            "linecolor": "white",
            "ticks": ""
           }
          },
          "scene": {
           "xaxis": {
            "backgroundcolor": "#E5ECF6",
            "gridcolor": "white",
            "gridwidth": 2,
            "linecolor": "white",
            "showbackground": true,
            "ticks": "",
            "zerolinecolor": "white"
           },
           "yaxis": {
            "backgroundcolor": "#E5ECF6",
            "gridcolor": "white",
            "gridwidth": 2,
            "linecolor": "white",
            "showbackground": true,
            "ticks": "",
            "zerolinecolor": "white"
           },
           "zaxis": {
            "backgroundcolor": "#E5ECF6",
            "gridcolor": "white",
            "gridwidth": 2,
            "linecolor": "white",
            "showbackground": true,
            "ticks": "",
            "zerolinecolor": "white"
           }
          },
          "shapedefaults": {
           "line": {
            "color": "#2a3f5f"
           }
          },
          "ternary": {
           "aaxis": {
            "gridcolor": "white",
            "linecolor": "white",
            "ticks": ""
           },
           "baxis": {
            "gridcolor": "white",
            "linecolor": "white",
            "ticks": ""
           },
           "bgcolor": "#E5ECF6",
           "caxis": {
            "gridcolor": "white",
            "linecolor": "white",
            "ticks": ""
           }
          },
          "title": {
           "x": 0.05
          },
          "xaxis": {
           "automargin": true,
           "gridcolor": "white",
           "linecolor": "white",
           "ticks": "",
           "title": {
            "standoff": 15
           },
           "zerolinecolor": "white",
           "zerolinewidth": 2
          },
          "yaxis": {
           "automargin": true,
           "gridcolor": "white",
           "linecolor": "white",
           "ticks": "",
           "title": {
            "standoff": 15
           },
           "zerolinecolor": "white",
           "zerolinewidth": 2
          }
         }
        },
        "title": {
         "text": "Learning Curves"
        },
        "xaxis": {
         "anchor": "y",
         "domain": [
          0,
          1
         ],
         "title": {
          "text": "Training Set Size"
         }
        },
        "yaxis": {
         "anchor": "x",
         "domain": [
          0,
          1
         ],
         "title": {
          "text": "Root Mean Squared Error (RMSE)"
         }
        }
       }
      },
      "text/html": [
       "<div>                            <div id=\"f764c3e3-5cff-4b93-be89-0b1a9c0a4401\" class=\"plotly-graph-div\" style=\"height:525px; width:100%;\"></div>            <script type=\"text/javascript\">                require([\"plotly\"], function(Plotly) {                    window.PLOTLYENV=window.PLOTLYENV || {};                                    if (document.getElementById(\"f764c3e3-5cff-4b93-be89-0b1a9c0a4401\")) {                    Plotly.newPlot(                        \"f764c3e3-5cff-4b93-be89-0b1a9c0a4401\",                        [{\"hovertemplate\":\"Error Type=Training Error<br>Training Set Size=%{x}<br>Root Mean Squared Error (RMSE)=%{y}<extra></extra>\",\"legendgroup\":\"Training Error\",\"line\":{\"color\":\"#636efa\",\"dash\":\"solid\"},\"marker\":{\"symbol\":\"circle\"},\"mode\":\"lines\",\"name\":\"Training Error\",\"orientation\":\"v\",\"showlegend\":true,\"x\":[20,21,22,23,24,25,26,27,28,29,30,31,32,33,34,35,36,37,38,39,40,41,42,43,44,45,46,47,48,49,50,51,52,53,54,55,56,57,58,59,60,61,62,63,64,65,66,67,68,69,70,71,72,73,74,75,76,77,78,79,80,81,82,83,84,85,86,87,88,89,90,91,92,93,94,95,96,97,98,99,100,101,102,103,104,105,106,107,108,109,110,111,112,113,114,115,116,117,118,119,120,121,122,123,124,125,126,127,128,129,130,131,132,133,134,135,136,137,138,139,140,141,142,143,144,145,146,147,148,149,150,151,152,153,154,155,156,157,158,159,160,161,162,163,164,165,166,167,168,169,170,171,172,173,174,175,176,177,178,179,180,181,182,183,184,185,186,187,188,189,190,191,192,193,194,195,196,197,198,199],\"xaxis\":\"x\",\"y\":[51951.63421787621,72144.55509173905,70533.5705781909,69096.46049111597,71531.04752004793,80502.98784665717,79850.78495911288,81007.61752572807,80145.3773723281,78833.88256894209,79344.56527204232,78226.78991823865,83663.45632325775,87720.28107628849,87213.76591850146,86064.35136242757,86954.22562130653,95852.56574403452,95422.67903514653,99320.98857644515,99010.37762528217,98544.40894357447,98044.45915086496,96988.84757349832,97753.3211038542,96731.41271050062,103951.90001521536,104573.19928041003,106293.72289240155,105633.43410782838,105074.3829601552,105672.94486804816,118460.97866128084,117286.35372690155,116494.68409593152,117411.53165474856,116556.58317584137,115601.2334135576,114727.4815973837,113813.3998323611,113258.54836923491,114541.10014336018,134357.9790616453,134165.9489978151,135232.48138077935,134262.4249783743,133334.16508670666,132373.68378423987,131435.2843074299,130543.07678686174,129727.64305700803,128840.50773834698,127976.13094734584,127474.55411211321,126654.22177986958,126106.97814034336,125575.676149833,125353.98405864026,127429.60382251251,132039.5424882658,131469.31917926474,130743.73362040355,130910.34170870188,130129.85992273521,130713.36818426858,131346.28483715572,130595.63165131284,129936.32494928795,129229.44165208846,129511.77816235431,129360.24030568358,131224.72802799553,130728.04452903014,130186.95223808802,129585.03007812698,130144.70854159728,129481.93114252904,136297.39532305885,135982.69697038893,135985.33867335969,137580.53314572977,137002.8584187911,136349.21046140936,135695.7095124395,135296.64586845174,134666.96799725734,134047.50044630878,134811.0682045202,134265.95103783376,133662.21882258749,133602.1779140762,133896.45218673028,134036.5256238435,135222.47627065756,134770.08225213503,134383.28087304876,134741.60412456963,134513.573586817,133961.13529000338,133321.13309012214,133494.40544644187,132961.9767246882,132469.46394140206,132162.8083755828,131642.70784558397,135866.4277341261,135440.7131088036,134982.21056902257,134498.17296581934,134113.56768143328,133700.13371198633,133307.48503936426,133937.38017895288,133451.1344719842,134060.3596329808,133928.94602214187,133519.10364868495,134784.19382703365,143327.0963348348,142881.1209369776,142445.94109347925,141956.5363897832,141465.87918062555,141100.19692083792,140632.10461999997,140882.78745703102,141747.95341870075,144848.49021655857,144381.58323495212,143905.5101220589,143927.9305933665,143743.37477845044,143379.99277406142,142937.25948054483,142511.18459260312,142196.64731898607,143641.13862223766,143190.52335620968,142763.8122902613,142366.2197069013,141955.7131502146,141942.5095019938,141840.1441801322,141902.54853210528,141933.41450169595,141559.4094321424,141252.60880318898,141382.42560081897,141015.8825906311,141054.75036464774,141203.92209245253,140880.8762382842,140485.26661687787,140095.89993336657,139698.61938075584,139487.37785748148,139447.9084909913,140693.07988234452,140665.8039240129,141798.3368202453,141447.79909129263,142252.65179043778,141922.04745255588,141552.9499166189,141725.05265423603,141602.60597207095,141922.92871138404,141645.9011221778,141774.78597679417,141417.0995716888,141928.20894858922,142154.0495349384,141883.24227973307,141535.60482838168,141226.81747448316,140902.2463675385,140715.2942330125,140364.33380253467,140305.55919171876,140167.31819979908],\"yaxis\":\"y\",\"type\":\"scatter\"},{\"hovertemplate\":\"Error Type=Validation|Test Error<br>Training Set Size=%{x}<br>Root Mean Squared Error (RMSE)=%{y}<extra></extra>\",\"legendgroup\":\"Validation|Test Error\",\"line\":{\"color\":\"#EF553B\",\"dash\":\"solid\"},\"marker\":{\"symbol\":\"circle\"},\"mode\":\"lines\",\"name\":\"Validation|Test Error\",\"orientation\":\"v\",\"showlegend\":true,\"x\":[20,21,22,23,24,25,26,27,28,29,30,31,32,33,34,35,36,37,38,39,40,41,42,43,44,45,46,47,48,49,50,51,52,53,54,55,56,57,58,59,60,61,62,63,64,65,66,67,68,69,70,71,72,73,74,75,76,77,78,79,80,81,82,83,84,85,86,87,88,89,90,91,92,93,94,95,96,97,98,99,100,101,102,103,104,105,106,107,108,109,110,111,112,113,114,115,116,117,118,119,120,121,122,123,124,125,126,127,128,129,130,131,132,133,134,135,136,137,138,139,140,141,142,143,144,145,146,147,148,149,150,151,152,153,154,155,156,157,158,159,160,161,162,163,164,165,166,167,168,169,170,171,172,173,174,175,176,177,178,179,180,181,182,183,184,185,186,187,188,189,190,191,192,193,194,195,196,197,198,199],\"xaxis\":\"x\",\"y\":[280290.38121456327,314160.00877741375,315951.596245039,315550.98376654374,317301.669670504,339461.3895550327,337655.46372033306,320105.42125301954,319476.7018100836,319444.17403014615,317667.75521697087,322384.48196295946,304510.6811356609,292917.42677367566,293525.97366664105,291333.80266901595,296427.6078160829,302255.9200031904,296552.0883543121,293185.40630504244,291684.6490323897,292421.77611855225,294970.065772396,294852.48986697325,290948.35062832804,290514.73220407363,294059.34083427326,291056.1403916695,276508.40944544,273638.0691638175,283370.9744571585,285658.0586461844,268250.8602720897,268362.37028941984,268445.3490052302,267963.4826578246,267954.8116628919,267619.9639745018,267740.06607194536,267649.29223439464,267049.26650767867,266255.503489739,263902.2403312303,261117.99392925217,257595.33430204034,257412.4028025736,257607.95368410696,257665.38284787565,257568.01085347173,257504.07224942726,257075.00350761833,256895.53293637963,256813.6791850766,257109.35245439032,256991.00453017373,256722.65026314955,256369.43286039043,257446.9413732477,257301.20339252657,257208.61102680612,256719.33582925145,256846.04911903923,257379.8493005717,257422.63802280164,257526.9171193552,257396.7580725752,257357.08490418005,257390.45629108377,257261.44110922609,256449.66227252255,255770.01105374697,256024.9567785881,256024.5331042474,255794.9560417956,255609.8590477129,255419.43445123846,255395.0104862831,256478.1262030456,256648.01263496306,255653.75092272097,254642.80214707123,254461.4036924891,254410.2033801386,254397.85461790554,254349.7864982639,254296.08973989275,254225.20380810671,253820.31925172798,253542.35083574156,253507.70631608376,253269.42008762865,252399.57900026604,252699.17313790604,248733.51486771525,248711.4201465604,248689.10982031273,248826.9838276742,248928.42482923376,248907.31562903422,249084.29449423263,248651.66439045643,248628.1961750714,248568.03907095318,249001.79018726823,248969.8358155509,249389.38581644962,249309.4301865658,249216.22394986585,248757.38820682466,248709.58095017864,248701.30269483916,248575.69965994015,248571.96161612737,248704.0242699023,249097.42150974422,248944.1699528248,249190.08731913002,249072.1740215528,249532.87600061102,249521.16190597872,249575.52231197775,249575.50218440444,249551.86582995421,249367.21981871285,249336.27111253666,249810.09077757568,249119.82809607696,249400.95156684698,249417.90291667663,249397.64648145673,248379.32877796347,247273.42202909218,247162.77230564007,247161.56892945035,247172.0745666055,247098.70414119944,248156.67680058136,248140.3619736457,248130.84910757115,248017.66583493122,247971.56155791797,247467.2698170846,247418.20934672715,246679.475022839,246665.02791889384,246632.13462438318,246640.67000474516,246744.1632652293,246662.89242854304,246970.19090909444,246713.54187387746,246686.76404757792,246617.46045329538,233145.43393750436,233160.36439031316,232870.19656718225,233256.51720669374,233027.72341203853,233078.08692552385,232027.40868614253,232135.3865409726,232224.514964046,232405.59100148038,232369.04324650666,237455.633192209,237620.0528237693,237658.88066678596,237720.1201640506,237418.94210294573,237685.56235373707,237558.60944807628,237470.27346442087,237552.5054585537,237516.2278171768,237485.47826938363,237707.42455364447,237661.85452647612,237655.9803533365,237721.67173868584,237502.81916666913],\"yaxis\":\"y\",\"type\":\"scatter\"}],                        {\"template\":{\"data\":{\"histogram2dcontour\":[{\"type\":\"histogram2dcontour\",\"colorbar\":{\"outlinewidth\":0,\"ticks\":\"\"},\"colorscale\":[[0.0,\"#0d0887\"],[0.1111111111111111,\"#46039f\"],[0.2222222222222222,\"#7201a8\"],[0.3333333333333333,\"#9c179e\"],[0.4444444444444444,\"#bd3786\"],[0.5555555555555556,\"#d8576b\"],[0.6666666666666666,\"#ed7953\"],[0.7777777777777778,\"#fb9f3a\"],[0.8888888888888888,\"#fdca26\"],[1.0,\"#f0f921\"]]}],\"choropleth\":[{\"type\":\"choropleth\",\"colorbar\":{\"outlinewidth\":0,\"ticks\":\"\"}}],\"histogram2d\":[{\"type\":\"histogram2d\",\"colorbar\":{\"outlinewidth\":0,\"ticks\":\"\"},\"colorscale\":[[0.0,\"#0d0887\"],[0.1111111111111111,\"#46039f\"],[0.2222222222222222,\"#7201a8\"],[0.3333333333333333,\"#9c179e\"],[0.4444444444444444,\"#bd3786\"],[0.5555555555555556,\"#d8576b\"],[0.6666666666666666,\"#ed7953\"],[0.7777777777777778,\"#fb9f3a\"],[0.8888888888888888,\"#fdca26\"],[1.0,\"#f0f921\"]]}],\"heatmap\":[{\"type\":\"heatmap\",\"colorbar\":{\"outlinewidth\":0,\"ticks\":\"\"},\"colorscale\":[[0.0,\"#0d0887\"],[0.1111111111111111,\"#46039f\"],[0.2222222222222222,\"#7201a8\"],[0.3333333333333333,\"#9c179e\"],[0.4444444444444444,\"#bd3786\"],[0.5555555555555556,\"#d8576b\"],[0.6666666666666666,\"#ed7953\"],[0.7777777777777778,\"#fb9f3a\"],[0.8888888888888888,\"#fdca26\"],[1.0,\"#f0f921\"]]}],\"heatmapgl\":[{\"type\":\"heatmapgl\",\"colorbar\":{\"outlinewidth\":0,\"ticks\":\"\"},\"colorscale\":[[0.0,\"#0d0887\"],[0.1111111111111111,\"#46039f\"],[0.2222222222222222,\"#7201a8\"],[0.3333333333333333,\"#9c179e\"],[0.4444444444444444,\"#bd3786\"],[0.5555555555555556,\"#d8576b\"],[0.6666666666666666,\"#ed7953\"],[0.7777777777777778,\"#fb9f3a\"],[0.8888888888888888,\"#fdca26\"],[1.0,\"#f0f921\"]]}],\"contourcarpet\":[{\"type\":\"contourcarpet\",\"colorbar\":{\"outlinewidth\":0,\"ticks\":\"\"}}],\"contour\":[{\"type\":\"contour\",\"colorbar\":{\"outlinewidth\":0,\"ticks\":\"\"},\"colorscale\":[[0.0,\"#0d0887\"],[0.1111111111111111,\"#46039f\"],[0.2222222222222222,\"#7201a8\"],[0.3333333333333333,\"#9c179e\"],[0.4444444444444444,\"#bd3786\"],[0.5555555555555556,\"#d8576b\"],[0.6666666666666666,\"#ed7953\"],[0.7777777777777778,\"#fb9f3a\"],[0.8888888888888888,\"#fdca26\"],[1.0,\"#f0f921\"]]}],\"surface\":[{\"type\":\"surface\",\"colorbar\":{\"outlinewidth\":0,\"ticks\":\"\"},\"colorscale\":[[0.0,\"#0d0887\"],[0.1111111111111111,\"#46039f\"],[0.2222222222222222,\"#7201a8\"],[0.3333333333333333,\"#9c179e\"],[0.4444444444444444,\"#bd3786\"],[0.5555555555555556,\"#d8576b\"],[0.6666666666666666,\"#ed7953\"],[0.7777777777777778,\"#fb9f3a\"],[0.8888888888888888,\"#fdca26\"],[1.0,\"#f0f921\"]]}],\"mesh3d\":[{\"type\":\"mesh3d\",\"colorbar\":{\"outlinewidth\":0,\"ticks\":\"\"}}],\"scatter\":[{\"fillpattern\":{\"fillmode\":\"overlay\",\"size\":10,\"solidity\":0.2},\"type\":\"scatter\"}],\"parcoords\":[{\"type\":\"parcoords\",\"line\":{\"colorbar\":{\"outlinewidth\":0,\"ticks\":\"\"}}}],\"scatterpolargl\":[{\"type\":\"scatterpolargl\",\"marker\":{\"colorbar\":{\"outlinewidth\":0,\"ticks\":\"\"}}}],\"bar\":[{\"error_x\":{\"color\":\"#2a3f5f\"},\"error_y\":{\"color\":\"#2a3f5f\"},\"marker\":{\"line\":{\"color\":\"#E5ECF6\",\"width\":0.5},\"pattern\":{\"fillmode\":\"overlay\",\"size\":10,\"solidity\":0.2}},\"type\":\"bar\"}],\"scattergeo\":[{\"type\":\"scattergeo\",\"marker\":{\"colorbar\":{\"outlinewidth\":0,\"ticks\":\"\"}}}],\"scatterpolar\":[{\"type\":\"scatterpolar\",\"marker\":{\"colorbar\":{\"outlinewidth\":0,\"ticks\":\"\"}}}],\"histogram\":[{\"marker\":{\"pattern\":{\"fillmode\":\"overlay\",\"size\":10,\"solidity\":0.2}},\"type\":\"histogram\"}],\"scattergl\":[{\"type\":\"scattergl\",\"marker\":{\"colorbar\":{\"outlinewidth\":0,\"ticks\":\"\"}}}],\"scatter3d\":[{\"type\":\"scatter3d\",\"line\":{\"colorbar\":{\"outlinewidth\":0,\"ticks\":\"\"}},\"marker\":{\"colorbar\":{\"outlinewidth\":0,\"ticks\":\"\"}}}],\"scattermapbox\":[{\"type\":\"scattermapbox\",\"marker\":{\"colorbar\":{\"outlinewidth\":0,\"ticks\":\"\"}}}],\"scatterternary\":[{\"type\":\"scatterternary\",\"marker\":{\"colorbar\":{\"outlinewidth\":0,\"ticks\":\"\"}}}],\"scattercarpet\":[{\"type\":\"scattercarpet\",\"marker\":{\"colorbar\":{\"outlinewidth\":0,\"ticks\":\"\"}}}],\"carpet\":[{\"aaxis\":{\"endlinecolor\":\"#2a3f5f\",\"gridcolor\":\"white\",\"linecolor\":\"white\",\"minorgridcolor\":\"white\",\"startlinecolor\":\"#2a3f5f\"},\"baxis\":{\"endlinecolor\":\"#2a3f5f\",\"gridcolor\":\"white\",\"linecolor\":\"white\",\"minorgridcolor\":\"white\",\"startlinecolor\":\"#2a3f5f\"},\"type\":\"carpet\"}],\"table\":[{\"cells\":{\"fill\":{\"color\":\"#EBF0F8\"},\"line\":{\"color\":\"white\"}},\"header\":{\"fill\":{\"color\":\"#C8D4E3\"},\"line\":{\"color\":\"white\"}},\"type\":\"table\"}],\"barpolar\":[{\"marker\":{\"line\":{\"color\":\"#E5ECF6\",\"width\":0.5},\"pattern\":{\"fillmode\":\"overlay\",\"size\":10,\"solidity\":0.2}},\"type\":\"barpolar\"}],\"pie\":[{\"automargin\":true,\"type\":\"pie\"}]},\"layout\":{\"autotypenumbers\":\"strict\",\"colorway\":[\"#636efa\",\"#EF553B\",\"#00cc96\",\"#ab63fa\",\"#FFA15A\",\"#19d3f3\",\"#FF6692\",\"#B6E880\",\"#FF97FF\",\"#FECB52\"],\"font\":{\"color\":\"#2a3f5f\"},\"hovermode\":\"closest\",\"hoverlabel\":{\"align\":\"left\"},\"paper_bgcolor\":\"white\",\"plot_bgcolor\":\"#E5ECF6\",\"polar\":{\"bgcolor\":\"#E5ECF6\",\"angularaxis\":{\"gridcolor\":\"white\",\"linecolor\":\"white\",\"ticks\":\"\"},\"radialaxis\":{\"gridcolor\":\"white\",\"linecolor\":\"white\",\"ticks\":\"\"}},\"ternary\":{\"bgcolor\":\"#E5ECF6\",\"aaxis\":{\"gridcolor\":\"white\",\"linecolor\":\"white\",\"ticks\":\"\"},\"baxis\":{\"gridcolor\":\"white\",\"linecolor\":\"white\",\"ticks\":\"\"},\"caxis\":{\"gridcolor\":\"white\",\"linecolor\":\"white\",\"ticks\":\"\"}},\"coloraxis\":{\"colorbar\":{\"outlinewidth\":0,\"ticks\":\"\"}},\"colorscale\":{\"sequential\":[[0.0,\"#0d0887\"],[0.1111111111111111,\"#46039f\"],[0.2222222222222222,\"#7201a8\"],[0.3333333333333333,\"#9c179e\"],[0.4444444444444444,\"#bd3786\"],[0.5555555555555556,\"#d8576b\"],[0.6666666666666666,\"#ed7953\"],[0.7777777777777778,\"#fb9f3a\"],[0.8888888888888888,\"#fdca26\"],[1.0,\"#f0f921\"]],\"sequentialminus\":[[0.0,\"#0d0887\"],[0.1111111111111111,\"#46039f\"],[0.2222222222222222,\"#7201a8\"],[0.3333333333333333,\"#9c179e\"],[0.4444444444444444,\"#bd3786\"],[0.5555555555555556,\"#d8576b\"],[0.6666666666666666,\"#ed7953\"],[0.7777777777777778,\"#fb9f3a\"],[0.8888888888888888,\"#fdca26\"],[1.0,\"#f0f921\"]],\"diverging\":[[0,\"#8e0152\"],[0.1,\"#c51b7d\"],[0.2,\"#de77ae\"],[0.3,\"#f1b6da\"],[0.4,\"#fde0ef\"],[0.5,\"#f7f7f7\"],[0.6,\"#e6f5d0\"],[0.7,\"#b8e186\"],[0.8,\"#7fbc41\"],[0.9,\"#4d9221\"],[1,\"#276419\"]]},\"xaxis\":{\"gridcolor\":\"white\",\"linecolor\":\"white\",\"ticks\":\"\",\"title\":{\"standoff\":15},\"zerolinecolor\":\"white\",\"automargin\":true,\"zerolinewidth\":2},\"yaxis\":{\"gridcolor\":\"white\",\"linecolor\":\"white\",\"ticks\":\"\",\"title\":{\"standoff\":15},\"zerolinecolor\":\"white\",\"automargin\":true,\"zerolinewidth\":2},\"scene\":{\"xaxis\":{\"backgroundcolor\":\"#E5ECF6\",\"gridcolor\":\"white\",\"linecolor\":\"white\",\"showbackground\":true,\"ticks\":\"\",\"zerolinecolor\":\"white\",\"gridwidth\":2},\"yaxis\":{\"backgroundcolor\":\"#E5ECF6\",\"gridcolor\":\"white\",\"linecolor\":\"white\",\"showbackground\":true,\"ticks\":\"\",\"zerolinecolor\":\"white\",\"gridwidth\":2},\"zaxis\":{\"backgroundcolor\":\"#E5ECF6\",\"gridcolor\":\"white\",\"linecolor\":\"white\",\"showbackground\":true,\"ticks\":\"\",\"zerolinecolor\":\"white\",\"gridwidth\":2}},\"shapedefaults\":{\"line\":{\"color\":\"#2a3f5f\"}},\"annotationdefaults\":{\"arrowcolor\":\"#2a3f5f\",\"arrowhead\":0,\"arrowwidth\":1},\"geo\":{\"bgcolor\":\"white\",\"landcolor\":\"#E5ECF6\",\"subunitcolor\":\"white\",\"showland\":true,\"showlakes\":true,\"lakecolor\":\"white\"},\"title\":{\"x\":0.05},\"mapbox\":{\"style\":\"light\"}}},\"xaxis\":{\"anchor\":\"y\",\"domain\":[0.0,1.0],\"title\":{\"text\":\"Training Set Size\"}},\"yaxis\":{\"anchor\":\"x\",\"domain\":[0.0,1.0],\"title\":{\"text\":\"Root Mean Squared Error (RMSE)\"}},\"legend\":{\"title\":{\"text\":\"Error Type\"},\"tracegroupgap\":0},\"title\":{\"text\":\"Learning Curves\"}},                        {\"responsive\": true}                    ).then(function(){\n",
       "                            \n",
       "var gd = document.getElementById('f764c3e3-5cff-4b93-be89-0b1a9c0a4401');\n",
       "var x = new MutationObserver(function (mutations, observer) {{\n",
       "        var display = window.getComputedStyle(gd).display;\n",
       "        if (!display || display === 'none') {{\n",
       "            console.log([gd, 'removed!']);\n",
       "            Plotly.purge(gd);\n",
       "            observer.disconnect();\n",
       "        }}\n",
       "}});\n",
       "\n",
       "// Listen for the removal of the full notebook cells\n",
       "var notebookContainer = gd.closest('#notebook-container');\n",
       "if (notebookContainer) {{\n",
       "    x.observe(notebookContainer, {childList: true});\n",
       "}}\n",
       "\n",
       "// Listen for the clearing of the current output cell\n",
       "var outputEl = gd.closest('.output');\n",
       "if (outputEl) {{\n",
       "    x.observe(outputEl, {childList: true});\n",
       "}}\n",
       "\n",
       "                        })                };                });            </script>        </div>"
      ]
     },
     "metadata": {},
     "output_type": "display_data"
    }
   ],
   "source": [
    "plot_learning_curves_plotly(elastic_net, X_train, y_train, X_test, y_test)"
   ]
  },
  {
   "cell_type": "markdown",
   "metadata": {},
   "source": [
    "We'll use SGDRegressor with early stopping. This requires scaling the features and configuring the model for early stopping."
   ]
  },
  {
   "cell_type": "code",
   "execution_count": 188,
   "metadata": {},
   "outputs": [
    {
     "name": "stdout",
     "output_type": "stream",
     "text": [
      "SGD Regressor with Early Stopping RMSE: 213250.34589183502\n"
     ]
    }
   ],
   "source": [
    "from sklearn.linear_model import SGDRegressor\n",
    "\n",
    "# Scaling features for SGDRegressor\n",
    "scaler = StandardScaler()\n",
    "X_train_scaled = scaler.fit_transform(X_train)\n",
    "X_test_scaled = scaler.transform(X_test)\n",
    "\n",
    "# SGD Regressor with Early Stopping\n",
    "sgd_reg = SGDRegressor(max_iter=1000, tol=1e-3, early_stopping=True, validation_fraction=0.1, n_iter_no_change=10, random_state=42)\n",
    "sgd_reg.fit(X_train_scaled, y_train)\n",
    "\n",
    "# Predict and evaluate\n",
    "y_pred_sgd = sgd_reg.predict(X_test_scaled)\n",
    "print(\"SGD Regressor with Early Stopping RMSE:\", np.sqrt(mean_squared_error(y_test, y_pred_sgd)))\n"
   ]
  },
  {
   "cell_type": "code",
   "execution_count": 189,
   "metadata": {},
   "outputs": [
    {
     "data": {
      "application/vnd.plotly.v1+json": {
       "config": {
        "plotlyServerURL": "https://plot.ly"
       },
       "data": [
        {
         "hovertemplate": "Error Type=Training Error<br>Training Set Size=%{x}<br>Root Mean Squared Error (RMSE)=%{y}<extra></extra>",
         "legendgroup": "Training Error",
         "line": {
          "color": "#636efa",
          "dash": "solid"
         },
         "marker": {
          "symbol": "circle"
         },
         "mode": "lines",
         "name": "Training Error",
         "orientation": "v",
         "showlegend": true,
         "type": "scatter",
         "x": [
          20,
          21,
          22,
          23,
          24,
          25,
          26,
          27,
          28,
          29,
          30,
          31,
          32,
          33,
          34,
          35,
          36,
          37,
          38,
          39,
          40,
          41,
          42,
          43,
          44,
          45,
          46,
          47,
          48,
          49,
          50,
          51,
          52,
          53,
          54,
          55,
          56,
          57,
          58,
          59,
          60,
          61,
          62,
          63,
          64,
          65,
          66,
          67,
          68,
          69,
          70,
          71,
          72,
          73,
          74,
          75,
          76,
          77,
          78,
          79,
          80,
          81,
          82,
          83,
          84,
          85,
          86,
          87,
          88,
          89,
          90,
          91,
          92,
          93,
          94,
          95,
          96,
          97,
          98,
          99,
          100,
          101,
          102,
          103,
          104,
          105,
          106,
          107,
          108,
          109,
          110,
          111,
          112,
          113,
          114,
          115,
          116,
          117,
          118,
          119,
          120,
          121,
          122,
          123,
          124,
          125,
          126,
          127,
          128,
          129,
          130,
          131,
          132,
          133,
          134,
          135,
          136,
          137,
          138,
          139,
          140,
          141,
          142,
          143,
          144,
          145,
          146,
          147,
          148,
          149,
          150,
          151,
          152,
          153,
          154,
          155,
          156,
          157,
          158,
          159,
          160,
          161,
          162,
          163,
          164,
          165,
          166,
          167,
          168,
          169,
          170,
          171,
          172,
          173,
          174,
          175,
          176,
          177,
          178,
          179,
          180,
          181,
          182,
          183,
          184,
          185,
          186,
          187,
          188,
          189,
          190,
          191,
          192,
          193,
          194,
          195,
          196,
          197,
          198,
          199
         ],
         "xaxis": "x",
         "y": [
          115050.452716227,
          109434.28072748377,
          83062.37139714882,
          106779.77681620454,
          84990.92904984074,
          87951.2488642112,
          86164.7982950286,
          88777.54871339585,
          84918.01523382246,
          79819.84549776049,
          85092.86522655748,
          90129.51908180687,
          98417.41681317618,
          115764.53447758335,
          96549.15050938999,
          93715.6694675439,
          92001.66764477734,
          109085.40328400592,
          109544.33163981666,
          113868.47721701745,
          102955.17525649922,
          110955.69356814928,
          105655.74884553876,
          107995.39102260013,
          108919.64198665463,
          99531.48250039629,
          106496.28063350733,
          106039.43576900582,
          108544.30292201381,
          129476.71445338381,
          111931.43751767738,
          113601.40911813425,
          142910.71867508494,
          144263.702834583,
          131766.52878903176,
          133554.0149486809,
          130954.80922618452,
          139040.3371529641,
          136979.44978646535,
          134628.38780446694,
          127216.14819914167,
          125648.69714345931,
          146310.31872236676,
          143992.20813556807,
          143635.14793370193,
          147469.09413222747,
          151289.97865661583,
          137843.79039084478,
          132854.16304504147,
          140015.65435215615,
          139229.95212836115,
          137911.9982669435,
          135825.7584153166,
          129224.10599355084,
          127939.06229778215,
          134992.84957637236,
          134684.0361805247,
          135135.3263228145,
          138454.28027468175,
          135536.00035849883,
          134884.14106095379,
          134304.66311471997,
          137006.0234651591,
          135143.3406540446,
          136286.32879811138,
          137592.49857504395,
          136668.99122517693,
          134632.6374888035,
          133693.61509230477,
          133653.71412707842,
          132356.2442231751,
          134298.03976950006,
          133695.29126649298,
          133140.55269833835,
          132671.78299731592,
          133426.1393264257,
          134248.3485276026,
          139790.1325137934,
          138975.07791162716,
          138353.89141657922,
          141913.2174777552,
          140051.17087228017,
          140919.13340010494,
          139899.14346230164,
          138603.35686890857,
          138406.80082157906,
          136116.59295816408,
          139762.99838689895,
          138412.09746469796,
          138167.7387953958,
          138599.5392427044,
          139008.16356275335,
          135409.9936087128,
          138936.23467221495,
          138525.19253923596,
          137923.366955778,
          137699.35515095657,
          136718.19496061502,
          137570.63566601503,
          141066.29734009647,
          136186.09658033363,
          135973.3501551718,
          135123.88014125408,
          136465.37999435802,
          134259.00164404156,
          138240.27276312638,
          138339.54093455191,
          137648.22372851288,
          134938.98799607877,
          134867.3248859401,
          134377.95352791314,
          134069.21109103144,
          135210.8727505083,
          135247.46783675055,
          134482.3572543678,
          136431.12519928903,
          136334.2030542434,
          135568.65186704005,
          144588.5304307205,
          147114.73293831,
          142846.940180614,
          148773.40120981753,
          143852.6960174013,
          143831.98332077643,
          143393.93351535173,
          141875.9302453835,
          143836.33418879384,
          147100.96852229186,
          146260.01981066962,
          144160.46443104817,
          144459.82689840003,
          145611.3927080506,
          144434.12412388434,
          143579.53741299963,
          142920.12140664356,
          142129.0605874691,
          145562.83419808288,
          143744.1137828564,
          144515.46828945793,
          144021.67669198153,
          141928.8823392593,
          141952.80455066255,
          142148.11301501215,
          142462.2848239223,
          142426.66654375062,
          141940.69443734086,
          141699.2080586309,
          142342.41253807695,
          143219.24047802895,
          142333.63317399268,
          142244.33321075147,
          142834.65673370537,
          141296.64902274555,
          142313.87494924982,
          141116.87788710493,
          141106.72354045743,
          161018.7984199587,
          140741.76801286847,
          140871.92609537728,
          142689.29405062908,
          141989.55660921193,
          144570.4664778983,
          144978.8073503731,
          142634.49528332925,
          143042.87422177396,
          143216.76848383702,
          142093.25532123927,
          143966.86326651106,
          144417.51851145434,
          142079.4509307141,
          142939.49519536976,
          143015.1983887593,
          142768.50270813538,
          143322.61070661322,
          142011.83366685332,
          142026.9533404219,
          140569.20121744974,
          141524.9017770072,
          141438.32905099893,
          139747.30145015742
         ],
         "yaxis": "y"
        },
        {
         "hovertemplate": "Error Type=Validation|Test Error<br>Training Set Size=%{x}<br>Root Mean Squared Error (RMSE)=%{y}<extra></extra>",
         "legendgroup": "Validation|Test Error",
         "line": {
          "color": "#EF553B",
          "dash": "solid"
         },
         "marker": {
          "symbol": "circle"
         },
         "mode": "lines",
         "name": "Validation|Test Error",
         "orientation": "v",
         "showlegend": true,
         "type": "scatter",
         "x": [
          20,
          21,
          22,
          23,
          24,
          25,
          26,
          27,
          28,
          29,
          30,
          31,
          32,
          33,
          34,
          35,
          36,
          37,
          38,
          39,
          40,
          41,
          42,
          43,
          44,
          45,
          46,
          47,
          48,
          49,
          50,
          51,
          52,
          53,
          54,
          55,
          56,
          57,
          58,
          59,
          60,
          61,
          62,
          63,
          64,
          65,
          66,
          67,
          68,
          69,
          70,
          71,
          72,
          73,
          74,
          75,
          76,
          77,
          78,
          79,
          80,
          81,
          82,
          83,
          84,
          85,
          86,
          87,
          88,
          89,
          90,
          91,
          92,
          93,
          94,
          95,
          96,
          97,
          98,
          99,
          100,
          101,
          102,
          103,
          104,
          105,
          106,
          107,
          108,
          109,
          110,
          111,
          112,
          113,
          114,
          115,
          116,
          117,
          118,
          119,
          120,
          121,
          122,
          123,
          124,
          125,
          126,
          127,
          128,
          129,
          130,
          131,
          132,
          133,
          134,
          135,
          136,
          137,
          138,
          139,
          140,
          141,
          142,
          143,
          144,
          145,
          146,
          147,
          148,
          149,
          150,
          151,
          152,
          153,
          154,
          155,
          156,
          157,
          158,
          159,
          160,
          161,
          162,
          163,
          164,
          165,
          166,
          167,
          168,
          169,
          170,
          171,
          172,
          173,
          174,
          175,
          176,
          177,
          178,
          179,
          180,
          181,
          182,
          183,
          184,
          185,
          186,
          187,
          188,
          189,
          190,
          191,
          192,
          193,
          194,
          195,
          196,
          197,
          198,
          199
         ],
         "xaxis": "x",
         "y": [
          442725.6391272382,
          469670.348965749,
          398057.35682948964,
          451510.5667337073,
          408200.09493471804,
          430714.4863151347,
          429579.98045444046,
          406744.5977913351,
          410812.75591676525,
          382195.548658162,
          392757.4661686222,
          402511.08051439846,
          389789.65724873234,
          404417.3849314632,
          373401.0494874182,
          346120.1471045406,
          351638.56698757666,
          378993.78230184445,
          345756.4498040047,
          343088.51702294603,
          340876.2774102617,
          354700.09951043426,
          347510.43748606683,
          359607.58060281083,
          358562.69874555094,
          334590.4531537363,
          344650.3430592446,
          337760.5098387262,
          318288.7659734594,
          367843.27374534524,
          322655.5512381461,
          325263.09011556895,
          332368.92286960426,
          334702.4124117766,
          338020.43599415605,
          338936.4236267574,
          317132.6469953449,
          331311.2033844806,
          331726.27367712156,
          329870.71590421576,
          314180.88570439315,
          317285.6463184691,
          319675.7220072612,
          310540.57817662944,
          304302.9443891439,
          307247.1796973612,
          319529.1240769018,
          282589.80491158867,
          279827.7796034749,
          287921.7071905351,
          302319.8856585667,
          300916.8917700921,
          281912.67489583447,
          279982.4917662332,
          281092.52156105684,
          282804.58665841375,
          286438.6463469923,
          288378.95299322996,
          293622.1455200767,
          281392.2643541132,
          280750.71972908813,
          281807.17276431,
          287395.6350152201,
          284801.9445966151,
          289119.09583763854,
          290669.3490333915,
          291971.8000529782,
          285870.101781637,
          286796.1543343231,
          302350.7227396527,
          287517.18474357255,
          289665.33838132623,
          288791.724015179,
          288998.8654285813,
          288813.0902905479,
          289455.77347142756,
          294756.2881678121,
          292013.2651018208,
          291261.9865795309,
          289986.14705606044,
          293120.21622242633,
          287857.1379760043,
          293305.63622837403,
          293838.5028427739,
          292404.7787047256,
          292580.05468890775,
          288818.6413565298,
          295717.5485850341,
          293656.2966823347,
          286268.15815120057,
          288131.1706990308,
          287017.0449270812,
          287418.4223744873,
          270194.9693194165,
          270903.77930597326,
          267537.0606643203,
          272662.72562526766,
          271361.11119370017,
          279446.0881171519,
          295144.86813144106,
          277412.8283950478,
          277355.3392877273,
          277534.78750108375,
          282498.29593864764,
          272712.80193308514,
          273953.760754161,
          280256.8117746488,
          273024.03968350537,
          272106.15127936006,
          271195.71263276966,
          271500.73026818346,
          271611.6375443297,
          272948.14059687796,
          275788.73604205524,
          271199.38451855705,
          278442.4247155946,
          272685.98537803337,
          271001.1290496619,
          274051.97451424395,
          282850.87203300674,
          273913.28615106875,
          279206.8460275965,
          276967.46738273907,
          280860.35110316024,
          281492.7248202112,
          273480.31195381907,
          272613.3084203911,
          275880.5141816927,
          275888.25362291996,
          271471.83184072556,
          269553.42397757806,
          266637.4482253839,
          271727.8927273987,
          270488.559832076,
          267408.541768009,
          268685.58597411355,
          274910.98853666044,
          273252.1088155844,
          276127.7082879046,
          275114.3970579412,
          273173.35118312674,
          273322.5928017189,
          273395.486362119,
          275046.86254549696,
          274546.30190953356,
          274808.5918297691,
          274267.5613067446,
          275564.34275299206,
          271880.9068684017,
          274613.08419700334,
          271725.8816918943,
          274684.08304158173,
          268723.12485860364,
          240613.9498661257,
          237792.45517465557,
          240995.5596292914,
          270292.60838416294,
          235686.64850773304,
          238353.14732558443,
          234299.14702511547,
          233849.7716203264,
          235550.0797588069,
          238288.07001580694,
          235939.42237280417,
          242519.45342341042,
          238993.41849728712,
          241157.78462158167,
          240100.25594603247,
          235197.18423867144,
          238697.0265980318,
          238686.66769189585,
          240141.1333129012,
          238080.28203077381,
          235843.19603779714,
          241105.59175442084,
          240633.52319334834,
          241991.03130535025,
          239675.28076733038,
          240135.72777899256,
          242178.69123953866
         ],
         "yaxis": "y"
        }
       ],
       "layout": {
        "legend": {
         "title": {
          "text": "Error Type"
         },
         "tracegroupgap": 0
        },
        "template": {
         "data": {
          "bar": [
           {
            "error_x": {
             "color": "#2a3f5f"
            },
            "error_y": {
             "color": "#2a3f5f"
            },
            "marker": {
             "line": {
              "color": "#E5ECF6",
              "width": 0.5
             },
             "pattern": {
              "fillmode": "overlay",
              "size": 10,
              "solidity": 0.2
             }
            },
            "type": "bar"
           }
          ],
          "barpolar": [
           {
            "marker": {
             "line": {
              "color": "#E5ECF6",
              "width": 0.5
             },
             "pattern": {
              "fillmode": "overlay",
              "size": 10,
              "solidity": 0.2
             }
            },
            "type": "barpolar"
           }
          ],
          "carpet": [
           {
            "aaxis": {
             "endlinecolor": "#2a3f5f",
             "gridcolor": "white",
             "linecolor": "white",
             "minorgridcolor": "white",
             "startlinecolor": "#2a3f5f"
            },
            "baxis": {
             "endlinecolor": "#2a3f5f",
             "gridcolor": "white",
             "linecolor": "white",
             "minorgridcolor": "white",
             "startlinecolor": "#2a3f5f"
            },
            "type": "carpet"
           }
          ],
          "choropleth": [
           {
            "colorbar": {
             "outlinewidth": 0,
             "ticks": ""
            },
            "type": "choropleth"
           }
          ],
          "contour": [
           {
            "colorbar": {
             "outlinewidth": 0,
             "ticks": ""
            },
            "colorscale": [
             [
              0,
              "#0d0887"
             ],
             [
              0.1111111111111111,
              "#46039f"
             ],
             [
              0.2222222222222222,
              "#7201a8"
             ],
             [
              0.3333333333333333,
              "#9c179e"
             ],
             [
              0.4444444444444444,
              "#bd3786"
             ],
             [
              0.5555555555555556,
              "#d8576b"
             ],
             [
              0.6666666666666666,
              "#ed7953"
             ],
             [
              0.7777777777777778,
              "#fb9f3a"
             ],
             [
              0.8888888888888888,
              "#fdca26"
             ],
             [
              1,
              "#f0f921"
             ]
            ],
            "type": "contour"
           }
          ],
          "contourcarpet": [
           {
            "colorbar": {
             "outlinewidth": 0,
             "ticks": ""
            },
            "type": "contourcarpet"
           }
          ],
          "heatmap": [
           {
            "colorbar": {
             "outlinewidth": 0,
             "ticks": ""
            },
            "colorscale": [
             [
              0,
              "#0d0887"
             ],
             [
              0.1111111111111111,
              "#46039f"
             ],
             [
              0.2222222222222222,
              "#7201a8"
             ],
             [
              0.3333333333333333,
              "#9c179e"
             ],
             [
              0.4444444444444444,
              "#bd3786"
             ],
             [
              0.5555555555555556,
              "#d8576b"
             ],
             [
              0.6666666666666666,
              "#ed7953"
             ],
             [
              0.7777777777777778,
              "#fb9f3a"
             ],
             [
              0.8888888888888888,
              "#fdca26"
             ],
             [
              1,
              "#f0f921"
             ]
            ],
            "type": "heatmap"
           }
          ],
          "heatmapgl": [
           {
            "colorbar": {
             "outlinewidth": 0,
             "ticks": ""
            },
            "colorscale": [
             [
              0,
              "#0d0887"
             ],
             [
              0.1111111111111111,
              "#46039f"
             ],
             [
              0.2222222222222222,
              "#7201a8"
             ],
             [
              0.3333333333333333,
              "#9c179e"
             ],
             [
              0.4444444444444444,
              "#bd3786"
             ],
             [
              0.5555555555555556,
              "#d8576b"
             ],
             [
              0.6666666666666666,
              "#ed7953"
             ],
             [
              0.7777777777777778,
              "#fb9f3a"
             ],
             [
              0.8888888888888888,
              "#fdca26"
             ],
             [
              1,
              "#f0f921"
             ]
            ],
            "type": "heatmapgl"
           }
          ],
          "histogram": [
           {
            "marker": {
             "pattern": {
              "fillmode": "overlay",
              "size": 10,
              "solidity": 0.2
             }
            },
            "type": "histogram"
           }
          ],
          "histogram2d": [
           {
            "colorbar": {
             "outlinewidth": 0,
             "ticks": ""
            },
            "colorscale": [
             [
              0,
              "#0d0887"
             ],
             [
              0.1111111111111111,
              "#46039f"
             ],
             [
              0.2222222222222222,
              "#7201a8"
             ],
             [
              0.3333333333333333,
              "#9c179e"
             ],
             [
              0.4444444444444444,
              "#bd3786"
             ],
             [
              0.5555555555555556,
              "#d8576b"
             ],
             [
              0.6666666666666666,
              "#ed7953"
             ],
             [
              0.7777777777777778,
              "#fb9f3a"
             ],
             [
              0.8888888888888888,
              "#fdca26"
             ],
             [
              1,
              "#f0f921"
             ]
            ],
            "type": "histogram2d"
           }
          ],
          "histogram2dcontour": [
           {
            "colorbar": {
             "outlinewidth": 0,
             "ticks": ""
            },
            "colorscale": [
             [
              0,
              "#0d0887"
             ],
             [
              0.1111111111111111,
              "#46039f"
             ],
             [
              0.2222222222222222,
              "#7201a8"
             ],
             [
              0.3333333333333333,
              "#9c179e"
             ],
             [
              0.4444444444444444,
              "#bd3786"
             ],
             [
              0.5555555555555556,
              "#d8576b"
             ],
             [
              0.6666666666666666,
              "#ed7953"
             ],
             [
              0.7777777777777778,
              "#fb9f3a"
             ],
             [
              0.8888888888888888,
              "#fdca26"
             ],
             [
              1,
              "#f0f921"
             ]
            ],
            "type": "histogram2dcontour"
           }
          ],
          "mesh3d": [
           {
            "colorbar": {
             "outlinewidth": 0,
             "ticks": ""
            },
            "type": "mesh3d"
           }
          ],
          "parcoords": [
           {
            "line": {
             "colorbar": {
              "outlinewidth": 0,
              "ticks": ""
             }
            },
            "type": "parcoords"
           }
          ],
          "pie": [
           {
            "automargin": true,
            "type": "pie"
           }
          ],
          "scatter": [
           {
            "fillpattern": {
             "fillmode": "overlay",
             "size": 10,
             "solidity": 0.2
            },
            "type": "scatter"
           }
          ],
          "scatter3d": [
           {
            "line": {
             "colorbar": {
              "outlinewidth": 0,
              "ticks": ""
             }
            },
            "marker": {
             "colorbar": {
              "outlinewidth": 0,
              "ticks": ""
             }
            },
            "type": "scatter3d"
           }
          ],
          "scattercarpet": [
           {
            "marker": {
             "colorbar": {
              "outlinewidth": 0,
              "ticks": ""
             }
            },
            "type": "scattercarpet"
           }
          ],
          "scattergeo": [
           {
            "marker": {
             "colorbar": {
              "outlinewidth": 0,
              "ticks": ""
             }
            },
            "type": "scattergeo"
           }
          ],
          "scattergl": [
           {
            "marker": {
             "colorbar": {
              "outlinewidth": 0,
              "ticks": ""
             }
            },
            "type": "scattergl"
           }
          ],
          "scattermapbox": [
           {
            "marker": {
             "colorbar": {
              "outlinewidth": 0,
              "ticks": ""
             }
            },
            "type": "scattermapbox"
           }
          ],
          "scatterpolar": [
           {
            "marker": {
             "colorbar": {
              "outlinewidth": 0,
              "ticks": ""
             }
            },
            "type": "scatterpolar"
           }
          ],
          "scatterpolargl": [
           {
            "marker": {
             "colorbar": {
              "outlinewidth": 0,
              "ticks": ""
             }
            },
            "type": "scatterpolargl"
           }
          ],
          "scatterternary": [
           {
            "marker": {
             "colorbar": {
              "outlinewidth": 0,
              "ticks": ""
             }
            },
            "type": "scatterternary"
           }
          ],
          "surface": [
           {
            "colorbar": {
             "outlinewidth": 0,
             "ticks": ""
            },
            "colorscale": [
             [
              0,
              "#0d0887"
             ],
             [
              0.1111111111111111,
              "#46039f"
             ],
             [
              0.2222222222222222,
              "#7201a8"
             ],
             [
              0.3333333333333333,
              "#9c179e"
             ],
             [
              0.4444444444444444,
              "#bd3786"
             ],
             [
              0.5555555555555556,
              "#d8576b"
             ],
             [
              0.6666666666666666,
              "#ed7953"
             ],
             [
              0.7777777777777778,
              "#fb9f3a"
             ],
             [
              0.8888888888888888,
              "#fdca26"
             ],
             [
              1,
              "#f0f921"
             ]
            ],
            "type": "surface"
           }
          ],
          "table": [
           {
            "cells": {
             "fill": {
              "color": "#EBF0F8"
             },
             "line": {
              "color": "white"
             }
            },
            "header": {
             "fill": {
              "color": "#C8D4E3"
             },
             "line": {
              "color": "white"
             }
            },
            "type": "table"
           }
          ]
         },
         "layout": {
          "annotationdefaults": {
           "arrowcolor": "#2a3f5f",
           "arrowhead": 0,
           "arrowwidth": 1
          },
          "autotypenumbers": "strict",
          "coloraxis": {
           "colorbar": {
            "outlinewidth": 0,
            "ticks": ""
           }
          },
          "colorscale": {
           "diverging": [
            [
             0,
             "#8e0152"
            ],
            [
             0.1,
             "#c51b7d"
            ],
            [
             0.2,
             "#de77ae"
            ],
            [
             0.3,
             "#f1b6da"
            ],
            [
             0.4,
             "#fde0ef"
            ],
            [
             0.5,
             "#f7f7f7"
            ],
            [
             0.6,
             "#e6f5d0"
            ],
            [
             0.7,
             "#b8e186"
            ],
            [
             0.8,
             "#7fbc41"
            ],
            [
             0.9,
             "#4d9221"
            ],
            [
             1,
             "#276419"
            ]
           ],
           "sequential": [
            [
             0,
             "#0d0887"
            ],
            [
             0.1111111111111111,
             "#46039f"
            ],
            [
             0.2222222222222222,
             "#7201a8"
            ],
            [
             0.3333333333333333,
             "#9c179e"
            ],
            [
             0.4444444444444444,
             "#bd3786"
            ],
            [
             0.5555555555555556,
             "#d8576b"
            ],
            [
             0.6666666666666666,
             "#ed7953"
            ],
            [
             0.7777777777777778,
             "#fb9f3a"
            ],
            [
             0.8888888888888888,
             "#fdca26"
            ],
            [
             1,
             "#f0f921"
            ]
           ],
           "sequentialminus": [
            [
             0,
             "#0d0887"
            ],
            [
             0.1111111111111111,
             "#46039f"
            ],
            [
             0.2222222222222222,
             "#7201a8"
            ],
            [
             0.3333333333333333,
             "#9c179e"
            ],
            [
             0.4444444444444444,
             "#bd3786"
            ],
            [
             0.5555555555555556,
             "#d8576b"
            ],
            [
             0.6666666666666666,
             "#ed7953"
            ],
            [
             0.7777777777777778,
             "#fb9f3a"
            ],
            [
             0.8888888888888888,
             "#fdca26"
            ],
            [
             1,
             "#f0f921"
            ]
           ]
          },
          "colorway": [
           "#636efa",
           "#EF553B",
           "#00cc96",
           "#ab63fa",
           "#FFA15A",
           "#19d3f3",
           "#FF6692",
           "#B6E880",
           "#FF97FF",
           "#FECB52"
          ],
          "font": {
           "color": "#2a3f5f"
          },
          "geo": {
           "bgcolor": "white",
           "lakecolor": "white",
           "landcolor": "#E5ECF6",
           "showlakes": true,
           "showland": true,
           "subunitcolor": "white"
          },
          "hoverlabel": {
           "align": "left"
          },
          "hovermode": "closest",
          "mapbox": {
           "style": "light"
          },
          "paper_bgcolor": "white",
          "plot_bgcolor": "#E5ECF6",
          "polar": {
           "angularaxis": {
            "gridcolor": "white",
            "linecolor": "white",
            "ticks": ""
           },
           "bgcolor": "#E5ECF6",
           "radialaxis": {
            "gridcolor": "white",
            "linecolor": "white",
            "ticks": ""
           }
          },
          "scene": {
           "xaxis": {
            "backgroundcolor": "#E5ECF6",
            "gridcolor": "white",
            "gridwidth": 2,
            "linecolor": "white",
            "showbackground": true,
            "ticks": "",
            "zerolinecolor": "white"
           },
           "yaxis": {
            "backgroundcolor": "#E5ECF6",
            "gridcolor": "white",
            "gridwidth": 2,
            "linecolor": "white",
            "showbackground": true,
            "ticks": "",
            "zerolinecolor": "white"
           },
           "zaxis": {
            "backgroundcolor": "#E5ECF6",
            "gridcolor": "white",
            "gridwidth": 2,
            "linecolor": "white",
            "showbackground": true,
            "ticks": "",
            "zerolinecolor": "white"
           }
          },
          "shapedefaults": {
           "line": {
            "color": "#2a3f5f"
           }
          },
          "ternary": {
           "aaxis": {
            "gridcolor": "white",
            "linecolor": "white",
            "ticks": ""
           },
           "baxis": {
            "gridcolor": "white",
            "linecolor": "white",
            "ticks": ""
           },
           "bgcolor": "#E5ECF6",
           "caxis": {
            "gridcolor": "white",
            "linecolor": "white",
            "ticks": ""
           }
          },
          "title": {
           "x": 0.05
          },
          "xaxis": {
           "automargin": true,
           "gridcolor": "white",
           "linecolor": "white",
           "ticks": "",
           "title": {
            "standoff": 15
           },
           "zerolinecolor": "white",
           "zerolinewidth": 2
          },
          "yaxis": {
           "automargin": true,
           "gridcolor": "white",
           "linecolor": "white",
           "ticks": "",
           "title": {
            "standoff": 15
           },
           "zerolinecolor": "white",
           "zerolinewidth": 2
          }
         }
        },
        "title": {
         "text": "Learning Curves"
        },
        "xaxis": {
         "anchor": "y",
         "domain": [
          0,
          1
         ],
         "title": {
          "text": "Training Set Size"
         }
        },
        "yaxis": {
         "anchor": "x",
         "domain": [
          0,
          1
         ],
         "title": {
          "text": "Root Mean Squared Error (RMSE)"
         }
        }
       }
      },
      "text/html": [
       "<div>                            <div id=\"3f36e57f-b900-4e83-a7d8-d6631acdb9b9\" class=\"plotly-graph-div\" style=\"height:525px; width:100%;\"></div>            <script type=\"text/javascript\">                require([\"plotly\"], function(Plotly) {                    window.PLOTLYENV=window.PLOTLYENV || {};                                    if (document.getElementById(\"3f36e57f-b900-4e83-a7d8-d6631acdb9b9\")) {                    Plotly.newPlot(                        \"3f36e57f-b900-4e83-a7d8-d6631acdb9b9\",                        [{\"hovertemplate\":\"Error Type=Training Error<br>Training Set Size=%{x}<br>Root Mean Squared Error (RMSE)=%{y}<extra></extra>\",\"legendgroup\":\"Training Error\",\"line\":{\"color\":\"#636efa\",\"dash\":\"solid\"},\"marker\":{\"symbol\":\"circle\"},\"mode\":\"lines\",\"name\":\"Training Error\",\"orientation\":\"v\",\"showlegend\":true,\"x\":[20,21,22,23,24,25,26,27,28,29,30,31,32,33,34,35,36,37,38,39,40,41,42,43,44,45,46,47,48,49,50,51,52,53,54,55,56,57,58,59,60,61,62,63,64,65,66,67,68,69,70,71,72,73,74,75,76,77,78,79,80,81,82,83,84,85,86,87,88,89,90,91,92,93,94,95,96,97,98,99,100,101,102,103,104,105,106,107,108,109,110,111,112,113,114,115,116,117,118,119,120,121,122,123,124,125,126,127,128,129,130,131,132,133,134,135,136,137,138,139,140,141,142,143,144,145,146,147,148,149,150,151,152,153,154,155,156,157,158,159,160,161,162,163,164,165,166,167,168,169,170,171,172,173,174,175,176,177,178,179,180,181,182,183,184,185,186,187,188,189,190,191,192,193,194,195,196,197,198,199],\"xaxis\":\"x\",\"y\":[115050.452716227,109434.28072748377,83062.37139714882,106779.77681620454,84990.92904984074,87951.2488642112,86164.7982950286,88777.54871339585,84918.01523382246,79819.84549776049,85092.86522655748,90129.51908180687,98417.41681317618,115764.53447758335,96549.15050938999,93715.6694675439,92001.66764477734,109085.40328400592,109544.33163981666,113868.47721701745,102955.17525649922,110955.69356814928,105655.74884553876,107995.39102260013,108919.64198665463,99531.48250039629,106496.28063350733,106039.43576900582,108544.30292201381,129476.71445338381,111931.43751767738,113601.40911813425,142910.71867508494,144263.702834583,131766.52878903176,133554.0149486809,130954.80922618452,139040.3371529641,136979.44978646535,134628.38780446694,127216.14819914167,125648.69714345931,146310.31872236676,143992.20813556807,143635.14793370193,147469.09413222747,151289.97865661583,137843.79039084478,132854.16304504147,140015.65435215615,139229.95212836115,137911.9982669435,135825.7584153166,129224.10599355084,127939.06229778215,134992.84957637236,134684.0361805247,135135.3263228145,138454.28027468175,135536.00035849883,134884.14106095379,134304.66311471997,137006.0234651591,135143.3406540446,136286.32879811138,137592.49857504395,136668.99122517693,134632.6374888035,133693.61509230477,133653.71412707842,132356.2442231751,134298.03976950006,133695.29126649298,133140.55269833835,132671.78299731592,133426.1393264257,134248.3485276026,139790.1325137934,138975.07791162716,138353.89141657922,141913.2174777552,140051.17087228017,140919.13340010494,139899.14346230164,138603.35686890857,138406.80082157906,136116.59295816408,139762.99838689895,138412.09746469796,138167.7387953958,138599.5392427044,139008.16356275335,135409.9936087128,138936.23467221495,138525.19253923596,137923.366955778,137699.35515095657,136718.19496061502,137570.63566601503,141066.29734009647,136186.09658033363,135973.3501551718,135123.88014125408,136465.37999435802,134259.00164404156,138240.27276312638,138339.54093455191,137648.22372851288,134938.98799607877,134867.3248859401,134377.95352791314,134069.21109103144,135210.8727505083,135247.46783675055,134482.3572543678,136431.12519928903,136334.2030542434,135568.65186704005,144588.5304307205,147114.73293831,142846.940180614,148773.40120981753,143852.6960174013,143831.98332077643,143393.93351535173,141875.9302453835,143836.33418879384,147100.96852229186,146260.01981066962,144160.46443104817,144459.82689840003,145611.3927080506,144434.12412388434,143579.53741299963,142920.12140664356,142129.0605874691,145562.83419808288,143744.1137828564,144515.46828945793,144021.67669198153,141928.8823392593,141952.80455066255,142148.11301501215,142462.2848239223,142426.66654375062,141940.69443734086,141699.2080586309,142342.41253807695,143219.24047802895,142333.63317399268,142244.33321075147,142834.65673370537,141296.64902274555,142313.87494924982,141116.87788710493,141106.72354045743,161018.7984199587,140741.76801286847,140871.92609537728,142689.29405062908,141989.55660921193,144570.4664778983,144978.8073503731,142634.49528332925,143042.87422177396,143216.76848383702,142093.25532123927,143966.86326651106,144417.51851145434,142079.4509307141,142939.49519536976,143015.1983887593,142768.50270813538,143322.61070661322,142011.83366685332,142026.9533404219,140569.20121744974,141524.9017770072,141438.32905099893,139747.30145015742],\"yaxis\":\"y\",\"type\":\"scatter\"},{\"hovertemplate\":\"Error Type=Validation|Test Error<br>Training Set Size=%{x}<br>Root Mean Squared Error (RMSE)=%{y}<extra></extra>\",\"legendgroup\":\"Validation|Test Error\",\"line\":{\"color\":\"#EF553B\",\"dash\":\"solid\"},\"marker\":{\"symbol\":\"circle\"},\"mode\":\"lines\",\"name\":\"Validation|Test Error\",\"orientation\":\"v\",\"showlegend\":true,\"x\":[20,21,22,23,24,25,26,27,28,29,30,31,32,33,34,35,36,37,38,39,40,41,42,43,44,45,46,47,48,49,50,51,52,53,54,55,56,57,58,59,60,61,62,63,64,65,66,67,68,69,70,71,72,73,74,75,76,77,78,79,80,81,82,83,84,85,86,87,88,89,90,91,92,93,94,95,96,97,98,99,100,101,102,103,104,105,106,107,108,109,110,111,112,113,114,115,116,117,118,119,120,121,122,123,124,125,126,127,128,129,130,131,132,133,134,135,136,137,138,139,140,141,142,143,144,145,146,147,148,149,150,151,152,153,154,155,156,157,158,159,160,161,162,163,164,165,166,167,168,169,170,171,172,173,174,175,176,177,178,179,180,181,182,183,184,185,186,187,188,189,190,191,192,193,194,195,196,197,198,199],\"xaxis\":\"x\",\"y\":[442725.6391272382,469670.348965749,398057.35682948964,451510.5667337073,408200.09493471804,430714.4863151347,429579.98045444046,406744.5977913351,410812.75591676525,382195.548658162,392757.4661686222,402511.08051439846,389789.65724873234,404417.3849314632,373401.0494874182,346120.1471045406,351638.56698757666,378993.78230184445,345756.4498040047,343088.51702294603,340876.2774102617,354700.09951043426,347510.43748606683,359607.58060281083,358562.69874555094,334590.4531537363,344650.3430592446,337760.5098387262,318288.7659734594,367843.27374534524,322655.5512381461,325263.09011556895,332368.92286960426,334702.4124117766,338020.43599415605,338936.4236267574,317132.6469953449,331311.2033844806,331726.27367712156,329870.71590421576,314180.88570439315,317285.6463184691,319675.7220072612,310540.57817662944,304302.9443891439,307247.1796973612,319529.1240769018,282589.80491158867,279827.7796034749,287921.7071905351,302319.8856585667,300916.8917700921,281912.67489583447,279982.4917662332,281092.52156105684,282804.58665841375,286438.6463469923,288378.95299322996,293622.1455200767,281392.2643541132,280750.71972908813,281807.17276431,287395.6350152201,284801.9445966151,289119.09583763854,290669.3490333915,291971.8000529782,285870.101781637,286796.1543343231,302350.7227396527,287517.18474357255,289665.33838132623,288791.724015179,288998.8654285813,288813.0902905479,289455.77347142756,294756.2881678121,292013.2651018208,291261.9865795309,289986.14705606044,293120.21622242633,287857.1379760043,293305.63622837403,293838.5028427739,292404.7787047256,292580.05468890775,288818.6413565298,295717.5485850341,293656.2966823347,286268.15815120057,288131.1706990308,287017.0449270812,287418.4223744873,270194.9693194165,270903.77930597326,267537.0606643203,272662.72562526766,271361.11119370017,279446.0881171519,295144.86813144106,277412.8283950478,277355.3392877273,277534.78750108375,282498.29593864764,272712.80193308514,273953.760754161,280256.8117746488,273024.03968350537,272106.15127936006,271195.71263276966,271500.73026818346,271611.6375443297,272948.14059687796,275788.73604205524,271199.38451855705,278442.4247155946,272685.98537803337,271001.1290496619,274051.97451424395,282850.87203300674,273913.28615106875,279206.8460275965,276967.46738273907,280860.35110316024,281492.7248202112,273480.31195381907,272613.3084203911,275880.5141816927,275888.25362291996,271471.83184072556,269553.42397757806,266637.4482253839,271727.8927273987,270488.559832076,267408.541768009,268685.58597411355,274910.98853666044,273252.1088155844,276127.7082879046,275114.3970579412,273173.35118312674,273322.5928017189,273395.486362119,275046.86254549696,274546.30190953356,274808.5918297691,274267.5613067446,275564.34275299206,271880.9068684017,274613.08419700334,271725.8816918943,274684.08304158173,268723.12485860364,240613.9498661257,237792.45517465557,240995.5596292914,270292.60838416294,235686.64850773304,238353.14732558443,234299.14702511547,233849.7716203264,235550.0797588069,238288.07001580694,235939.42237280417,242519.45342341042,238993.41849728712,241157.78462158167,240100.25594603247,235197.18423867144,238697.0265980318,238686.66769189585,240141.1333129012,238080.28203077381,235843.19603779714,241105.59175442084,240633.52319334834,241991.03130535025,239675.28076733038,240135.72777899256,242178.69123953866],\"yaxis\":\"y\",\"type\":\"scatter\"}],                        {\"template\":{\"data\":{\"histogram2dcontour\":[{\"type\":\"histogram2dcontour\",\"colorbar\":{\"outlinewidth\":0,\"ticks\":\"\"},\"colorscale\":[[0.0,\"#0d0887\"],[0.1111111111111111,\"#46039f\"],[0.2222222222222222,\"#7201a8\"],[0.3333333333333333,\"#9c179e\"],[0.4444444444444444,\"#bd3786\"],[0.5555555555555556,\"#d8576b\"],[0.6666666666666666,\"#ed7953\"],[0.7777777777777778,\"#fb9f3a\"],[0.8888888888888888,\"#fdca26\"],[1.0,\"#f0f921\"]]}],\"choropleth\":[{\"type\":\"choropleth\",\"colorbar\":{\"outlinewidth\":0,\"ticks\":\"\"}}],\"histogram2d\":[{\"type\":\"histogram2d\",\"colorbar\":{\"outlinewidth\":0,\"ticks\":\"\"},\"colorscale\":[[0.0,\"#0d0887\"],[0.1111111111111111,\"#46039f\"],[0.2222222222222222,\"#7201a8\"],[0.3333333333333333,\"#9c179e\"],[0.4444444444444444,\"#bd3786\"],[0.5555555555555556,\"#d8576b\"],[0.6666666666666666,\"#ed7953\"],[0.7777777777777778,\"#fb9f3a\"],[0.8888888888888888,\"#fdca26\"],[1.0,\"#f0f921\"]]}],\"heatmap\":[{\"type\":\"heatmap\",\"colorbar\":{\"outlinewidth\":0,\"ticks\":\"\"},\"colorscale\":[[0.0,\"#0d0887\"],[0.1111111111111111,\"#46039f\"],[0.2222222222222222,\"#7201a8\"],[0.3333333333333333,\"#9c179e\"],[0.4444444444444444,\"#bd3786\"],[0.5555555555555556,\"#d8576b\"],[0.6666666666666666,\"#ed7953\"],[0.7777777777777778,\"#fb9f3a\"],[0.8888888888888888,\"#fdca26\"],[1.0,\"#f0f921\"]]}],\"heatmapgl\":[{\"type\":\"heatmapgl\",\"colorbar\":{\"outlinewidth\":0,\"ticks\":\"\"},\"colorscale\":[[0.0,\"#0d0887\"],[0.1111111111111111,\"#46039f\"],[0.2222222222222222,\"#7201a8\"],[0.3333333333333333,\"#9c179e\"],[0.4444444444444444,\"#bd3786\"],[0.5555555555555556,\"#d8576b\"],[0.6666666666666666,\"#ed7953\"],[0.7777777777777778,\"#fb9f3a\"],[0.8888888888888888,\"#fdca26\"],[1.0,\"#f0f921\"]]}],\"contourcarpet\":[{\"type\":\"contourcarpet\",\"colorbar\":{\"outlinewidth\":0,\"ticks\":\"\"}}],\"contour\":[{\"type\":\"contour\",\"colorbar\":{\"outlinewidth\":0,\"ticks\":\"\"},\"colorscale\":[[0.0,\"#0d0887\"],[0.1111111111111111,\"#46039f\"],[0.2222222222222222,\"#7201a8\"],[0.3333333333333333,\"#9c179e\"],[0.4444444444444444,\"#bd3786\"],[0.5555555555555556,\"#d8576b\"],[0.6666666666666666,\"#ed7953\"],[0.7777777777777778,\"#fb9f3a\"],[0.8888888888888888,\"#fdca26\"],[1.0,\"#f0f921\"]]}],\"surface\":[{\"type\":\"surface\",\"colorbar\":{\"outlinewidth\":0,\"ticks\":\"\"},\"colorscale\":[[0.0,\"#0d0887\"],[0.1111111111111111,\"#46039f\"],[0.2222222222222222,\"#7201a8\"],[0.3333333333333333,\"#9c179e\"],[0.4444444444444444,\"#bd3786\"],[0.5555555555555556,\"#d8576b\"],[0.6666666666666666,\"#ed7953\"],[0.7777777777777778,\"#fb9f3a\"],[0.8888888888888888,\"#fdca26\"],[1.0,\"#f0f921\"]]}],\"mesh3d\":[{\"type\":\"mesh3d\",\"colorbar\":{\"outlinewidth\":0,\"ticks\":\"\"}}],\"scatter\":[{\"fillpattern\":{\"fillmode\":\"overlay\",\"size\":10,\"solidity\":0.2},\"type\":\"scatter\"}],\"parcoords\":[{\"type\":\"parcoords\",\"line\":{\"colorbar\":{\"outlinewidth\":0,\"ticks\":\"\"}}}],\"scatterpolargl\":[{\"type\":\"scatterpolargl\",\"marker\":{\"colorbar\":{\"outlinewidth\":0,\"ticks\":\"\"}}}],\"bar\":[{\"error_x\":{\"color\":\"#2a3f5f\"},\"error_y\":{\"color\":\"#2a3f5f\"},\"marker\":{\"line\":{\"color\":\"#E5ECF6\",\"width\":0.5},\"pattern\":{\"fillmode\":\"overlay\",\"size\":10,\"solidity\":0.2}},\"type\":\"bar\"}],\"scattergeo\":[{\"type\":\"scattergeo\",\"marker\":{\"colorbar\":{\"outlinewidth\":0,\"ticks\":\"\"}}}],\"scatterpolar\":[{\"type\":\"scatterpolar\",\"marker\":{\"colorbar\":{\"outlinewidth\":0,\"ticks\":\"\"}}}],\"histogram\":[{\"marker\":{\"pattern\":{\"fillmode\":\"overlay\",\"size\":10,\"solidity\":0.2}},\"type\":\"histogram\"}],\"scattergl\":[{\"type\":\"scattergl\",\"marker\":{\"colorbar\":{\"outlinewidth\":0,\"ticks\":\"\"}}}],\"scatter3d\":[{\"type\":\"scatter3d\",\"line\":{\"colorbar\":{\"outlinewidth\":0,\"ticks\":\"\"}},\"marker\":{\"colorbar\":{\"outlinewidth\":0,\"ticks\":\"\"}}}],\"scattermapbox\":[{\"type\":\"scattermapbox\",\"marker\":{\"colorbar\":{\"outlinewidth\":0,\"ticks\":\"\"}}}],\"scatterternary\":[{\"type\":\"scatterternary\",\"marker\":{\"colorbar\":{\"outlinewidth\":0,\"ticks\":\"\"}}}],\"scattercarpet\":[{\"type\":\"scattercarpet\",\"marker\":{\"colorbar\":{\"outlinewidth\":0,\"ticks\":\"\"}}}],\"carpet\":[{\"aaxis\":{\"endlinecolor\":\"#2a3f5f\",\"gridcolor\":\"white\",\"linecolor\":\"white\",\"minorgridcolor\":\"white\",\"startlinecolor\":\"#2a3f5f\"},\"baxis\":{\"endlinecolor\":\"#2a3f5f\",\"gridcolor\":\"white\",\"linecolor\":\"white\",\"minorgridcolor\":\"white\",\"startlinecolor\":\"#2a3f5f\"},\"type\":\"carpet\"}],\"table\":[{\"cells\":{\"fill\":{\"color\":\"#EBF0F8\"},\"line\":{\"color\":\"white\"}},\"header\":{\"fill\":{\"color\":\"#C8D4E3\"},\"line\":{\"color\":\"white\"}},\"type\":\"table\"}],\"barpolar\":[{\"marker\":{\"line\":{\"color\":\"#E5ECF6\",\"width\":0.5},\"pattern\":{\"fillmode\":\"overlay\",\"size\":10,\"solidity\":0.2}},\"type\":\"barpolar\"}],\"pie\":[{\"automargin\":true,\"type\":\"pie\"}]},\"layout\":{\"autotypenumbers\":\"strict\",\"colorway\":[\"#636efa\",\"#EF553B\",\"#00cc96\",\"#ab63fa\",\"#FFA15A\",\"#19d3f3\",\"#FF6692\",\"#B6E880\",\"#FF97FF\",\"#FECB52\"],\"font\":{\"color\":\"#2a3f5f\"},\"hovermode\":\"closest\",\"hoverlabel\":{\"align\":\"left\"},\"paper_bgcolor\":\"white\",\"plot_bgcolor\":\"#E5ECF6\",\"polar\":{\"bgcolor\":\"#E5ECF6\",\"angularaxis\":{\"gridcolor\":\"white\",\"linecolor\":\"white\",\"ticks\":\"\"},\"radialaxis\":{\"gridcolor\":\"white\",\"linecolor\":\"white\",\"ticks\":\"\"}},\"ternary\":{\"bgcolor\":\"#E5ECF6\",\"aaxis\":{\"gridcolor\":\"white\",\"linecolor\":\"white\",\"ticks\":\"\"},\"baxis\":{\"gridcolor\":\"white\",\"linecolor\":\"white\",\"ticks\":\"\"},\"caxis\":{\"gridcolor\":\"white\",\"linecolor\":\"white\",\"ticks\":\"\"}},\"coloraxis\":{\"colorbar\":{\"outlinewidth\":0,\"ticks\":\"\"}},\"colorscale\":{\"sequential\":[[0.0,\"#0d0887\"],[0.1111111111111111,\"#46039f\"],[0.2222222222222222,\"#7201a8\"],[0.3333333333333333,\"#9c179e\"],[0.4444444444444444,\"#bd3786\"],[0.5555555555555556,\"#d8576b\"],[0.6666666666666666,\"#ed7953\"],[0.7777777777777778,\"#fb9f3a\"],[0.8888888888888888,\"#fdca26\"],[1.0,\"#f0f921\"]],\"sequentialminus\":[[0.0,\"#0d0887\"],[0.1111111111111111,\"#46039f\"],[0.2222222222222222,\"#7201a8\"],[0.3333333333333333,\"#9c179e\"],[0.4444444444444444,\"#bd3786\"],[0.5555555555555556,\"#d8576b\"],[0.6666666666666666,\"#ed7953\"],[0.7777777777777778,\"#fb9f3a\"],[0.8888888888888888,\"#fdca26\"],[1.0,\"#f0f921\"]],\"diverging\":[[0,\"#8e0152\"],[0.1,\"#c51b7d\"],[0.2,\"#de77ae\"],[0.3,\"#f1b6da\"],[0.4,\"#fde0ef\"],[0.5,\"#f7f7f7\"],[0.6,\"#e6f5d0\"],[0.7,\"#b8e186\"],[0.8,\"#7fbc41\"],[0.9,\"#4d9221\"],[1,\"#276419\"]]},\"xaxis\":{\"gridcolor\":\"white\",\"linecolor\":\"white\",\"ticks\":\"\",\"title\":{\"standoff\":15},\"zerolinecolor\":\"white\",\"automargin\":true,\"zerolinewidth\":2},\"yaxis\":{\"gridcolor\":\"white\",\"linecolor\":\"white\",\"ticks\":\"\",\"title\":{\"standoff\":15},\"zerolinecolor\":\"white\",\"automargin\":true,\"zerolinewidth\":2},\"scene\":{\"xaxis\":{\"backgroundcolor\":\"#E5ECF6\",\"gridcolor\":\"white\",\"linecolor\":\"white\",\"showbackground\":true,\"ticks\":\"\",\"zerolinecolor\":\"white\",\"gridwidth\":2},\"yaxis\":{\"backgroundcolor\":\"#E5ECF6\",\"gridcolor\":\"white\",\"linecolor\":\"white\",\"showbackground\":true,\"ticks\":\"\",\"zerolinecolor\":\"white\",\"gridwidth\":2},\"zaxis\":{\"backgroundcolor\":\"#E5ECF6\",\"gridcolor\":\"white\",\"linecolor\":\"white\",\"showbackground\":true,\"ticks\":\"\",\"zerolinecolor\":\"white\",\"gridwidth\":2}},\"shapedefaults\":{\"line\":{\"color\":\"#2a3f5f\"}},\"annotationdefaults\":{\"arrowcolor\":\"#2a3f5f\",\"arrowhead\":0,\"arrowwidth\":1},\"geo\":{\"bgcolor\":\"white\",\"landcolor\":\"#E5ECF6\",\"subunitcolor\":\"white\",\"showland\":true,\"showlakes\":true,\"lakecolor\":\"white\"},\"title\":{\"x\":0.05},\"mapbox\":{\"style\":\"light\"}}},\"xaxis\":{\"anchor\":\"y\",\"domain\":[0.0,1.0],\"title\":{\"text\":\"Training Set Size\"}},\"yaxis\":{\"anchor\":\"x\",\"domain\":[0.0,1.0],\"title\":{\"text\":\"Root Mean Squared Error (RMSE)\"}},\"legend\":{\"title\":{\"text\":\"Error Type\"},\"tracegroupgap\":0},\"title\":{\"text\":\"Learning Curves\"}},                        {\"responsive\": true}                    ).then(function(){\n",
       "                            \n",
       "var gd = document.getElementById('3f36e57f-b900-4e83-a7d8-d6631acdb9b9');\n",
       "var x = new MutationObserver(function (mutations, observer) {{\n",
       "        var display = window.getComputedStyle(gd).display;\n",
       "        if (!display || display === 'none') {{\n",
       "            console.log([gd, 'removed!']);\n",
       "            Plotly.purge(gd);\n",
       "            observer.disconnect();\n",
       "        }}\n",
       "}});\n",
       "\n",
       "// Listen for the removal of the full notebook cells\n",
       "var notebookContainer = gd.closest('#notebook-container');\n",
       "if (notebookContainer) {{\n",
       "    x.observe(notebookContainer, {childList: true});\n",
       "}}\n",
       "\n",
       "// Listen for the clearing of the current output cell\n",
       "var outputEl = gd.closest('.output');\n",
       "if (outputEl) {{\n",
       "    x.observe(outputEl, {childList: true});\n",
       "}}\n",
       "\n",
       "                        })                };                });            </script>        </div>"
      ]
     },
     "metadata": {},
     "output_type": "display_data"
    }
   ],
   "source": [
    "plot_learning_curves_plotly(sgd_reg, X_train, y_train, X_test, y_test)"
   ]
  }
 ],
 "metadata": {
  "kernelspec": {
   "display_name": "Python 3 (ipykernel)",
   "language": "python",
   "name": "python3"
  },
  "language_info": {
   "codemirror_mode": {
    "name": "ipython",
    "version": 3
   },
   "file_extension": ".py",
   "mimetype": "text/x-python",
   "name": "python",
   "nbconvert_exporter": "python",
   "pygments_lexer": "ipython3",
   "version": "3.11.5"
  }
 },
 "nbformat": 4,
 "nbformat_minor": 2
}
