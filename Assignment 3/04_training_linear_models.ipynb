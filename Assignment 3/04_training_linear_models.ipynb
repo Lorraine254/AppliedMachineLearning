{
 "cells": [
  {
   "cell_type": "code",
   "execution_count": 119,
   "metadata": {},
   "outputs": [],
   "source": [
    "# Import necessary libraries\n",
    "import numpy as np\n",
    "import pandas as pd\n",
    "import matplotlib.pyplot as plt\n"
   ]
  },
  {
   "cell_type": "code",
   "execution_count": 135,
   "metadata": {},
   "outputs": [
    {
     "data": {
      "text/html": [
       "<div>\n",
       "<style scoped>\n",
       "    .dataframe tbody tr th:only-of-type {\n",
       "        vertical-align: middle;\n",
       "    }\n",
       "\n",
       "    .dataframe tbody tr th {\n",
       "        vertical-align: top;\n",
       "    }\n",
       "\n",
       "    .dataframe thead th {\n",
       "        text-align: right;\n",
       "    }\n",
       "</style>\n",
       "<table border=\"1\" class=\"dataframe\">\n",
       "  <thead>\n",
       "    <tr style=\"text-align: right;\">\n",
       "      <th></th>\n",
       "      <th>age</th>\n",
       "      <th>sex</th>\n",
       "      <th>bmi</th>\n",
       "      <th>children</th>\n",
       "      <th>smoker</th>\n",
       "      <th>region</th>\n",
       "      <th>charges</th>\n",
       "    </tr>\n",
       "  </thead>\n",
       "  <tbody>\n",
       "    <tr>\n",
       "      <th>0</th>\n",
       "      <td>19</td>\n",
       "      <td>female</td>\n",
       "      <td>27.900</td>\n",
       "      <td>0</td>\n",
       "      <td>yes</td>\n",
       "      <td>southwest</td>\n",
       "      <td>16884.92400</td>\n",
       "    </tr>\n",
       "    <tr>\n",
       "      <th>1</th>\n",
       "      <td>18</td>\n",
       "      <td>male</td>\n",
       "      <td>33.770</td>\n",
       "      <td>1</td>\n",
       "      <td>no</td>\n",
       "      <td>southeast</td>\n",
       "      <td>1725.55230</td>\n",
       "    </tr>\n",
       "    <tr>\n",
       "      <th>2</th>\n",
       "      <td>28</td>\n",
       "      <td>male</td>\n",
       "      <td>33.000</td>\n",
       "      <td>3</td>\n",
       "      <td>no</td>\n",
       "      <td>southeast</td>\n",
       "      <td>4449.46200</td>\n",
       "    </tr>\n",
       "    <tr>\n",
       "      <th>3</th>\n",
       "      <td>33</td>\n",
       "      <td>male</td>\n",
       "      <td>22.705</td>\n",
       "      <td>0</td>\n",
       "      <td>no</td>\n",
       "      <td>northwest</td>\n",
       "      <td>21984.47061</td>\n",
       "    </tr>\n",
       "  </tbody>\n",
       "</table>\n",
       "</div>"
      ],
      "text/plain": [
       "   age     sex     bmi  children smoker     region      charges\n",
       "0   19  female  27.900         0    yes  southwest  16884.92400\n",
       "1   18    male  33.770         1     no  southeast   1725.55230\n",
       "2   28    male  33.000         3     no  southeast   4449.46200\n",
       "3   33    male  22.705         0     no  northwest  21984.47061"
      ]
     },
     "execution_count": 135,
     "metadata": {},
     "output_type": "execute_result"
    }
   ],
   "source": [
    "# Import data\n",
    "df   = pd.read_csv('https://raw.githubusercontent.com/NUELBUNDI/Machine-Learning-Data-Set/main/insurance%20Regression.csv')          # For Regression\n",
    "\n",
    "df.head(4)"
   ]
  },
  {
   "cell_type": "markdown",
   "metadata": {},
   "source": [
    "#### Linear Regression"
   ]
  },
  {
   "cell_type": "markdown",
   "metadata": {},
   "source": [
    "##### Data Preparation\n"
   ]
  },
  {
   "cell_type": "code",
   "execution_count": 136,
   "metadata": {},
   "outputs": [],
   "source": [
    "# Lets use Pipelines for our data preprocessing\n",
    "\n",
    "from sklearn.pipeline import Pipeline\n",
    "from sklearn.compose import ColumnTransformer\n",
    "from sklearn.preprocessing import OneHotEncoder, StandardScaler\n",
    "from sklearn.impute import SimpleImputer\n",
    "\n",
    "\n",
    "# Separate features and target variables\n",
    "\n",
    "X = df.drop('charges',axis=1)\n",
    "y = df['charges']\n",
    "\n",
    "# Categorical and numerical columns\n",
    "categorical_features = ['sex', 'smoker', 'region']\n",
    "numerical_features   = ['age', 'bmi', 'children']\n",
    "\n",
    "\n",
    "\n",
    "# Preprocessing pipelines for numerical and categorical data\n",
    "\n",
    "numerical_pipeline = Pipeline([\n",
    "                                ('imputer', SimpleImputer(strategy='mean')),\n",
    "                                    ('scaler', StandardScaler())\n",
    "                                ])\n",
    "\n",
    "\n",
    "categorical_pipeline = Pipeline([\n",
    "                                ('imputer', SimpleImputer(strategy='most_frequent')),\n",
    "                                ('onehot', OneHotEncoder(handle_unknown='ignore'))\n",
    "                            ])\n",
    "\n",
    "\n",
    "# Combine pipelines into a ColumnTransformer\n",
    "preprocessor = ColumnTransformer([\n",
    "                                    ('num', numerical_pipeline, numerical_features),\n",
    "                                    ('cat', categorical_pipeline, categorical_features)\n",
    "                                ])\n",
    "\n",
    "\n",
    "# Final pipeline including the preprocessor\n",
    "pipeline = Pipeline([\n",
    "    ('preprocessor', preprocessor)\n",
    "])"
   ]
  },
  {
   "cell_type": "code",
   "execution_count": 137,
   "metadata": {},
   "outputs": [],
   "source": [
    "# Fit and transform the data\n",
    "X_transformed = pipeline.fit_transform(X)\n",
    "\n",
    "X_train, X_test, y_train, y_test = train_test_split(X_transformed, y, test_size=0.2, random_state=42)\n"
   ]
  },
  {
   "cell_type": "code",
   "execution_count": 222,
   "metadata": {},
   "outputs": [
    {
     "name": "stdout",
     "output_type": "stream",
     "text": [
      "Coefficients:\n",
      " [ 3.60914902e+03  2.05488506e+03  5.12478869e+02  9.29584582e+00\n",
      " -9.29584582e+00 -1.18255644e+04  1.18255644e+04  4.59585244e+02\n",
      "  8.89079180e+01 -1.98279052e+02 -3.50214110e+02]\n",
      "Intercept: 20302.765320157294\n",
      "Mean Squared Error: 5796.2846592762735\n",
      "R^2 Score: 0.7835929767120723\n"
     ]
    }
   ],
   "source": [
    "# Lets Train a Linear Regression\n",
    "\n",
    "from sklearn.linear_model import LinearRegression\n",
    "from sklearn.metrics import mean_squared_error, r2_score\n",
    "from math import sqrt\n",
    "\n",
    "\n",
    "lr_model = LinearRegression()  # Create an instance\n",
    "lr_model.fit(X_train, y_train) # Train\n",
    "y_pred   = lr_model.predict(X_test) \n",
    "\n",
    "print(\"Coefficients:\\n\", lr_model.coef_)\n",
    "print(\"Intercept:\", lr_model.intercept_)\n",
    "print(\"Mean Squared Error:\", sqrt(mean_squared_error(y_test, y_pred)))\n",
    "print(\"R^2 Score:\", r2_score(y_test, y_pred))"
   ]
  },
  {
   "cell_type": "code",
   "execution_count": 174,
   "metadata": {},
   "outputs": [
    {
     "data": {
      "image/png": "[encoded data removed]",
      "text/plain": [
       "<Figure size 640x480 with 1 Axes>"
      ]
     },
     "metadata": {},
     "output_type": "display_data"
    }
   ],
   "source": [
    "# Visualization\n",
    "\n",
    "plt.scatter(y_test, y_pred, color='blue', label='Predicted vs Actual')\n",
    "\n",
    "plt.plot([min(y_test), max(y_test)], [min(y_test), max(y_test)], color='red', linewidth=2, label='Ideal Fit')\n",
    "\n",
    "plt.title('Linear Regression: Predicted vs Actual Charges')\n",
    "plt.xlabel('Actual Charges')\n",
    "plt.ylabel('Predicted Charges')\n",
    "plt.legend()\n",
    "plt.show()"
   ]
  },
  {
   "cell_type": "markdown",
   "metadata": {},
   "source": [
    "##### Stochastic Gradient Descent Implementation from scratch and predict \n",
    "\n",
    "- SGD is an optimization technique that helps in minimizing the error (or cost) in predicting the output y from the input features X"
   ]
  },
  {
   "cell_type": "code",
   "execution_count": 202,
   "metadata": {},
   "outputs": [
    {
     "name": "stdout",
     "output_type": "stream",
     "text": [
      "SGD Theta: [ 8137.41962014  4174.60939348  2755.58771152   335.49372442\n",
      "  4269.54212723  3867.71821936 -7645.85847575 15783.54533686\n",
      "  1831.70571947  2501.29170638  1451.84633944  2355.6092256 ]\n",
      "\n",
      "Predicted values: [ 6085.70950413  5713.47323348 36048.37533822  7186.77922913]\n"
     ]
    }
   ],
   "source": [
    "# Stochastic Gradient Descent Implementation\n",
    "\n",
    "\n",
    "def stochastic_gradient_descent(X, y, learning_rate=0.01, n_iterations=100):\n",
    "    \n",
    "    m     =   len(X)                           # m is the number of data points\n",
    "    X_b   = np.c_[np.ones((m, 1)), X]          # Add x0 = 1 to each instance , this is  bias Term (Intercept)\n",
    "    theta = np.random.randn(X_b.shape[1], 1)   # Random initialization of weights Theta represent model parameters(weights) which will be optimized during training\n",
    "    \n",
    "    for iteration in range(n_iterations):\n",
    "        '''\n",
    "        optimization loop that runs for a total of n_iterations meaning it goes the entire dataset multiple times\n",
    "        to adjust the weights and minimize error\n",
    "        '''\n",
    "        \n",
    "        for i in range(m):\n",
    "            \n",
    "            random_index   = np.random.randint(m)                # Introduces randomness\n",
    "            xi             = X_b[random_index:random_index+1]    # Select the inputs Xi\n",
    "            yi             = y[random_index:random_index+1]      # Select the corresponding Yi\n",
    "            \n",
    "            # Calculate the gradient The expression xi.dot(theta) computes the prediction for the current sample subtracting yi gives the error\n",
    "            # Multiplying by xi.T and then by 2 gives the gradient of the error with respect to the weights.\n",
    "            \n",
    "            gradients      = 2 * xi.T.dot(xi.dot(theta) - yi)   \n",
    "             \n",
    "            theta          = theta - learning_rate * gradients  # Update the updates the weights\n",
    "    \n",
    "    return theta\n",
    "\n",
    "# Perform SGD\n",
    "\n",
    "theta_sgd = stochastic_gradient_descent(X_train, y_train.values.reshape(-1, 1))\n",
    "\n",
    "print(f\"SGD Theta: {theta_sgd.ravel()}\")\n",
    "\n",
    "\n",
    "### Prediction function\n",
    "\n",
    "def predict(X, theta):\n",
    "    \n",
    "    X_b = np.c_[np.ones((len(X), 1)), X]    # Add the bias term (column of 1s) to the input features X\n",
    "    predictions = X_b.dot(theta)            # Compute the dot product of X_b and theta to get the predictions\n",
    "    return predictions\n",
    "\n",
    "# Call the function\n",
    "y_preds_ = predict(X_test, theta_sgd)\n",
    "\n",
    "print(f\"\\nPredicted values: {y_preds_.ravel()[0:4]}\")\n"
   ]
  },
  {
   "cell_type": "markdown",
   "metadata": {},
   "source": [
    "##### Linear Regression using SGD Regressor in Sklearn"
   ]
  },
  {
   "cell_type": "markdown",
   "metadata": {},
   "source": [
    "To perform Linear Regression using SGD with Scikit-Learn, you can use the SGDRe\n",
    "gressor class, which defaults to optimizing the squared error cost function."
   ]
  },
  {
   "cell_type": "code",
   "execution_count": 210,
   "metadata": {},
   "outputs": [
    {
     "name": "stdout",
     "output_type": "stream",
     "text": [
      "SGD Theta (scikit-learn): [ 9337.96650942  3749.59829979  2405.20833587   655.58880421\n",
      "  4639.0471124   4633.08640771 -6874.14553316 16146.27905327\n",
      "  2810.20412726  1730.85181984  2637.16638124  2093.91119177]\n",
      "\n",
      "Predicted values (scikit-learn):\n",
      "\n",
      "[ 9786.5475861   7127.9851817  36386.78469069  9737.14835065]\n"
     ]
    }
   ],
   "source": [
    "# Use  Sklearn\n",
    "\n",
    "from sklearn.linear_model import  SGDRegressor\n",
    "\n",
    "\n",
    "# Fit Linear Regression using SGD\n",
    "sgd_reg = SGDRegressor(max_iter=1000, tol=1e-3, learning_rate='constant', eta0=0.01)\n",
    "sgd_reg.fit(X_train, y_train.ravel())\n",
    "theta_sgd_sklearn = np.concatenate(([sgd_reg.intercept_[0]], sgd_reg.coef_))\n",
    "\n",
    "print(f\"SGD Theta (scikit-learn): {theta_sgd_sklearn}\\n\")\n",
    "\n",
    "# Predict using the trained model\n",
    "y_pred_sklearn = sgd_reg.predict(X_test)\n",
    "\n",
    "print(f\"Predicted values (scikit-learn):\\n\\n{y_pred_sklearn[0:4]}\")"
   ]
  },
  {
   "cell_type": "markdown",
   "metadata": {},
   "source": [
    "##### Mini-Batch Gradient Descent Implementation from scratch in python\n",
    "\n",
    "\n",
    "Instead of computing the gradients based on the full training set (as in Batch GD) or based on just one instance (as in Stochastic GD), \n",
    "Minibatch GD computes the gradients on small random sets of instances called minibatches. \n",
    "\n",
    "The main advantage of Mini-batch GD over Stochastic GD is that you can\n",
    "get a performance boost from hardware optimization of matrix operations, especially\n",
    "when using GPUs."
   ]
  },
  {
   "cell_type": "code",
   "execution_count": 220,
   "metadata": {},
   "outputs": [
    {
     "name": "stdout",
     "output_type": "stream",
     "text": [
      "Mini-Batch GD Theta: [ 8508.36392191  3299.54340145   922.31599767   791.4264953\n",
      "  4189.99506056  4323.01979391 -7530.18470545 16042.61480016\n",
      "  2306.19852915  2428.41686887  1809.47123191  1966.1190913 ]\n"
     ]
    }
   ],
   "source": [
    "# Mini-Batch Gradient Descent Implementation\n",
    "\n",
    "def mini_batch_gradient_descent(X, y, learning_rate=0.01, n_iterations=100, batch_size=10):\n",
    "     \n",
    "    m    = len(X)\n",
    "    X_b   = np.c_[np.ones((m, 1)), X]         # Add x0 = 1 to each instance\n",
    "    theta = np.random.randn(X_b.shape[1], 1)  # Random initialization\n",
    "    \n",
    "    for iteration in range(n_iterations):\n",
    "        indices      = np.random.permutation(m)\n",
    "        X_b_shuffled = X_b[indices]\n",
    "        y_shuffled   = y[indices]\n",
    "        \n",
    "        for i in range(0, m, batch_size):\n",
    "            \n",
    "            xi = X_b_shuffled[i:i+batch_size]\n",
    "            yi = y_shuffled[i:i+batch_size]\n",
    "            gradients = 2 * xi.T.dot(xi.dot(theta) - yi)\n",
    "            theta    = theta - learning_rate * gradients\n",
    "    \n",
    "    return theta\n",
    "\n",
    "# Perform Mini-Batch Gradient Descent\n",
    "theta_mbgd = mini_batch_gradient_descent(X_train, y_train.values.reshape(-1, 1))\n",
    "\n",
    "print(f\"Mini-Batch GD Theta: {theta_mbgd.ravel()}\")\n"
   ]
  },
  {
   "cell_type": "code",
   "execution_count": 219,
   "metadata": {},
   "outputs": [
    {
     "name": "stdout",
     "output_type": "stream",
     "text": [
      "SGD Theta (Mini-Batch, scikit-learn): [ 9.54583724e+09 -3.46756736e+04  9.39702267e+04 -1.16532517e+05\n",
      " -3.81796897e+09 -3.81810987e+09 -3.81850266e+09 -3.81757618e+09\n",
      " -1.90893639e+09 -1.90904173e+09 -1.90896602e+09 -1.90913471e+09]\n",
      "\n",
      "Predicted values (Mini-Batch, scikit-learn): \n",
      " [ 242789.2115097   427764.90271378 1236788.27315903  -93841.78990173]\n"
     ]
    }
   ],
   "source": [
    "\n",
    "# Fit Linear Regression using SGD with Mini-Batch Gradient Descent\n",
    "sgd_reg_min_batch = SGDRegressor(\n",
    "    max_iter=1000,           # Maximum number of iterations\n",
    "    tol=1e-3,                # Stopping criterion for convergence\n",
    "    learning_rate='optimal', # Learning rate schedule\n",
    "    random_state=42          # Ensure reproducibility\n",
    ")\n",
    "\n",
    "# Train the model\n",
    "sgd_reg_min_batch.fit(X_train, y_train.ravel())\n",
    "\n",
    "# Retrieve the theta values (weights and intercept)\n",
    "theta_sgd_min_batch = np.concatenate(([sgd_reg_min_batch.intercept_[0]], sgd_reg_min_batch.coef_))\n",
    "\n",
    "print(f\"SGD Theta (Mini-Batch, scikit-learn): {theta_sgd_min_batch}\\n\")\n",
    "\n",
    "# Predict using the trained model\n",
    "y_pred_min_batch = sgd_reg_min_batch.predict(X_test)\n",
    "\n",
    "print(f\"Predicted values (Mini-Batch, scikit-learn): \\n {y_pred_min_batch[0:4]}\")\n"
   ]
  },
  {
   "cell_type": "markdown",
   "metadata": {},
   "source": [
    "#### Logistic Regression"
   ]
  },
  {
   "cell_type": "code",
   "execution_count": 127,
   "metadata": {},
   "outputs": [
    {
     "data": {
      "text/html": [
       "<div>\n",
       "<style scoped>\n",
       "    .dataframe tbody tr th:only-of-type {\n",
       "        vertical-align: middle;\n",
       "    }\n",
       "\n",
       "    .dataframe tbody tr th {\n",
       "        vertical-align: top;\n",
       "    }\n",
       "\n",
       "    .dataframe thead th {\n",
       "        text-align: right;\n",
       "    }\n",
       "</style>\n",
       "<table border=\"1\" class=\"dataframe\">\n",
       "  <thead>\n",
       "    <tr style=\"text-align: right;\">\n",
       "      <th></th>\n",
       "      <th>id</th>\n",
       "      <th>gender</th>\n",
       "      <th>age</th>\n",
       "      <th>hypertension</th>\n",
       "      <th>heart_disease</th>\n",
       "      <th>ever_married</th>\n",
       "      <th>work_type</th>\n",
       "      <th>Residence_type</th>\n",
       "      <th>avg_glucose_level</th>\n",
       "      <th>bmi</th>\n",
       "      <th>smoking_status</th>\n",
       "      <th>stroke</th>\n",
       "    </tr>\n",
       "  </thead>\n",
       "  <tbody>\n",
       "    <tr>\n",
       "      <th>0</th>\n",
       "      <td>9046</td>\n",
       "      <td>Male</td>\n",
       "      <td>67.0</td>\n",
       "      <td>0</td>\n",
       "      <td>1</td>\n",
       "      <td>Yes</td>\n",
       "      <td>Private</td>\n",
       "      <td>Urban</td>\n",
       "      <td>228.69</td>\n",
       "      <td>36.6</td>\n",
       "      <td>formerly smoked</td>\n",
       "      <td>1</td>\n",
       "    </tr>\n",
       "    <tr>\n",
       "      <th>1</th>\n",
       "      <td>51676</td>\n",
       "      <td>Female</td>\n",
       "      <td>61.0</td>\n",
       "      <td>0</td>\n",
       "      <td>0</td>\n",
       "      <td>Yes</td>\n",
       "      <td>Self-employed</td>\n",
       "      <td>Rural</td>\n",
       "      <td>202.21</td>\n",
       "      <td>NaN</td>\n",
       "      <td>never smoked</td>\n",
       "      <td>1</td>\n",
       "    </tr>\n",
       "  </tbody>\n",
       "</table>\n",
       "</div>"
      ],
      "text/plain": [
       "      id  gender   age  hypertension  heart_disease ever_married  \\\n",
       "0   9046    Male  67.0             0              1          Yes   \n",
       "1  51676  Female  61.0             0              0          Yes   \n",
       "\n",
       "       work_type Residence_type  avg_glucose_level   bmi   smoking_status  \\\n",
       "0        Private          Urban             228.69  36.6  formerly smoked   \n",
       "1  Self-employed          Rural             202.21   NaN     never smoked   \n",
       "\n",
       "   stroke  \n",
       "0       1  \n",
       "1       1  "
      ]
     },
     "execution_count": 127,
     "metadata": {},
     "output_type": "execute_result"
    }
   ],
   "source": [
    "data = pd.read_csv('https://raw.githubusercontent.com/NUELBUNDI/Machine-Learning-Data-Set/main/healthcare-dataset-stroke-data.csv')  # For Classification\n",
    "\n",
    "data.head(2)"
   ]
  },
  {
   "cell_type": "markdown",
   "metadata": {},
   "source": [
    "##### Data Preprocessing"
   ]
  },
  {
   "cell_type": "code",
   "execution_count": 128,
   "metadata": {},
   "outputs": [],
   "source": [
    "data.drop(columns=['id'],inplace=True)\n",
    "\n",
    "X = data.drop('stroke',axis=1)\n",
    "y = data['stroke']"
   ]
  },
  {
   "cell_type": "code",
   "execution_count": 129,
   "metadata": {},
   "outputs": [],
   "source": [
    "numerical_features_data    =  data.select_dtypes(include=['float64','int64']).columns.to_list()\n",
    "numerical_features_data.remove('stroke')\n",
    "categorical_features_data  =  data.select_dtypes(include='object').columns.to_list()\n",
    "\n",
    "\n",
    "numerical_pipeline    = Pipeline([('imputer', SimpleImputer(strategy='mean')),('scaler', StandardScaler())])\n",
    "categorical_pipeline  = Pipeline([ ('imputer', SimpleImputer(strategy='most_frequent')),('onehot', OneHotEncoder(handle_unknown='ignore'))])\n",
    "\n",
    "preprocessor = ColumnTransformer([\n",
    "                                    ('num', numerical_pipeline,  numerical_features_data),\n",
    "                                    ('cat', categorical_pipeline, categorical_features_data)\n",
    "                                ])\n",
    "\n",
    "\n",
    "# Final pipeline including the preprocessor\n",
    "pipeline = Pipeline([('preprocessor', preprocessor)])\n"
   ]
  },
  {
   "cell_type": "code",
   "execution_count": 130,
   "metadata": {},
   "outputs": [],
   "source": [
    "# Fit and transform the data\n",
    "X_transformed = pipeline.fit_transform(X)\n",
    "X_train, X_test, y_train, y_test = train_test_split(X_transformed, y, test_size=0.2, random_state=42)"
   ]
  },
  {
   "cell_type": "code",
   "execution_count": 131,
   "metadata": {},
   "outputs": [
    {
     "data": {
      "image/png": "[encoded data removed]",
      "text/plain": [
       "<Figure size 800x600 with 2 Axes>"
      ]
     },
     "metadata": {},
     "output_type": "display_data"
    }
   ],
   "source": [
    "from sklearn.linear_model import LogisticRegression\n",
    "from sklearn.metrics import confusion_matrix, classification_report\n",
    "import seaborn as sns\n",
    "\n",
    "\n",
    "# Model Training using Scikit-Learn\n",
    "log_reg = LogisticRegression()\n",
    "log_reg.fit(X_train, y_train)\n",
    "\n",
    "# Predictions\n",
    "y_pred_class = log_reg.predict(X_test)\n",
    "\n",
    "\n",
    "# Compute Confusion Matrix\n",
    "cm = confusion_matrix(y_test, y_pred_class)\n",
    "\n",
    "# Plot Confusion Matrix Heatmap\n",
    "plt.figure(figsize=(8, 6))  # Set the figure size\n",
    "sns.heatmap(cm, annot=True, fmt='d', cmap='Blues', xticklabels=['Predicted Negative', 'Predicted Positive'], yticklabels=['Actual Negative', 'Actual Positive'])\n",
    "plt.title('Confusion Matrix Heatmap')\n",
    "plt.xlabel('Predicted Class')\n",
    "plt.ylabel('Actual Class')\n",
    "plt.show()\n"
   ]
  },
  {
   "cell_type": "markdown",
   "metadata": {},
   "source": [
    "##### Classification Report"
   ]
  },
  {
   "cell_type": "code",
   "execution_count": 132,
   "metadata": {},
   "outputs": [
    {
     "name": "stdout",
     "output_type": "stream",
     "text": [
      "Classification Report:\n",
      "              precision    recall  f1-score   support\n",
      "\n",
      "           0       0.94      1.00      0.97       960\n",
      "           1       0.00      0.00      0.00        62\n",
      "\n",
      "    accuracy                           0.94      1022\n",
      "   macro avg       0.47      0.50      0.48      1022\n",
      "weighted avg       0.88      0.94      0.91      1022\n",
      "\n"
     ]
    },
    {
     "name": "stderr",
     "output_type": "stream",
     "text": [
      "C:\\Users\\Lbundi\\AppData\\Local\\anaconda3\\Lib\\site-packages\\sklearn\\metrics\\_classification.py:1344: UndefinedMetricWarning: Precision and F-score are ill-defined and being set to 0.0 in labels with no predicted samples. Use `zero_division` parameter to control this behavior.\n",
      "  _warn_prf(average, modifier, msg_start, len(result))\n",
      "C:\\Users\\Lbundi\\AppData\\Local\\anaconda3\\Lib\\site-packages\\sklearn\\metrics\\_classification.py:1344: UndefinedMetricWarning: Precision and F-score are ill-defined and being set to 0.0 in labels with no predicted samples. Use `zero_division` parameter to control this behavior.\n",
      "  _warn_prf(average, modifier, msg_start, len(result))\n",
      "C:\\Users\\Lbundi\\AppData\\Local\\anaconda3\\Lib\\site-packages\\sklearn\\metrics\\_classification.py:1344: UndefinedMetricWarning: Precision and F-score are ill-defined and being set to 0.0 in labels with no predicted samples. Use `zero_division` parameter to control this behavior.\n",
      "  _warn_prf(average, modifier, msg_start, len(result))\n"
     ]
    }
   ],
   "source": [
    "\n",
    "# Display Classification Report for additional metrics\n",
    "\n",
    "print(\"Classification Report:\")\n",
    "print(classification_report(y_test, y_pred_class))\n"
   ]
  },
  {
   "cell_type": "markdown",
   "metadata": {},
   "source": [
    "#####  Plot the ROC Curve and Compute AUC"
   ]
  },
  {
   "cell_type": "code",
   "execution_count": 133,
   "metadata": {},
   "outputs": [
    {
     "data": {
      "image/png": "[encoded data removed]",
      "text/plain": [
       "<Figure size 800x600 with 1 Axes>"
      ]
     },
     "metadata": {},
     "output_type": "display_data"
    }
   ],
   "source": [
    "from sklearn.metrics import roc_curve, roc_auc_score\n",
    "\n",
    "y_pred_proba = log_reg.predict_proba(X_test)[:, 1]  # Probability estimates for the positive class\n",
    "\n",
    "# Compute ROC Curve values\n",
    "fpr, tpr, thresholds = roc_curve(y_test, y_pred_proba)\n",
    "\n",
    "# Compute AUC\n",
    "auc = roc_auc_score(y_test, y_pred_proba)\n",
    "\n",
    "# Plot ROC Curve with shaded area\n",
    "plt.figure(figsize=(8, 6))\n",
    "plt.plot(fpr, tpr, color='blue', lw=2, label=f'ROC curve (AUC = {auc:.2f})')\n",
    "plt.fill_between(fpr, tpr, alpha=0.2, color='blue')              # Shade the area under the curve\n",
    "plt.plot([0, 1], [0, 1], color='gray', linestyle='--', lw=2)  \n",
    "plt.xlim([0.0, 1.0])\n",
    "plt.ylim([0.0, 1.05])\n",
    "plt.xlabel('False Positive Rate')\n",
    "plt.ylabel('True Positive Rate')\n",
    "plt.title('Receiver Operating Characteristic (ROC) Curve')\n",
    "plt.legend(loc='lower right')\n",
    "plt.show()\n"
   ]
  },
  {
   "cell_type": "markdown",
   "metadata": {},
   "source": [
    "- ROC Curve - The ROC curve shows the trade-off between the True Positive Rate (sensitivity) and False Positive Rate (1 - specificity) across different threshold values.\n",
    "\n",
    "- The AUC value ranges from 0 to 1 A value of 0.5 indicates a model with no discrimination ability (random guessing), while a value of 1.0 indicates perfect classification. Higher AUC values generally indicate better model performance."
   ]
  }
 ],
 "metadata": {
  "kernelspec": {
   "display_name": "Python 3 (ipykernel)",
   "language": "python",
   "name": "python3"
  },
  "language_info": {
   "codemirror_mode": {
    "name": "ipython",
    "version": 3
   },
   "file_extension": ".py",
   "mimetype": "text/x-python",
   "name": "python",
   "nbconvert_exporter": "python",
   "pygments_lexer": "ipython3",
   "version": "3.11.7"
  }
 },
 "nbformat": 4,
 "nbformat_minor": 2
}
