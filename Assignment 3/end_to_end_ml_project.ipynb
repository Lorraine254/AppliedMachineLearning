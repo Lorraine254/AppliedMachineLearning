{
 "cells": [
  {
   "cell_type": "markdown",
   "metadata": {},
   "source": [
    "#### End to End Machine Learnin Project\n",
    "\n",
    "Machine Learning Project will generall follow  the below machine learning development cycle\n",
    "\n",
    "1. Problem defination/ Statement\n",
    "2. Collection of data\n",
    "3. Data Cleaning - This will involve\n",
    "   - Handling Missing Data\n",
    "   - Handling Outliers\n",
    "   - Remove Duplicates\n",
    "   - Correct Data formats\n",
    "4. Exploratory Data Analysis\n",
    "5. Data machine Learning Pre-processing(Feature engineering) which includes\n",
    "     - Feature Transformation\n",
    "     - Feature Creation\n",
    "     - Feature Encoding\n",
    "     - Feature selection\n",
    "     - Feature Scaling\n",
    "     - Dimensionality Reduction\n",
    "     - Handling Imbalanced Data\n",
    "6. Choice of Algorithim to used based on Machine Learning problems\n",
    "7. Train your data on Train set\n",
    "8. Fine tune your model\n",
    "9. Evaluate your model\n",
    "10. Deploy your model\n",
    "\n",
    "\n",
    "----\n",
    "----\n",
    "\n",
    "In this  Noteboook we will focus on Choice of model , train and testing your models\n",
    "\n",
    "----\n",
    "----"
   ]
  },
  {
   "cell_type": "code",
   "execution_count": 80,
   "metadata": {},
   "outputs": [],
   "source": [
    "# Import packages\n",
    "\n",
    "import os\n",
    "import tarfile\n",
    "import urllib.request\n",
    "import pandas as pd\n",
    "import seaborn as sns\n",
    "import matplotlib as plt\n",
    "\n",
    "\n",
    "pd.set_option('display.float_format','{:.2f}'.format)"
   ]
  },
  {
   "cell_type": "code",
   "execution_count": 53,
   "metadata": {},
   "outputs": [],
   "source": [
    "## Load the data\n",
    "\n",
    "DOWNLOAD_ROOT =  \"https://raw.githubusercontent.com/ageron/handson-ml/master/\"\n",
    "HOUSING_PATH  =  os.path.join(\"datasets\", \"housing\")\n",
    "HOUSING_URL   =  DOWNLOAD_ROOT + \"datasets/housing/housing.tgz\"\n",
    "\n",
    "def fetch_housing_data(housing_url=HOUSING_URL, housing_path=HOUSING_PATH):\n",
    "    \n",
    "    os.makedirs(housing_path, exist_ok=True)\n",
    "    tgz_path    = os.path.join(housing_path, \"housing.tgz\")\n",
    "    urllib.request.urlretrieve(housing_url, tgz_path)\n",
    "    housing_tgz = tarfile.open(tgz_path)\n",
    "    housing_tgz.extractall(path=housing_path)\n",
    "    housing_tgz.close()"
   ]
  },
  {
   "cell_type": "code",
   "execution_count": 59,
   "metadata": {},
   "outputs": [],
   "source": [
    "# fetch_housing_data()\n",
    "\n",
    "def load_housing_data(housing_path=HOUSING_PATH):\n",
    "    csv_path = os.path.join(housing_path, \"housing.csv\")\n",
    "    return pd.read_csv(csv_path)"
   ]
  },
  {
   "cell_type": "code",
   "execution_count": 60,
   "metadata": {},
   "outputs": [
    {
     "data": {
      "text/html": [
       "<div>\n",
       "<style scoped>\n",
       "    .dataframe tbody tr th:only-of-type {\n",
       "        vertical-align: middle;\n",
       "    }\n",
       "\n",
       "    .dataframe tbody tr th {\n",
       "        vertical-align: top;\n",
       "    }\n",
       "\n",
       "    .dataframe thead th {\n",
       "        text-align: right;\n",
       "    }\n",
       "</style>\n",
       "<table border=\"1\" class=\"dataframe\">\n",
       "  <thead>\n",
       "    <tr style=\"text-align: right;\">\n",
       "      <th></th>\n",
       "      <th>longitude</th>\n",
       "      <th>latitude</th>\n",
       "      <th>housing_median_age</th>\n",
       "      <th>total_rooms</th>\n",
       "      <th>total_bedrooms</th>\n",
       "      <th>population</th>\n",
       "      <th>households</th>\n",
       "      <th>median_income</th>\n",
       "      <th>median_house_value</th>\n",
       "      <th>ocean_proximity</th>\n",
       "    </tr>\n",
       "  </thead>\n",
       "  <tbody>\n",
       "    <tr>\n",
       "      <th>0</th>\n",
       "      <td>-122.23</td>\n",
       "      <td>37.88</td>\n",
       "      <td>41.0</td>\n",
       "      <td>880.0</td>\n",
       "      <td>129.0</td>\n",
       "      <td>322.0</td>\n",
       "      <td>126.0</td>\n",
       "      <td>8.3252</td>\n",
       "      <td>452600.0</td>\n",
       "      <td>NEAR BAY</td>\n",
       "    </tr>\n",
       "    <tr>\n",
       "      <th>1</th>\n",
       "      <td>-122.22</td>\n",
       "      <td>37.86</td>\n",
       "      <td>21.0</td>\n",
       "      <td>7099.0</td>\n",
       "      <td>1106.0</td>\n",
       "      <td>2401.0</td>\n",
       "      <td>1138.0</td>\n",
       "      <td>8.3014</td>\n",
       "      <td>358500.0</td>\n",
       "      <td>NEAR BAY</td>\n",
       "    </tr>\n",
       "    <tr>\n",
       "      <th>2</th>\n",
       "      <td>-122.24</td>\n",
       "      <td>37.85</td>\n",
       "      <td>52.0</td>\n",
       "      <td>1467.0</td>\n",
       "      <td>190.0</td>\n",
       "      <td>496.0</td>\n",
       "      <td>177.0</td>\n",
       "      <td>7.2574</td>\n",
       "      <td>352100.0</td>\n",
       "      <td>NEAR BAY</td>\n",
       "    </tr>\n",
       "    <tr>\n",
       "      <th>3</th>\n",
       "      <td>-122.25</td>\n",
       "      <td>37.85</td>\n",
       "      <td>52.0</td>\n",
       "      <td>1274.0</td>\n",
       "      <td>235.0</td>\n",
       "      <td>558.0</td>\n",
       "      <td>219.0</td>\n",
       "      <td>5.6431</td>\n",
       "      <td>341300.0</td>\n",
       "      <td>NEAR BAY</td>\n",
       "    </tr>\n",
       "    <tr>\n",
       "      <th>4</th>\n",
       "      <td>-122.25</td>\n",
       "      <td>37.85</td>\n",
       "      <td>52.0</td>\n",
       "      <td>1627.0</td>\n",
       "      <td>280.0</td>\n",
       "      <td>565.0</td>\n",
       "      <td>259.0</td>\n",
       "      <td>3.8462</td>\n",
       "      <td>342200.0</td>\n",
       "      <td>NEAR BAY</td>\n",
       "    </tr>\n",
       "  </tbody>\n",
       "</table>\n",
       "</div>"
      ],
      "text/plain": [
       "   longitude  latitude  housing_median_age  total_rooms  total_bedrooms  \\\n",
       "0    -122.23     37.88                41.0        880.0           129.0   \n",
       "1    -122.22     37.86                21.0       7099.0          1106.0   \n",
       "2    -122.24     37.85                52.0       1467.0           190.0   \n",
       "3    -122.25     37.85                52.0       1274.0           235.0   \n",
       "4    -122.25     37.85                52.0       1627.0           280.0   \n",
       "\n",
       "   population  households  median_income  median_house_value ocean_proximity  \n",
       "0       322.0       126.0         8.3252            452600.0        NEAR BAY  \n",
       "1      2401.0      1138.0         8.3014            358500.0        NEAR BAY  \n",
       "2       496.0       177.0         7.2574            352100.0        NEAR BAY  \n",
       "3       558.0       219.0         5.6431            341300.0        NEAR BAY  \n",
       "4       565.0       259.0         3.8462            342200.0        NEAR BAY  "
      ]
     },
     "execution_count": 60,
     "metadata": {},
     "output_type": "execute_result"
    }
   ],
   "source": [
    "# Load the data \n",
    "\n",
    "df = load_housing_data()\n",
    "df.head()"
   ]
  },
  {
   "cell_type": "markdown",
   "metadata": {},
   "source": [
    "**Our Problem Statement**\n",
    "\n",
    "- To create a model that can predict the median_house_value, This is regression problem"
   ]
  },
  {
   "cell_type": "markdown",
   "metadata": {},
   "source": [
    "**Data Cleaning**"
   ]
  },
  {
   "cell_type": "code",
   "execution_count": 62,
   "metadata": {},
   "outputs": [
    {
     "data": {
      "text/plain": [
       "longitude               0\n",
       "latitude                0\n",
       "housing_median_age      0\n",
       "total_rooms             0\n",
       "total_bedrooms        207\n",
       "population              0\n",
       "households              0\n",
       "median_income           0\n",
       "median_house_value      0\n",
       "ocean_proximity         0\n",
       "dtype: int64"
      ]
     },
     "execution_count": 62,
     "metadata": {},
     "output_type": "execute_result"
    }
   ],
   "source": [
    "df.isna().sum()"
   ]
  },
  {
   "cell_type": "code",
   "execution_count": 63,
   "metadata": {},
   "outputs": [],
   "source": [
    "# Simple Mean Imputer to treat missing Nos\n",
    "\n",
    "df['total_bedrooms'].fillna(df['total_bedrooms'].mean(),inplace=True)"
   ]
  },
  {
   "cell_type": "markdown",
   "metadata": {},
   "source": [
    "**Data Feature engineering**\n"
   ]
  },
  {
   "cell_type": "markdown",
   "metadata": {},
   "source": [
    "**1.Feature Creation**"
   ]
  },
  {
   "cell_type": "code",
   "execution_count": 66,
   "metadata": {},
   "outputs": [],
   "source": [
    "\n",
    "\n",
    "df['rooms_per_households']     = df['total_rooms'] / df['total_bedrooms']\n",
    "df['population_per_household'] = df['population'] / df['households']"
   ]
  },
  {
   "cell_type": "markdown",
   "metadata": {},
   "source": [
    "**2.Feature Encoding**"
   ]
  },
  {
   "cell_type": "markdown",
   "metadata": {},
   "source": [
    "1. Encoding (Data Encoding:)\n",
    "\n",
    "Encoding is the process of converting data from one form to another, often for the purposes of efficient storage, transmission, or processing. It involves representing information using a specific format or set of rules. \n",
    "\n",
    "- In Data Encoding we have 2 approaches\n",
    "    1. **One Hot Encoding** : 0ne-hot encoding converts categorical variables into a series of binary variables (0 or 1). Each category is represented as a binary vector where only one element is \"hot\" (1), and the rest are \"cold\" (0). t’s commonly used when the categorical variable does not have an intrinsic order and is typically used with nominal data.\n",
    "\n",
    "    2. **Label encoding** assigns each category a unique integer value. Each category is mapped to an integer.It’s often used when the categorical variable has an order or rank (ordinal data). However, it can be misleading when applied to nominal data because the model may incorrectly infer an order or relationship between categories.\n",
    "    3. Binary encoding \n",
    "    4. Frequency encoding\n",
    "    5. Embedding (In Deep Learning) Converts categories into dense vectors of continuous numbers. These vectors capture relationships between categories in a lower-dimensional space.\n"
   ]
  },
  {
   "cell_type": "code",
   "execution_count": 67,
   "metadata": {},
   "outputs": [
    {
     "name": "stdout",
     "output_type": "stream",
     "text": [
      "[0. 0. 0. 1. 0.]\n"
     ]
    },
    {
     "data": {
      "text/html": [
       "<div>\n",
       "<style scoped>\n",
       "    .dataframe tbody tr th:only-of-type {\n",
       "        vertical-align: middle;\n",
       "    }\n",
       "\n",
       "    .dataframe tbody tr th {\n",
       "        vertical-align: top;\n",
       "    }\n",
       "\n",
       "    .dataframe thead th {\n",
       "        text-align: right;\n",
       "    }\n",
       "</style>\n",
       "<table border=\"1\" class=\"dataframe\">\n",
       "  <thead>\n",
       "    <tr style=\"text-align: right;\">\n",
       "      <th></th>\n",
       "      <th>longitude</th>\n",
       "      <th>latitude</th>\n",
       "      <th>housing_median_age</th>\n",
       "      <th>total_rooms</th>\n",
       "      <th>total_bedrooms</th>\n",
       "      <th>population</th>\n",
       "      <th>households</th>\n",
       "      <th>median_income</th>\n",
       "      <th>median_house_value</th>\n",
       "      <th>rooms_per_households</th>\n",
       "      <th>population_per_household</th>\n",
       "      <th>ocean_proximity_&lt;1H OCEAN</th>\n",
       "      <th>ocean_proximity_INLAND</th>\n",
       "      <th>ocean_proximity_ISLAND</th>\n",
       "      <th>ocean_proximity_NEAR BAY</th>\n",
       "      <th>ocean_proximity_NEAR OCEAN</th>\n",
       "    </tr>\n",
       "  </thead>\n",
       "  <tbody>\n",
       "    <tr>\n",
       "      <th>0</th>\n",
       "      <td>-122.23</td>\n",
       "      <td>37.88</td>\n",
       "      <td>41.0</td>\n",
       "      <td>880.0</td>\n",
       "      <td>129.0</td>\n",
       "      <td>322.0</td>\n",
       "      <td>126.0</td>\n",
       "      <td>8.3252</td>\n",
       "      <td>452600.0</td>\n",
       "      <td>6.821705</td>\n",
       "      <td>2.555556</td>\n",
       "      <td>0.0</td>\n",
       "      <td>0.0</td>\n",
       "      <td>0.0</td>\n",
       "      <td>1.0</td>\n",
       "      <td>0.0</td>\n",
       "    </tr>\n",
       "  </tbody>\n",
       "</table>\n",
       "</div>"
      ],
      "text/plain": [
       "   longitude  latitude  housing_median_age  total_rooms  total_bedrooms  \\\n",
       "0    -122.23     37.88                41.0        880.0           129.0   \n",
       "\n",
       "   population  households  median_income  median_house_value  \\\n",
       "0       322.0       126.0         8.3252            452600.0   \n",
       "\n",
       "   rooms_per_households  population_per_household  ocean_proximity_<1H OCEAN  \\\n",
       "0              6.821705                  2.555556                        0.0   \n",
       "\n",
       "   ocean_proximity_INLAND  ocean_proximity_ISLAND  ocean_proximity_NEAR BAY  \\\n",
       "0                     0.0                     0.0                       1.0   \n",
       "\n",
       "   ocean_proximity_NEAR OCEAN  \n",
       "0                         0.0  "
      ]
     },
     "execution_count": 67,
     "metadata": {},
     "output_type": "execute_result"
    }
   ],
   "source": [
    "# We will use One Hot Encoding function from sklearn model\n",
    "from sklearn.preprocessing import OneHotEncoder\n",
    "\n",
    "# Intialize the oneHotEncoder\n",
    "encoder = OneHotEncoder(sparse_output=False)\n",
    "\n",
    "#Fit and Transform the data\n",
    "encoder_data = encoder.fit_transform(df[['ocean_proximity']])\n",
    "print(encoder_data[0])\n",
    "\n",
    "#  Convert the encoded data to a DataFrame for easier visualization\n",
    "encoded_df = pd.DataFrame(encoder_data, columns=encoder.get_feature_names_out(['ocean_proximity']))\n",
    "\n",
    "df = pd.concat([df, encoded_df], axis=1).drop(columns=['ocean_proximity'])\n",
    "df.head(1)"
   ]
  },
  {
   "cell_type": "markdown",
   "metadata": {},
   "source": [
    "**Create a Test & Train**"
   ]
  },
  {
   "cell_type": "code",
   "execution_count": 69,
   "metadata": {},
   "outputs": [],
   "source": [
    "from sklearn.model_selection import train_test_split\n",
    "\n",
    "\n",
    "# First we split data into Target and Input Features\n",
    "\n",
    "X = df.drop(columns='median_house_value')\n",
    "y = df['median_house_value']\n",
    "\n",
    "X_train , X_test, y_train , y_test = train_test_split(X,y, test_size=0.2, random_state=42)"
   ]
  },
  {
   "cell_type": "markdown",
   "metadata": {},
   "source": [
    "**Now Lets use our regressor Models**\n",
    "\n",
    "For this example we will work with 3\n",
    "\n",
    "1. Linear Regression\n",
    "2. Random Forest regessor\n",
    "3. DecisionTreeRegressor\n",
    "\n",
    "---\n",
    "---\n",
    "\n",
    "And since we are working with regression models our evaluation metrics we will use\n",
    "\n",
    "1. MSE - Mean Squared Error\n",
    "2. RMSE - Root Mean Squared Error\n",
    "3. MAPE - Mean Absolute Percentaga Error\n",
    "4. R2 Adjusted"
   ]
  },
  {
   "cell_type": "code",
   "execution_count": 76,
   "metadata": {},
   "outputs": [
    {
     "data": {
      "text/plain": [
       "{'model_name': 'RandomForestRegressor',\n",
       " 'LinearRegression': {'MSE': 5008649147.18831,\n",
       "  'RMSE': 70771.8103992565,\n",
       "  'MAPE': 0.295955219645154,\n",
       "  'R^2': 0.6177796985249637},\n",
       " 'DecisionTreeRegressor': {'MSE': 5255240751.692587,\n",
       "  'RMSE': 72493.03933270136,\n",
       "  'MAPE': 0.24656393348429215,\n",
       "  'R^2': 0.5989617868196193},\n",
       " 'RandomForestRegressor': {'MSE': 2544644770.5614924,\n",
       "  'RMSE': 50444.47215068756,\n",
       "  'MAPE': 0.18311246884144228,\n",
       "  'R^2': 0.8058129322360537}}"
      ]
     },
     "execution_count": 76,
     "metadata": {},
     "output_type": "execute_result"
    }
   ],
   "source": [
    "# Lets use our regressors models to create Base Models \n",
    "\n",
    "from sklearn.linear_model import LinearRegression\n",
    "from sklearn.tree         import DecisionTreeRegressor \n",
    "from sklearn.ensemble     import RandomForestRegressor\n",
    "from sklearn.metrics      import mean_absolute_percentage_error , mean_squared_error ,r2_score\n",
    "\n",
    "from math import sqrt\n",
    "\n",
    "\n",
    "# create an instance of the model\n",
    "models = [LinearRegression(),\n",
    "          DecisionTreeRegressor(),\n",
    "          RandomForestRegressor()\n",
    "          ]\n",
    "\n",
    "\n",
    "results ={}\n",
    "\n",
    "for model in models:\n",
    "    model.fit(X_train,y_train)\n",
    "    y_preds = model.predict(X_test)\n",
    "    results['model_name'] = model.__class__.__name__\n",
    "    \n",
    "    # Evaluate\n",
    "    mse_score  = mean_squared_error(y_test,y_preds)\n",
    "    rmse_score = sqrt(mse_score)\n",
    "    mape_score = mean_absolute_percentage_error(y_test,y_preds)\n",
    "    r_score    = r2_score(y_test,y_preds)\n",
    "    \n",
    "    # Store the results\n",
    "    results[model.__class__.__name__] = {\n",
    "        'MSE' : mse_score,\n",
    "        'RMSE': rmse_score,\n",
    "        'MAPE': mape_score,\n",
    "        'R^2' : r_score\n",
    "        }\n",
    "    \n",
    "results"
   ]
  },
  {
   "cell_type": "code",
   "execution_count": 81,
   "metadata": {},
   "outputs": [
    {
     "data": {
      "text/html": [
       "<div>\n",
       "<style scoped>\n",
       "    .dataframe tbody tr th:only-of-type {\n",
       "        vertical-align: middle;\n",
       "    }\n",
       "\n",
       "    .dataframe tbody tr th {\n",
       "        vertical-align: top;\n",
       "    }\n",
       "\n",
       "    .dataframe thead th {\n",
       "        text-align: right;\n",
       "    }\n",
       "</style>\n",
       "<table border=\"1\" class=\"dataframe\">\n",
       "  <thead>\n",
       "    <tr style=\"text-align: right;\">\n",
       "      <th></th>\n",
       "      <th>MSE</th>\n",
       "      <th>RMSE</th>\n",
       "      <th>MAPE</th>\n",
       "      <th>R^2</th>\n",
       "    </tr>\n",
       "  </thead>\n",
       "  <tbody>\n",
       "    <tr>\n",
       "      <th>LinearRegression</th>\n",
       "      <td>5008649147.19</td>\n",
       "      <td>70771.81</td>\n",
       "      <td>0.30</td>\n",
       "      <td>0.62</td>\n",
       "    </tr>\n",
       "    <tr>\n",
       "      <th>DecisionTreeRegressor</th>\n",
       "      <td>5255240751.69</td>\n",
       "      <td>72493.04</td>\n",
       "      <td>0.25</td>\n",
       "      <td>0.60</td>\n",
       "    </tr>\n",
       "    <tr>\n",
       "      <th>RandomForestRegressor</th>\n",
       "      <td>2544644770.56</td>\n",
       "      <td>50444.47</td>\n",
       "      <td>0.18</td>\n",
       "      <td>0.81</td>\n",
       "    </tr>\n",
       "  </tbody>\n",
       "</table>\n",
       "</div>"
      ],
      "text/plain": [
       "                                MSE     RMSE  MAPE  R^2\n",
       "LinearRegression      5008649147.19 70771.81  0.30 0.62\n",
       "DecisionTreeRegressor 5255240751.69 72493.04  0.25 0.60\n",
       "RandomForestRegressor 2544644770.56 50444.47  0.18 0.81"
      ]
     },
     "execution_count": 81,
     "metadata": {},
     "output_type": "execute_result"
    }
   ],
   "source": [
    "# Remove the 'model_name' key if present\n",
    "results.pop('model_name', None)\n",
    "\n",
    "# Convert the cleaned results dictionary to a DataFrame\n",
    "results_df = pd.DataFrame.from_dict(results, orient='index')\n",
    "results_df"
   ]
  },
  {
   "cell_type": "markdown",
   "metadata": {},
   "source": [
    "Metrics Explained:\n",
    "\n",
    "\n",
    "**Mean Squared Error (MSE)**\n",
    "Definition: Measures the average squared difference between the predicted values and the actual values. Lower values indicate better model performance.\n",
    "Interpretation: A lower MSE indicates that the model’s predictions are closer to the actual values.\n",
    "\n",
    "**Root Mean Squared Error (RMSE)**\n",
    "Definition: The square root of MSE. It represents the average distance between the predicted values and actual values in the same units as the target variable. Like MSE, lower values indicate better performance.\n",
    "Interpretation: RMSE gives a sense of how far off predictions are from actual values, on average. Lower RMSE is better.\n",
    "\n",
    "**Mean Absolute Percentage Error (MAPE)**\n",
    "Definition: Measures the average absolute percentage error between predicted values and actual values. It is expressed as a percentage. Lower values indicate better model performance.\n",
    "Interpretation: MAPE indicates the accuracy of predictions. Lower percentages mean the model's predictions are closer to the actual values on average.\n",
    "\n",
    "**R-squared (R²)**\n",
    "Definition: Represents the proportion of variance in the dependent variable that is predictable from the independent variables. Ranges from 0 to 1, where 1 indicates perfect prediction.\n",
    "Interpretation: Higher R² values mean that the model explains a larger proportion of the variance in the target variable."
   ]
  },
  {
   "cell_type": "markdown",
   "metadata": {},
   "source": [
    "Model Performance Interpretation:\n",
    "\n",
    "1. LinearRegression\n",
    "```\n",
    "MSE: 5,008,649,147.19\n",
    "RMSE: 70,771.81\n",
    "MAPE: 0.30 (30%)\n",
    "R²: 0.62\n",
    "Interpretation:\n",
    "```\n",
    "\n",
    "The Linear Regression model has a relatively high MSE and RMSE, suggesting that its predictions are on average quite far from the actual values.\n",
    "A MAPE of 30% indicates that the model's predictions are off by 30% on average, which is quite high and indicates significant prediction errors.\n",
    "An R² of 0.62 means that approximately 62% of the variance in the target variable is explained by the model. While this is decent, there is room for improvement.\n",
    "\n",
    "2. DecisionTreeRegressor\n",
    "```\n",
    "MSE: 5,255,240,751.69\n",
    "RMSE: 72,493.04\n",
    "MAPE: 0.25 (25%)\n",
    "R²: 0.60\n",
    "Interpretation:\n",
    "```\n",
    "\n",
    "The Decision Tree Regressor has a slightly higher MSE and RMSE compared to Linear Regression, indicating somewhat higher prediction errors.\n",
    "A MAPE of 25% suggests that, on average, the predictions are 25% off from the actual values, which is an improvement over Linear Regression.\n",
    "The R² of 0.60 is similar to Linear Regression, meaning the Decision Tree Regressor explains about 60% of the variance in the target variable. This is slightly lower than Linear Regression.\n",
    "\n",
    "3. RandomForestRegressor\n",
    "```\n",
    "MSE: 2,544,644,770.56\n",
    "RMSE: 50,444.47\n",
    "MAPE: 0.18 (18%)\n",
    "R²: 0.81\n",
    "\n",
    "```\n",
    "Interpretation:\n",
    "\n",
    "- The Random Forest Regressor has the lowest MSE and RMSE among the three models, indicating that its predictions are closest to the actual values on average.\n",
    "- A MAPE of 18% is the lowest among the models, suggesting it is the most accurate in terms of percentage error.\n",
    "- The R² of 0.81 means that 81% of the variance in the target variable is explained by the model, which is the highest among the models. This indicates that the Random Forest model performs the best in explaining the variability of the target variable.\n",
    "\n",
    "\n",
    "Summary Conclusion:\n",
    "- Best Performance: RandomForestRegressor stands out as the best-performing model based on all metrics: lowest MSE and RMSE, lowest MAPE, and highest R².\n"
   ]
  },
  {
   "cell_type": "markdown",
   "metadata": {},
   "source": [
    "**Fine Tune the Model Our RandomForest Regressor**"
   ]
  },
  {
   "cell_type": "code",
   "execution_count": 83,
   "metadata": {},
   "outputs": [
    {
     "name": "stdout",
     "output_type": "stream",
     "text": [
      "Fitting 5 folds for each of 50 candidates, totalling 250 fits\n",
      "Best Parameters: {'n_estimators': 300, 'min_samples_split': 5, 'min_samples_leaf': 2, 'max_features': 'sqrt', 'max_depth': 30, 'bootstrap': False}\n",
      "Best Score: 2390459714.2556105\n"
     ]
    }
   ],
   "source": [
    "from sklearn.model_selection import GridSearchCV, RandomizedSearchCV\n",
    "from sklearn.ensemble import RandomForestRegressor\n",
    "from scipy.stats import randint\n",
    "\n",
    "\n",
    "# Define Hyperparameter Grid: \n",
    "param_grid = {\n",
    "    'n_estimators': [50, 100, 200, 300],\n",
    "    'max_depth':     [None, 10, 20, 30],\n",
    "    'min_samples_split': [2, 5, 10],\n",
    "    'min_samples_leaf': [1, 2, 4],\n",
    "    'max_features': ['auto', 'sqrt', 'log2'],\n",
    "    'bootstrap':  [True, False]\n",
    "}\n",
    "\n",
    "# Create the Model: Instantiate the RandomForestRegressor\n",
    "rf = RandomForestRegressor(random_state=42)\n",
    "\n",
    "\n",
    "# Set Up Grid Search or Random Search\n",
    "# Grid Search: Tries all combinations in the parameter grid.\n",
    "# Random Search: Randomly samples combinations and is often faster.\n",
    "\n",
    "random_search = RandomizedSearchCV(estimator=rf, \n",
    "                                    param_distributions=param_grid, \n",
    "                                    n_iter=50,\n",
    "                                    scoring='neg_mean_squared_error', \n",
    "                                    cv=5,\n",
    "                                    n_jobs=-1,\n",
    "                                    verbose=2,\n",
    "                                    random_state=42)\n",
    "random_search.fit(X_train, y_train)\n",
    "\n",
    "\n",
    "print(\"Best Parameters:\", random_search.best_params_)\n",
    "print(\"Best Score:\", -random_search.best_score_)  # Negative MSE score converted to positive\n"
   ]
  },
  {
   "cell_type": "code",
   "execution_count": 85,
   "metadata": {},
   "outputs": [
    {
     "name": "stdout",
     "output_type": "stream",
     "text": [
      "MSE: 2376775118.54469\n",
      "RMSE: 48752.18065425064\n",
      "R^2: 0.8186234100948174\n"
     ]
    }
   ],
   "source": [
    "best_rf = random_search.best_estimator_\n",
    "y_preds = best_rf.predict(X_test)\n",
    "\n",
    "mse  = mean_squared_error(y_test, y_preds)\n",
    "rmse = sqrt(mse)\n",
    "r2   = r2_score(y_test, y_preds)\n",
    "\n",
    "print(\"MSE:\", mse)\n",
    "print(\"RMSE:\", rmse)\n",
    "print(\"R^2:\", r2)\n"
   ]
  },
  {
   "cell_type": "markdown",
   "metadata": {},
   "source": [
    "A slight improvement of RMSE and MSE"
   ]
  },
  {
   "cell_type": "code",
   "execution_count": 86,
   "metadata": {},
   "outputs": [
    {
     "data": {
      "text/plain": [
       "['best_random_forest_model.pkl']"
      ]
     },
     "execution_count": 86,
     "metadata": {},
     "output_type": "execute_result"
    }
   ],
   "source": [
    "import joblib\n",
    "\n",
    "# Save the best model\n",
    "joblib.dump(best_rf, 'best_random_forest_model.pkl')\n"
   ]
  },
  {
   "cell_type": "code",
   "execution_count": 87,
   "metadata": {},
   "outputs": [
    {
     "data": {
      "text/html": [
       "<style>#sk-container-id-2 {color: black;background-color: white;}#sk-container-id-2 pre{padding: 0;}#sk-container-id-2 div.sk-toggleable {background-color: white;}#sk-container-id-2 label.sk-toggleable__label {cursor: pointer;display: block;width: 100%;margin-bottom: 0;padding: 0.3em;box-sizing: border-box;text-align: center;}#sk-container-id-2 label.sk-toggleable__label-arrow:before {content: \"▸\";float: left;margin-right: 0.25em;color: #696969;}#sk-container-id-2 label.sk-toggleable__label-arrow:hover:before {color: black;}#sk-container-id-2 div.sk-estimator:hover label.sk-toggleable__label-arrow:before {color: black;}#sk-container-id-2 div.sk-toggleable__content {max-height: 0;max-width: 0;overflow: hidden;text-align: left;background-color: #f0f8ff;}#sk-container-id-2 div.sk-toggleable__content pre {margin: 0.2em;color: black;border-radius: 0.25em;background-color: #f0f8ff;}#sk-container-id-2 input.sk-toggleable__control:checked~div.sk-toggleable__content {max-height: 200px;max-width: 100%;overflow: auto;}#sk-container-id-2 input.sk-toggleable__control:checked~label.sk-toggleable__label-arrow:before {content: \"▾\";}#sk-container-id-2 div.sk-estimator input.sk-toggleable__control:checked~label.sk-toggleable__label {background-color: #d4ebff;}#sk-container-id-2 div.sk-label input.sk-toggleable__control:checked~label.sk-toggleable__label {background-color: #d4ebff;}#sk-container-id-2 input.sk-hidden--visually {border: 0;clip: rect(1px 1px 1px 1px);clip: rect(1px, 1px, 1px, 1px);height: 1px;margin: -1px;overflow: hidden;padding: 0;position: absolute;width: 1px;}#sk-container-id-2 div.sk-estimator {font-family: monospace;background-color: #f0f8ff;border: 1px dotted black;border-radius: 0.25em;box-sizing: border-box;margin-bottom: 0.5em;}#sk-container-id-2 div.sk-estimator:hover {background-color: #d4ebff;}#sk-container-id-2 div.sk-parallel-item::after {content: \"\";width: 100%;border-bottom: 1px solid gray;flex-grow: 1;}#sk-container-id-2 div.sk-label:hover label.sk-toggleable__label {background-color: #d4ebff;}#sk-container-id-2 div.sk-serial::before {content: \"\";position: absolute;border-left: 1px solid gray;box-sizing: border-box;top: 0;bottom: 0;left: 50%;z-index: 0;}#sk-container-id-2 div.sk-serial {display: flex;flex-direction: column;align-items: center;background-color: white;padding-right: 0.2em;padding-left: 0.2em;position: relative;}#sk-container-id-2 div.sk-item {position: relative;z-index: 1;}#sk-container-id-2 div.sk-parallel {display: flex;align-items: stretch;justify-content: center;background-color: white;position: relative;}#sk-container-id-2 div.sk-item::before, #sk-container-id-2 div.sk-parallel-item::before {content: \"\";position: absolute;border-left: 1px solid gray;box-sizing: border-box;top: 0;bottom: 0;left: 50%;z-index: -1;}#sk-container-id-2 div.sk-parallel-item {display: flex;flex-direction: column;z-index: 1;position: relative;background-color: white;}#sk-container-id-2 div.sk-parallel-item:first-child::after {align-self: flex-end;width: 50%;}#sk-container-id-2 div.sk-parallel-item:last-child::after {align-self: flex-start;width: 50%;}#sk-container-id-2 div.sk-parallel-item:only-child::after {width: 0;}#sk-container-id-2 div.sk-dashed-wrapped {border: 1px dashed gray;margin: 0 0.4em 0.5em 0.4em;box-sizing: border-box;padding-bottom: 0.4em;background-color: white;}#sk-container-id-2 div.sk-label label {font-family: monospace;font-weight: bold;display: inline-block;line-height: 1.2em;}#sk-container-id-2 div.sk-label-container {text-align: center;}#sk-container-id-2 div.sk-container {/* jupyter's `normalize.less` sets `[hidden] { display: none; }` but bootstrap.min.css set `[hidden] { display: none !important; }` so we also need the `!important` here to be able to override the default hidden behavior on the sphinx rendered scikit-learn.org. See: https://github.com/scikit-learn/scikit-learn/issues/21755 */display: inline-block !important;position: relative;}#sk-container-id-2 div.sk-text-repr-fallback {display: none;}</style><div id=\"sk-container-id-2\" class=\"sk-top-container\"><div class=\"sk-text-repr-fallback\"><pre>RandomForestRegressor(bootstrap=False, max_depth=30, max_features=&#x27;sqrt&#x27;,\n",
       "                      min_samples_leaf=2, min_samples_split=5, n_estimators=300,\n",
       "                      random_state=42)</pre><b>In a Jupyter environment, please rerun this cell to show the HTML representation or trust the notebook. <br />On GitHub, the HTML representation is unable to render, please try loading this page with nbviewer.org.</b></div><div class=\"sk-container\" hidden><div class=\"sk-item\"><div class=\"sk-estimator sk-toggleable\"><input class=\"sk-toggleable__control sk-hidden--visually\" id=\"sk-estimator-id-2\" type=\"checkbox\" checked><label for=\"sk-estimator-id-2\" class=\"sk-toggleable__label sk-toggleable__label-arrow\">RandomForestRegressor</label><div class=\"sk-toggleable__content\"><pre>RandomForestRegressor(bootstrap=False, max_depth=30, max_features=&#x27;sqrt&#x27;,\n",
       "                      min_samples_leaf=2, min_samples_split=5, n_estimators=300,\n",
       "                      random_state=42)</pre></div></div></div></div></div>"
      ],
      "text/plain": [
       "RandomForestRegressor(bootstrap=False, max_depth=30, max_features='sqrt',\n",
       "                      min_samples_leaf=2, min_samples_split=5, n_estimators=300,\n",
       "                      random_state=42)"
      ]
     },
     "execution_count": 87,
     "metadata": {},
     "output_type": "execute_result"
    }
   ],
   "source": [
    "# Load the model\n",
    "loaded_model = joblib.load('best_random_forest_model.pkl')\n",
    "loaded_model "
   ]
  }
 ],
 "metadata": {
  "kernelspec": {
   "display_name": "Python 3 (ipykernel)",
   "language": "python",
   "name": "python3"
  },
  "language_info": {
   "codemirror_mode": {
    "name": "ipython",
    "version": 3
   },
   "file_extension": ".py",
   "mimetype": "text/x-python",
   "name": "python",
   "nbconvert_exporter": "python",
   "pygments_lexer": "ipython3",
   "version": "3.11.7"
  }
 },
 "nbformat": 4,
 "nbformat_minor": 2
}
